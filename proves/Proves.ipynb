{
 "cells": [
  {
   "cell_type": "code",
   "execution_count": 5,
   "metadata": {},
   "outputs": [
    {
     "data": {
      "text/plain": [
       "<zip at 0x7fbb8888d888>"
      ]
     },
     "execution_count": 5,
     "metadata": {},
     "output_type": "execute_result"
    }
   ],
   "source": [
    "x = [1, 2, 3]\n",
    "y = [4, 5, 6]\n",
    "\n",
    "text_file_name = \"../normalizer/kk.txt\"\n",
    "text_file = open( text_file_name, 'r')\n",
    "\n",
    "nums = [0]\n",
    "lines = [\"<bof>\"]\n",
    "\n",
    "for line in text_file:\n",
    "    nums.append(nums[-1]+1)\n",
    "    lines.append(line)\n",
    "paired = zip(nums[:-1], lines[:-1])\n",
    "    \n",
    "text_file.close()\n",
    "\n",
    "paired"
   ]
  }
 ],
 "metadata": {
  "kernelspec": {
   "display_name": "Python 3",
   "language": "python",
   "name": "python3"
  },
  "language_info": {
   "codemirror_mode": {
    "name": "ipython",
    "version": 3
   },
   "file_extension": ".py",
   "mimetype": "text/x-python",
   "name": "python",
   "nbconvert_exporter": "python",
   "pygments_lexer": "ipython3",
   "version": "3.6.6"
  }
 },
 "nbformat": 4,
 "nbformat_minor": 2
}
