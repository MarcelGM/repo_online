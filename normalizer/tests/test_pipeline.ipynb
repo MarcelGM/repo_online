{
 "cells": [
  {
   "cell_type": "code",
   "execution_count": 17,
   "metadata": {},
   "outputs": [
    {
     "data": {
      "text/html": [
       "<div>\n",
       "<style scoped>\n",
       "    .dataframe tbody tr th:only-of-type {\n",
       "        vertical-align: middle;\n",
       "    }\n",
       "\n",
       "    .dataframe tbody tr th {\n",
       "        vertical-align: top;\n",
       "    }\n",
       "\n",
       "    .dataframe thead th {\n",
       "        text-align: right;\n",
       "    }\n",
       "</style>\n",
       "<table border=\"1\" class=\"dataframe\">\n",
       "  <thead>\n",
       "    <tr style=\"text-align: right;\">\n",
       "      <th></th>\n",
       "      <th>Original</th>\n",
       "      <th>Corrected</th>\n",
       "      <th>Transformed</th>\n",
       "    </tr>\n",
       "  </thead>\n",
       "  <tbody>\n",
       "    <tr>\n",
       "      <th>0</th>\n",
       "      <td>Ola</td>\n",
       "      <td>Hola</td>\n",
       "      <td>ola</td>\n",
       "    </tr>\n",
       "    <tr>\n",
       "      <th>1</th>\n",
       "      <td>Otra?</td>\n",
       "      <td>Otra?</td>\n",
       "      <td>otra</td>\n",
       "    </tr>\n",
       "    <tr>\n",
       "      <th>2</th>\n",
       "      <td>Star wars: the clone wars</td>\n",
       "      <td>Star wars: the clone wars</td>\n",
       "      <td>star wars the cione wars</td>\n",
       "    </tr>\n",
       "    <tr>\n",
       "      <th>3</th>\n",
       "      <td>alguna mas</td>\n",
       "      <td>alguna mas</td>\n",
       "      <td>alguna mas</td>\n",
       "    </tr>\n",
       "    <tr>\n",
       "      <th>4</th>\n",
       "      <td>Quiero ver un thriller bueno</td>\n",
       "      <td>Quiero ver un thriller bueno</td>\n",
       "      <td>quiero ver una thriller bueno</td>\n",
       "    </tr>\n",
       "  </tbody>\n",
       "</table>\n",
       "</div>"
      ],
      "text/plain": [
       "                       Original                     Corrected  \\\n",
       "0                           Ola                          Hola   \n",
       "1                         Otra?                         Otra?   \n",
       "2     Star wars: the clone wars     Star wars: the clone wars   \n",
       "3                    alguna mas                    alguna mas   \n",
       "4  Quiero ver un thriller bueno  Quiero ver un thriller bueno   \n",
       "\n",
       "                     Transformed  \n",
       "0                            ola  \n",
       "1                           otra  \n",
       "2       star wars the cione wars  \n",
       "3                     alguna mas  \n",
       "4  quiero ver una thriller bueno  "
      ]
     },
     "execution_count": 17,
     "metadata": {},
     "output_type": "execute_result"
    }
   ],
   "source": [
    "import os\n",
    "import pandas as pd\n",
    "test = pd.read_csv('Test_Fran.csv')\n",
    "test.head()"
   ]
  },
  {
   "cell_type": "code",
   "execution_count": null,
   "metadata": {},
   "outputs": [],
   "source": [
    "test_data = test[\"Corrected\"].values\n",
    "test_data[:5]\n",
    "out_file_name = \"gt_test_fran.txt\"\n",
    "with open(out_file_name, \"w\") as data:\n",
    "    for sentence in test_data:\n",
    "        string = sentence + \"\\n\"\n",
    "        data.write(string)\n",
    "\n",
    "with open(out_file_name, 'rb+') as filehandle:\n",
    "    filehandle.seek(-1, os.SEEK_END)\n",
    "    filehandle.truncate()"
   ]
  },
  {
   "cell_type": "code",
   "execution_count": 22,
   "metadata": {},
   "outputs": [
    {
     "name": "stdout",
     "output_type": "stream",
     "text": [
      "cat data_test_carla.txt | ../botcorn-text-normalization/normalize.sh -m ../botcorn-text-normalization/models/downloaded/modelprod.pt --std > kk_norm_test_carla.txt\n",
      "cat data_test_fran.txt | ../botcorn-text-normalization/normalize.sh -m ../botcorn-text-normalization/models/downloaded/modelprod.pt --std > kk_norm_test_fran.txt\n"
     ]
    }
   ],
   "source": [
    "import sys\n",
    "import os\n",
    "model = \"../botcorn-text-normalization/models/downloaded/modelprod.pt\" #sys.argv[1]\n",
    "version_name = \"kk\" #sys.argv[2]\n",
    "tests = [{\"original\": \"data_test_carla.txt\", \"gt\": \"gt_test_carla.txt\", \"norm\": \"_norm_test_carla.txt\"}, \\\n",
    "         {\"original\": \"data_test_fran.txt\", \"gt\": \"gt_test_fran.txt\", \"norm\": \"_norm_test_fran.txt\"}]\n",
    "\n",
    "for test in tests:\n",
    "    trans_out = version_name + test[\"norm\"]\n",
    "    normalize(text2norm=test[\"original\"], model=model, trans_out=trans_out)"
   ]
  },
  {
   "cell_type": "code",
   "execution_count": 21,
   "metadata": {},
   "outputs": [],
   "source": [
    "def normalize(text2norm, model, trans_out, normalize=\"../botcorn-text-normalization/normalize.sh\"):\n",
    "    cmd = \"cat \" + text2norm + \" | \" + normalize + \" -m \" + model + \" --std > \" + trans_out\n",
    "    print(cmd)\n",
    "    os.system(cmd)\n",
    "    "
   ]
  },
  {
   "cell_type": "code",
   "execution_count": 5,
   "metadata": {},
   "outputs": [],
   "source": [
    "def write_csv(self, original, corrected, normalized, output):\n",
    "    cmd = \"paste \" + original + \" \" + corrected + \" \" + normalized + \" > \" + output\n",
    "    os.system(cmd)"
   ]
  }
 ],
 "metadata": {
  "kernelspec": {
   "display_name": "Python 3",
   "language": "python",
   "name": "python3"
  },
  "language_info": {
   "codemirror_mode": {
    "name": "ipython",
    "version": 3
   },
   "file_extension": ".py",
   "mimetype": "text/x-python",
   "name": "python",
   "nbconvert_exporter": "python",
   "pygments_lexer": "ipython3",
   "version": "3.6.6"
  }
 },
 "nbformat": 4,
 "nbformat_minor": 2
}
