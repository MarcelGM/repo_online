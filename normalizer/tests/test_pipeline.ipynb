{
 "cells": [
  {
   "cell_type": "code",
   "execution_count": 17,
   "metadata": {},
   "outputs": [
    {
     "data": {
      "text/html": [
       "<div>\n",
       "<style scoped>\n",
       "    .dataframe tbody tr th:only-of-type {\n",
       "        vertical-align: middle;\n",
       "    }\n",
       "\n",
       "    .dataframe tbody tr th {\n",
       "        vertical-align: top;\n",
       "    }\n",
       "\n",
       "    .dataframe thead th {\n",
       "        text-align: right;\n",
       "    }\n",
       "</style>\n",
       "<table border=\"1\" class=\"dataframe\">\n",
       "  <thead>\n",
       "    <tr style=\"text-align: right;\">\n",
       "      <th></th>\n",
       "      <th>Original</th>\n",
       "      <th>Corrected</th>\n",
       "      <th>Transformed</th>\n",
       "    </tr>\n",
       "  </thead>\n",
       "  <tbody>\n",
       "    <tr>\n",
       "      <th>0</th>\n",
       "      <td>Ola</td>\n",
       "      <td>Hola</td>\n",
       "      <td>ola</td>\n",
       "    </tr>\n",
       "    <tr>\n",
       "      <th>1</th>\n",
       "      <td>Otra?</td>\n",
       "      <td>Otra?</td>\n",
       "      <td>otra</td>\n",
       "    </tr>\n",
       "    <tr>\n",
       "      <th>2</th>\n",
       "      <td>Star wars: the clone wars</td>\n",
       "      <td>Star wars: the clone wars</td>\n",
       "      <td>star wars the cione wars</td>\n",
       "    </tr>\n",
       "    <tr>\n",
       "      <th>3</th>\n",
       "      <td>alguna mas</td>\n",
       "      <td>alguna mas</td>\n",
       "      <td>alguna mas</td>\n",
       "    </tr>\n",
       "    <tr>\n",
       "      <th>4</th>\n",
       "      <td>Quiero ver un thriller bueno</td>\n",
       "      <td>Quiero ver un thriller bueno</td>\n",
       "      <td>quiero ver una thriller bueno</td>\n",
       "    </tr>\n",
       "  </tbody>\n",
       "</table>\n",
       "</div>"
      ],
      "text/plain": [
       "                       Original                     Corrected  \\\n",
       "0                           Ola                          Hola   \n",
       "1                         Otra?                         Otra?   \n",
       "2     Star wars: the clone wars     Star wars: the clone wars   \n",
       "3                    alguna mas                    alguna mas   \n",
       "4  Quiero ver un thriller bueno  Quiero ver un thriller bueno   \n",
       "\n",
       "                     Transformed  \n",
       "0                            ola  \n",
       "1                           otra  \n",
       "2       star wars the cione wars  \n",
       "3                     alguna mas  \n",
       "4  quiero ver una thriller bueno  "
      ]
     },
     "execution_count": 17,
     "metadata": {},
     "output_type": "execute_result"
    }
   ],
   "source": [
    "import os\n",
    "import pandas as pd\n",
    "test = pd.read_csv('Test_Fran.csv')\n",
    "test.head()"
   ]
  },
  {
   "cell_type": "code",
   "execution_count": null,
   "metadata": {},
   "outputs": [],
   "source": [
    "test_data = test[\"Corrected\"].values\n",
    "test_data[:5]\n",
    "out_file_name = \"gt_test_fran.txt\"\n",
    "with open(out_file_name, \"w\") as data:\n",
    "    for sentence in test_data:\n",
    "        string = sentence + \"\\n\"\n",
    "        data.write(string)\n",
    "\n",
    "with open(out_file_name, 'rb+') as filehandle:\n",
    "    filehandle.seek(-1, os.SEEK_END)\n",
    "    filehandle.truncate()"
   ]
  },
  {
   "cell_type": "code",
   "execution_count": 67,
   "metadata": {},
   "outputs": [
    {
     "name": "stdout",
     "output_type": "stream",
     "text": [
      "cat data_test_carla.txt | ../botcorn-text-normalization/normalize.sh -m ../botcorn-text-normalization/models/downloaded/modelprod.pt -g -1 --std > kk_norm_test_carla.txt\n",
      "echo \"Original,Corrected,Transformed\" > kk_carla.res; paste  -d ',' data_test_carla.txt gt_test_carla.txt kk_norm_test_carla.txt >> kk_carla.res\n",
      "python ../botcorn-text-normalization/analyzer.sh kk_carla.res > kk_carla.metrics\n",
      "cat data_test_fran.txt | ../botcorn-text-normalization/normalize.sh -m ../botcorn-text-normalization/models/downloaded/modelprod.pt -g 3 --std > kk_norm_test_fran.txt\n",
      "echo \"Original,Corrected,Transformed\" > kk_fran.res; paste  -d ',' data_test_fran.txt gt_test_fran.txt kk_norm_test_fran.txt >> kk_fran.res\n",
      "python ../botcorn-text-normalization/analyzer.sh kk_fran.res > kk_fran.metrics\n"
     ]
    }
   ],
   "source": [
    "import sys\n",
    "import os\n",
    "\n",
    "# script call: python test_pipeline.py model version gpu\n",
    "\n",
    "model = \"../botcorn-text-normalization/models/downloaded/modelprod.pt\" #sys.argv[1]\n",
    "version_name = \"kk\" #sys.argv[2]\n",
    "normalizer = \"../botcorn-text-normalization/normalize.sh\" #\n",
    "analyzer = \"../botcorn-text-normalization/analyzer.sh\"\n",
    "\n",
    "tests = [{\"name\": \"carla\", \"original\": \"data_test_carla.txt\", \"gt\": \"gt_test_carla.txt\", \"pred\": \"_norm_test_carla.txt\", \"res\": \"_carla.res\", \"metrics\": \"_carla.metrics\"}, \\\n",
    "         {\"name\": \"fran\", \"original\": \"data_test_fran.txt\", \"gt\": \"gt_test_fran.txt\", \"pred\": \"_norm_test_fran.txt\", \"res\": \"_fran.res\", \"metrics\": \"_fran.metrics\"}]\n",
    "\n",
    "for test in tests:\n",
    "    pred = version_name + test[\"pred\"]\n",
    "    result = version_name + test[\"res\"]\n",
    "    metric = version_name + test[\"metrics\"]\n",
    "    gpu = -1 if test[\"name\"]==\"carla\" else 3 #sys.argv[3] \n",
    "    normalize(test[\"original\"], normalizer, model, gpu, pred)\n",
    "    paste(test, pred, result)\n",
    "    calc_metrics(analyzer, result, metric)"
   ]
  },
  {
   "cell_type": "code",
   "execution_count": 65,
   "metadata": {},
   "outputs": [],
   "source": [
    "# Function to normalize a batch of sentences and get them in a norm_*.txt file\n",
    "def normalize(text2norm, normalize, model, gpu, prediction):\n",
    "    cmd = \"cat \" + text2norm + \" | \" + normalize + \" -m \" + model + \" -g \" + str(gpu) + \" --std > \" + prediction\n",
    "    print(cmd)\n",
    "    #os.system(cmd)"
   ]
  },
  {
   "cell_type": "code",
   "execution_count": 61,
   "metadata": {},
   "outputs": [],
   "source": [
    "# Function to paste Original, corrected and transformed sentences in one .res file\n",
    "def paste(test, prediction, result):\n",
    "    cmd = 'echo \"Original,Corrected,Transformed\" > ' + result + \"; \" + \\\n",
    "          \"paste  -d ',' \" + test[\"original\"] + \" \" + test[\"gt\"] + \" \" + prediction + \" >> \" + result\n",
    "    print(cmd)\n",
    "    #os.system(cmd)"
   ]
  },
  {
   "cell_type": "code",
   "execution_count": 62,
   "metadata": {},
   "outputs": [],
   "source": [
    "# Function to get metrics from a .metric file\n",
    "def calc_metrics(analyzer, result, metrics):\n",
    "    cmd = \"python \" + analyzer + \" \" + result + \" > \" + metrics\n",
    "    print(cmd)\n",
    "    #os.system(cmd)"
   ]
  },
  {
   "cell_type": "code",
   "execution_count": null,
   "metadata": {},
   "outputs": [],
   "source": [
    "vect = [1,2,3,4,5,1,7]\n",
    "print(vect.index(1))\n",
    "print(type(str(vect[1]/len(vect))))"
   ]
  },
  {
   "cell_type": "code",
   "execution_count": 53,
   "metadata": {},
   "outputs": [
    {
     "name": "stdout",
     "output_type": "stream",
     "text": [
      "he 13\n",
      "0\n",
      "ss mn\n",
      "1\n",
      "tres tercer\n",
      "2\n"
     ]
    }
   ],
   "source": [
    "import collections\n",
    "d1 = collections.OrderedDict({\"he\": 13, \"ss\": \"mn\", \"tres\": \"tercer\"})\n",
    "d2 = {\"he\": 13, \"ss\": \"mn\", \"tres\": \"tercer\"}\n",
    "dd = d2\n",
    "\n",
    "for key,val in dd.items():\n",
    "    print(key, val)\n",
    "    print(list(dd.keys()).index(key))"
   ]
  },
  {
   "cell_type": "code",
   "execution_count": 59,
   "metadata": {},
   "outputs": [
    {
     "name": "stdout",
     "output_type": "stream",
     "text": [
      "1\n",
      "ere\n",
      "ere\n"
     ]
    }
   ],
   "source": [
    "dic = {}\n",
    "#dic[\"ent\"] = \"123\"\n",
    "dic[0] = \"ere\"\n",
    "#print(len(dic))\n",
    "#print(dic[0])\n",
    "for index in range(0,len(dic)):\n",
    "    print(dic[index])"
   ]
  }
 ],
 "metadata": {
  "kernelspec": {
   "display_name": "Python 3",
   "language": "python",
   "name": "python3"
  },
  "language_info": {
   "codemirror_mode": {
    "name": "ipython",
    "version": 3
   },
   "file_extension": ".py",
   "mimetype": "text/x-python",
   "name": "python",
   "nbconvert_exporter": "python",
   "pygments_lexer": "ipython3",
   "version": "3.6.6"
  }
 },
 "nbformat": 4,
 "nbformat_minor": 2
}
