{
 "cells": [
  {
   "cell_type": "code",
   "execution_count": 11,
   "metadata": {},
   "outputs": [
    {
     "name": "stdout",
     "output_type": "stream",
     "text": [
      "generos\n",
      "keywords\n",
      "term\n",
      "\n",
      "term\n",
      "term term\n"
     ]
    }
   ],
   "source": [
    "# This script extracts entities from bilou (just B and U tags)\n",
    "\n",
    "import sys\n",
    "\n",
    "bilou_file = \"kk.bilou\" #sys.argv[1]\n",
    "entities_file = \"kk.entities\" #sys.argv[2]\n",
    "\n",
    "bilou = open(bilou_file, \"r\")\n",
    "output = open(entities_file, \"w\")\n",
    "\n",
    "for sentence in bilou:\n",
    "    tags = sentence.split(\"\\n\")[0].split(\" \")\n",
    "    entities = []\n",
    "    for tag in tags:\n",
    "        if (tag[0]=='B' or tag[0]=='U'):\n",
    "            entities.append(tag[2:])\n",
    "    line = \"\"\n",
    "    for ent in entities:\n",
    "        line += ent + \" \"\n",
    "    line = line[:-1] + \"\\n\"\n",
    "    sys.stdout.write(line)\n",
    "    output.write(line)\n",
    "    \n",
    "bilou.close()\n",
    "output.close()"
   ]
  },
  {
   "cell_type": "code",
   "execution_count": 8,
   "metadata": {},
   "outputs": [
    {
     "name": "stdout",
     "output_type": "stream",
     "text": [
      "string:  \n",
      "\n"
     ]
    }
   ],
   "source": [
    "string = \"\"\n",
    "print(\"string: \", string)\n",
    "print(string[:-1])"
   ]
  }
 ],
 "metadata": {
  "kernelspec": {
   "display_name": "Python 3",
   "language": "python",
   "name": "python3"
  },
  "language_info": {
   "codemirror_mode": {
    "name": "ipython",
    "version": 3
   },
   "file_extension": ".py",
   "mimetype": "text/x-python",
   "name": "python",
   "nbconvert_exporter": "python",
   "pygments_lexer": "ipython3",
   "version": "3.6.6"
  }
 },
 "nbformat": 4,
 "nbformat_minor": 2
}
