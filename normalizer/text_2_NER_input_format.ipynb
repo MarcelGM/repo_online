{
 "cells": [
  {
   "cell_type": "code",
   "execution_count": 43,
   "metadata": {},
   "outputs": [],
   "source": [
    "import sys\n",
    "import os\n",
    "\n",
    "text_file_name = \"kk.txt\" #sys.argv[1]\n",
    "out_file_name = \"out_kk.txt\" #sys.argv[2]\n",
    "\n",
    "text_file = open( text_file_name, 'r')\n",
    "out = open( out_file_name, 'w')\n",
    "for line in text_file:\n",
    "    line_words = line.split(\"\\n\")[0].split(\" \")\n",
    "    for word in line_words:\n",
    "        str_to_print = word + \"\\tO\\tO\\tO\\n\"\n",
    "        out.write(str_to_print)\n",
    "    out.write(\"\\n\")\n",
    "out.close()\n",
    "text_file.close()\n",
    "\n",
    "with open(out_file_name, 'rb+') as filehandle:\n",
    "    filehandle.seek(-1, os.SEEK_END)\n",
    "    filehandle.truncate()"
   ]
  },
  {
   "cell_type": "code",
   "execution_count": 35,
   "metadata": {},
   "outputs": [
    {
     "name": "stdout",
     "output_type": "stream",
     "text": [
      "0 animacion\tO\tO\tO\n",
      "\n",
      "\n",
      "\n",
      "0 animacion\tO\tO\tO\n",
      "\n",
      "1 japonesa\tO\tO\tO\n",
      "\n",
      "\n",
      "\n",
      "0 anne\tO\tO\tO\n",
      "\n",
      "1 hathaway\tO\tO\tO\n",
      "\n",
      "\n",
      "\n",
      "0 antman\tO\tO\tO\n",
      "\n",
      "\n",
      "\n",
      "0 anthony\tO\tO\tO\n",
      "\n",
      "1 hopkins\tO\tO\tO\n",
      "\n",
      "\n",
      "\n",
      "0 anthony\tO\tO\tO\n",
      "\n",
      "1 hopkins\tO\tO\tO\n",
      "\n",
      "2 y\tO\tO\tO\n",
      "\n",
      "3 jodie\tO\tO\tO\n",
      "\n",
      "4 foster\tO\tO\tO\n",
      "\n",
      "\n",
      "\n"
     ]
    }
   ],
   "source": [
    "reading = open(out_file_name, \"r\")\n",
    "for line in reading:\n",
    "    print(line)\n",
    "reading.close()"
   ]
  }
 ],
 "metadata": {
  "kernelspec": {
   "display_name": "Python 3",
   "language": "python",
   "name": "python3"
  },
  "language_info": {
   "codemirror_mode": {
    "name": "ipython",
    "version": 3
   },
   "file_extension": ".py",
   "mimetype": "text/x-python",
   "name": "python",
   "nbconvert_exporter": "python",
   "pygments_lexer": "ipython3",
   "version": "3.6.6"
  }
 },
 "nbformat": 4,
 "nbformat_minor": 2
}
