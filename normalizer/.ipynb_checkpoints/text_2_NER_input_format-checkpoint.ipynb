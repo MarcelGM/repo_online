{
 "cells": [
  {
   "cell_type": "code",
   "execution_count": 37,
   "metadata": {},
   "outputs": [
    {
     "ename": "FileNotFoundError",
     "evalue": "[Errno 2] No such file or directory: '-f'",
     "output_type": "error",
     "traceback": [
      "\u001b[0;31m---------------------------------------------------------------------------\u001b[0m",
      "\u001b[0;31mFileNotFoundError\u001b[0m                         Traceback (most recent call last)",
      "\u001b[0;32m<ipython-input-37-94c7384f84ab>\u001b[0m in \u001b[0;36m<module>\u001b[0;34m\u001b[0m\n\u001b[1;32m      4\u001b[0m \u001b[0mout_file_name\u001b[0m \u001b[0;34m=\u001b[0m \u001b[0msys\u001b[0m\u001b[0;34m.\u001b[0m\u001b[0margv\u001b[0m\u001b[0;34m[\u001b[0m\u001b[0;36m2\u001b[0m\u001b[0;34m]\u001b[0m \u001b[0;31m#\"out_kk.txt\"\u001b[0m\u001b[0;34m\u001b[0m\u001b[0m\n\u001b[1;32m      5\u001b[0m \u001b[0;34m\u001b[0m\u001b[0m\n\u001b[0;32m----> 6\u001b[0;31m \u001b[0mtext_file\u001b[0m \u001b[0;34m=\u001b[0m \u001b[0mopen\u001b[0m\u001b[0;34m(\u001b[0m \u001b[0mtext_file_name\u001b[0m\u001b[0;34m,\u001b[0m \u001b[0;34m'r'\u001b[0m\u001b[0;34m)\u001b[0m\u001b[0;34m\u001b[0m\u001b[0m\n\u001b[0m\u001b[1;32m      7\u001b[0m \u001b[0mout\u001b[0m \u001b[0;34m=\u001b[0m \u001b[0mopen\u001b[0m\u001b[0;34m(\u001b[0m \u001b[0mout_file_name\u001b[0m\u001b[0;34m,\u001b[0m \u001b[0;34m'w'\u001b[0m\u001b[0;34m)\u001b[0m\u001b[0;34m\u001b[0m\u001b[0m\n\u001b[1;32m      8\u001b[0m \u001b[0;32mfor\u001b[0m \u001b[0mline\u001b[0m \u001b[0;32min\u001b[0m \u001b[0mtext_file\u001b[0m\u001b[0;34m:\u001b[0m\u001b[0;34m\u001b[0m\u001b[0m\n",
      "\u001b[0;31mFileNotFoundError\u001b[0m: [Errno 2] No such file or directory: '-f'"
     ]
    }
   ],
   "source": [
    "import sys\n",
    "\n",
    "text_file_name = sys.argv[1] #\"kk.txt\"\n",
    "out_file_name = sys.argv[2] #\"out_kk.txt\"\n",
    "\n",
    "text_file = open( text_file_name, 'r')\n",
    "out = open( out_file_name, 'w')\n",
    "for line in text_file:\n",
    "    line_words = line.split(\"\\n\")[0].split(\" \")\n",
    "    for word in line_words:\n",
    "        str_to_print = word + \"\\tO\\tO\\tO\\n\"\n",
    "        out.write(str_to_print)\n",
    "    out.write(\"\\n\")\n",
    "out.close()\n",
    "text_file.close()"
   ]
  },
  {
   "cell_type": "code",
   "execution_count": 35,
   "metadata": {},
   "outputs": [
    {
     "name": "stdout",
     "output_type": "stream",
     "text": [
      "0 animacion\tO\tO\tO\n",
      "\n",
      "\n",
      "\n",
      "0 animacion\tO\tO\tO\n",
      "\n",
      "1 japonesa\tO\tO\tO\n",
      "\n",
      "\n",
      "\n",
      "0 anne\tO\tO\tO\n",
      "\n",
      "1 hathaway\tO\tO\tO\n",
      "\n",
      "\n",
      "\n",
      "0 antman\tO\tO\tO\n",
      "\n",
      "\n",
      "\n",
      "0 anthony\tO\tO\tO\n",
      "\n",
      "1 hopkins\tO\tO\tO\n",
      "\n",
      "\n",
      "\n",
      "0 anthony\tO\tO\tO\n",
      "\n",
      "1 hopkins\tO\tO\tO\n",
      "\n",
      "2 y\tO\tO\tO\n",
      "\n",
      "3 jodie\tO\tO\tO\n",
      "\n",
      "4 foster\tO\tO\tO\n",
      "\n",
      "\n",
      "\n"
     ]
    }
   ],
   "source": [
    "reading = open(out_file_name, \"r\")\n",
    "for line in reading:\n",
    "    print(line)\n",
    "reading.close()"
   ]
  }
 ],
 "metadata": {
  "kernelspec": {
   "display_name": "Python 3",
   "language": "python",
   "name": "python3"
  },
  "language_info": {
   "codemirror_mode": {
    "name": "ipython",
    "version": 3
   },
   "file_extension": ".py",
   "mimetype": "text/x-python",
   "name": "python",
   "nbconvert_exporter": "python",
   "pygments_lexer": "ipython3",
   "version": "3.6.6"
  }
 },
 "nbformat": 4,
 "nbformat_minor": 2
}
