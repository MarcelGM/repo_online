{
 "cells": [
  {
   "cell_type": "markdown",
   "metadata": {},
   "source": [
    "# Importing Libraries & Reading JSON"
   ]
  },
  {
   "cell_type": "code",
   "execution_count": 1,
   "metadata": {},
   "outputs": [
    {
     "name": "stdout",
     "output_type": "stream",
     "text": [
      "{'rnn_dim': [100, 150, 200, 300], 'char_rnn': [25, 50], 'word_min_freq': [0, 5, 10], 'train_batch_size': [4, 8, 16]}\n"
     ]
    }
   ],
   "source": [
    "import sys\n",
    "import os\n",
    "import subprocess\n",
    "import json\n",
    "import itertools\n",
    "import re\n",
    "\n",
    "json_list = json.load(open('parameters_json_file.json', 'r'))\n",
    "\n",
    "data = json_list[\"data\"]\n",
    "parameters = json_list[\"parameters\"]\n",
    "fixed_parameters = parameters[\"fixed\"]\n",
    "iterable_parameters = parameters[\"iterable\"]\n",
    "#print(iterable_parameters)\n",
    "#print(log_values)"
   ]
  },
  {
   "cell_type": "code",
   "execution_count": null,
   "metadata": {},
   "outputs": [],
   "source": []
  },
  {
   "cell_type": "markdown",
   "metadata": {},
   "source": [
    "## Parameters Combinations"
   ]
  },
  {
   "cell_type": "code",
   "execution_count": null,
   "metadata": {},
   "outputs": [
    {
     "name": "stdout",
     "output_type": "stream",
     "text": [
      "rnn_dim \t [100, 150, 200, 300]\n",
      "char_rnn \t [25, 50]\n",
      "word_min_freq \t [0, 5, 10]\n",
      "train_batch_size \t [4, 8, 16]\n",
      "\n",
      "Number of combinations to try: 72\n"
     ]
    }
   ],
   "source": [
    "listofvalues=iterable_parameters.values()\n",
    "args_list = []\n",
    "for it_key in iterable_parameters:\n",
    "    print(it_key, \"\\t\", iterable_parameters[it_key])\n",
    "    args_list.append(it_key)\n",
    "parameter_combinations = list(itertools.product(*listofvalues))\n",
    "print(\"\\nNumber of combinations to try:\", len(parameter_combinations))\n"
   ]
  },
  {
   "cell_type": "markdown",
   "metadata": {},
   "source": [
    "## Class: Command - add_arg()"
   ]
  },
  {
   "cell_type": "code",
   "execution_count": 3,
   "metadata": {},
   "outputs": [],
   "source": [
    "class Command_string:\n",
    "    def __init__(self, initial_string = \"python\"):\n",
    "        self.string = initial_string\n",
    "    \n",
    "    def change(self, new_string):\n",
    "        self.string = new_string\n",
    "    \n",
    "    def add_arg_str(self, string):\n",
    "        self.string += \" \" + string\n",
    "        \n",
    "    def add_arg_dic(self, key, dic):\n",
    "        self.string += \" --\" + key + \" \" + str(dic[key])\n",
    "    \n",
    "    def add_arg_val(self, key, val):\n",
    "        self.string += \" --\" + key + \" \" + str(val)"
   ]
  },
  {
   "cell_type": "markdown",
   "metadata": {},
   "source": [
    "## Commands String"
   ]
  },
  {
   "cell_type": "markdown",
   "metadata": {},
   "source": [
    "### Fixed string part"
   ]
  },
  {
   "cell_type": "code",
   "execution_count": 4,
   "metadata": {},
   "outputs": [
    {
     "name": "stdout",
     "output_type": "stream",
     "text": [
      "python ~/work/model/train.py --data_path ~/work/data/CRF --train_path train.bilou_CRF --val_path validation.bilou_CRF --test_path test.bilou_CRF --emb_path ~/work/data/embedding/pretrained_embedding.txt --char_emb_dim 25 --word_emb_dim 100 --val_batch_size 64 --max_epochs 100\n"
     ]
    }
   ],
   "source": [
    "fixed_command = Command_string()\n",
    "fixed_command.add_arg_str(json_list[\"train.py\"])\n",
    "for path_key in data:\n",
    "    fixed_command.add_arg_dic(path_key, data)\n",
    "for fixed_par_key in fixed_parameters:\n",
    "    fixed_command.add_arg_dic(fixed_par_key, fixed_parameters)\n",
    "#print(fixed_command.string)"
   ]
  },
  {
   "cell_type": "markdown",
   "metadata": {},
   "source": [
    "### Changing common part (due to arguments combinations) --> list of strings"
   ]
  },
  {
   "cell_type": "code",
   "execution_count": 5,
   "metadata": {},
   "outputs": [],
   "source": [
    "common_list = []\n",
    "tmp_command = Command_string()\n",
    "name = []\n",
    "checkpoint_dirs = []\n",
    "\n",
    "for comb in parameter_combinations:\n",
    "    tmp_command.change(fixed_command.string)\n",
    "    comb_num = parameter_combinations.index(comb)\n",
    "    name.append(\"training_\" + str(comb_num) + \"_\")\n",
    "    for it_par_key in iterable_parameters:\n",
    "        key_index = list(iterable_parameters.keys()).index(it_par_key)\n",
    "        tmp_command.add_arg_val(it_par_key, comb[key_index])             # adds --parameterName parameterValue\n",
    "        name[comb_num] += \"__\" + it_par_key + \"_\" + str(comb[key_index]) # adds __parameterName_parameterValue\n",
    "    common_list.append(tmp_command.string)"
   ]
  },
  {
   "cell_type": "markdown",
   "metadata": {},
   "source": [
    "### Showing one command"
   ]
  },
  {
   "cell_type": "code",
   "execution_count": 6,
   "metadata": {},
   "outputs": [
    {
     "name": "stdout",
     "output_type": "stream",
     "text": [
      "List length: 72\n",
      "training_3___rnn_dim_100__char_rnn_25__word_min_freq_5__train_batch_size_4\n"
     ]
    }
   ],
   "source": [
    "print(\"List length:\", len(common_list))\n",
    "index_to_show = 3\n",
    "#print(\"List command %d (%d/%d):\\n%s\" % (index_to_show, index_to_show+1, len(common_list), common_list[index_to_show]))\n",
    "print(name[3])"
   ]
  },
  {
   "cell_type": "markdown",
   "metadata": {},
   "source": [
    "## Test command"
   ]
  },
  {
   "cell_type": "code",
   "execution_count": 8,
   "metadata": {},
   "outputs": [
    {
     "name": "stdout",
     "output_type": "stream",
     "text": [
      "sorted_log_3.table\n",
      "sorted_log_3.table\n",
      "sorted_log_3.table\n",
      "sorted_log_3.table\n",
      "sorted_log_3.table\n",
      "sorted_log_3.table\n"
     ]
    }
   ],
   "source": [
    "test_command = Command_string()\n",
    "test_list = []\n",
    "\n",
    "rang = json_list[\"test_range\"]\n",
    "for training in range(rang[0],rang[1]+1):\n",
    "    file_name = json_list[\"sorted_logs\"] + \"/\" + \"sorted_log_\" + str(training) + \".table\" #Change str(3) to str(training)\n",
    "    #print(file_name)\n",
    "    log_file = open(file_name, 'r')\n",
    "    lines = log_file.readlines()#.replace('\\n', '')\n",
    "    log_values = []\n",
    "    models = []\n",
    "    for x in lines:\n",
    "        log_values.append(re.split(r'\\t+', x.rstrip('\\t').rstrip('\\n')))\n",
    "        models.append(log_values[lines.index(x)][0])\n",
    "    log_file.close()\n",
    "    \n",
    "    for top_num in range(0,json_list[\"N_best\"]):\n",
    "        test_command.change(common_list[training])\n",
    "        test_command.add_arg_val(\"load_check_point\", json_list[\"checkpoints\"] + \"/\" + name[training] \\\n",
    "                                 + \"/\" + log_values[top_num][0])\n",
    "        prediction_str = json_list[\"predictions\"] + \"/\" + \"training_\" + str(training) + \"__top_\" + str(top_num + 1) + \\\n",
    "                         \"__epoch_\" + str(log_values[top_num][1]) + \".prediction\"\n",
    "        test_command.add_arg_val(\"test_to_file\", prediction_str)\n",
    "        test_list.append(test_command.string)"
   ]
  },
  {
   "cell_type": "code",
   "execution_count": 9,
   "metadata": {},
   "outputs": [
    {
     "name": "stdout",
     "output_type": "stream",
     "text": [
      "python ~/work/model/train.py --data_path ~/work/data/CRF --train_path train.bilou_CRF --val_path validation.bilou_CRF --test_path test.bilou_CRF --emb_path ~/work/data/embedding/pretrained_embedding.txt --char_emb_dim 25 --word_emb_dim 100 --val_batch_size 64 --max_epochs 100 --rnn_dim 100 --char_rnn 25 --word_min_freq 5 --train_batch_size 4 --load_check_point ~/work/checkpoints/training_3___rnn_dim_100__char_rnn_25__word_min_freq_5__train_batch_size_4/epoch_91_valscore_checkpoint_0.9829214386176411_wc_embedding_lstm_crf.model --test_to_file ~/work/predictions/training_3__top_1__epoch_91.prediction\n"
     ]
    }
   ],
   "source": [
    "print(test_list[2*json_list[\"N_best\"]+0])\n",
    "#print(json_list[\"checkpoints\"] + \"/\" + name[comb_num] + \"/\" + log_values[top_num][0])"
   ]
  },
  {
   "cell_type": "code",
   "execution_count": 10,
   "metadata": {},
   "outputs": [],
   "source": []
  },
  {
   "cell_type": "markdown",
   "metadata": {},
   "source": [
    "# Output Files"
   ]
  },
  {
   "cell_type": "markdown",
   "metadata": {},
   "source": [
    "## Test file"
   ]
  },
  {
   "cell_type": "code",
   "execution_count": 11,
   "metadata": {},
   "outputs": [],
   "source": [
    "test_file = open(json_list[\"output_test\"], 'w')\n",
    "for line in test_list:\n",
    "    test_file.write(line + \"\\n\")\n",
    "test_file.close()"
   ]
  },
  {
   "cell_type": "code",
   "execution_count": 12,
   "metadata": {
    "scrolled": true
   },
   "outputs": [
    {
     "name": "stdout",
     "output_type": "stream",
     "text": [
      "Test file: test_commands.lst \n",
      "\n",
      " python ~/work/model/train.py --data_path ~/work/data/CRF --train_path train.bilou_CRF --val_path validation.bilou_CRF --test_path test.bilou_CRF --emb_path ~/work/data/embedding/pretrained_embedding.txt --char_emb_dim 25 --word_emb_dim 100 --val_batch_size 64 --max_epochs 100 --rnn_dim 100 --char_rnn 25 --word_min_freq 0 --train_batch_size 8 --load_check_point ~/work/checkpoints/training_1___rnn_dim_100__char_rnn_25__word_min_freq_0__train_batch_size_8/epoch_91_valscore_checkpoint_0.9829214386176411_wc_embedding_lstm_crf.model --test_to_file ~/work/predictions/training_1__top_1__epoch_91.prediction\n",
      "python ~/work/model/train.py --data_path ~/work/data/CRF --train_path train.bilou_CRF --val_path validation.bilou_CRF --test_path test.bilou_CRF --emb_path ~/work/data/embedding/pretrained_embedding.txt --char_emb_dim 25 --word_emb_dim 100 --val_batch_size 64 --max_epochs 100 --rnn_dim 100 --char_rnn 25 --word_min_freq 0 --train_batch_size 8 --load_check_point ~/work/checkpoints/training_1___rnn_dim_100__char_rnn_25__word_min_freq_0__train_batch_size_8/epoch_94_valscore_checkpoint_0.9829214386176411_wc_embedding_lstm_crf.model --test_to_file ~/work/predictions/training_1__top_2__epoch_94.prediction\n",
      "python ~/work/model/train.py --data_path ~/work/data/CRF --train_path train.bilou_CRF --val_path validation.bilou_CRF --test_path test.bilou_CRF --emb_path ~/work/data/embedding/pretrained_embedding.txt --char_emb_dim 25 --word_emb_dim 100 --val_batch_size 64 --max_epochs 100 --rnn_dim 100 --char_rnn 25 --word_min_freq 0 --train_batch_size 8 --load_check_point ~/work/checkpoints/training_1___rnn_dim_100__char_rnn_25__word_min_freq_0__train_batch_size_8/epoch_90_valscore_checkpoint_0.9791038778380551_wc_embedding_lstm_crf.model --test_to_file ~/work/predictions/training_1__top_3__epoch_90.prediction\n",
      "python ~/work/model/train.py --data_path ~/work/data/CRF --train_path train.bilou_CRF --val_path validation.bilou_CRF --test_path test.bilou_CRF --emb_path ~/work/data/embedding/pretrained_embedding.txt --char_emb_dim 25 --word_emb_dim 100 --val_batch_size 64 --max_epochs 100 --rnn_dim 100 --char_rnn 25 --word_min_freq 0 --train_batch_size 8 --load_check_point ~/work/checkpoints/training_1___rnn_dim_100__char_rnn_25__word_min_freq_0__train_batch_size_8/epoch_85_valscore_checkpoint_0.9830219007434198_wc_embedding_lstm_crf.model --test_to_file ~/work/predictions/training_1__top_4__epoch_85.prediction\n",
      "python ~/work/model/train.py --data_path ~/work/data/CRF --train_path train.bilou_CRF --val_path validation.bilou_CRF --test_path test.bilou_CRF --emb_path ~/work/data/embedding/pretrained_embedding.txt --char_emb_dim 25 --word_emb_dim 100 --val_batch_size 64 --max_epochs 100 --rnn_dim 100 --char_rnn 25 --word_min_freq 0 --train_batch_size 8 --load_check_point ~/work/checkpoints/training_1___rnn_dim_100__char_rnn_25__word_min_freq_0__train_batch_size_8/epoch_92_valscore_checkpoint_0.9829214386176411_wc_embedding_lstm_crf.model --test_to_file ~/work/predictions/training_1__top_5__epoch_92.prediction\n",
      "python ~/work/model/train.py --data_path ~/work/data/CRF --train_path train.bilou_CRF --val_path validation.bilou_CRF --test_path test.bilou_CRF --emb_path ~/work/data/embedding/pretrained_embedding.txt --char_emb_dim 25 --word_emb_dim 100 --val_batch_size 64 --max_epochs 100 --rnn_dim 100 --char_rnn 25 --word_min_freq 0 --train_batch_size 8 --load_check_point ~/work/checkpoints/training_1___rnn_dim_100__char_rnn_25__word_min_freq_0__train_batch_size_8/epoch_88_valscore_checkpoint_0.9830219007434198_wc_embedding_lstm_crf.model --test_to_file ~/work/predictions/training_1__top_6__epoch_88.prediction\n",
      "python ~/work/model/train.py --data_path ~/work/data/CRF --train_path train.bilou_CRF --val_path validation.bilou_CRF --test_path test.bilou_CRF --emb_path ~/work/data/embedding/pretrained_embedding.txt --char_emb_dim 25 --word_emb_dim 100 --val_batch_size 64 --max_epochs 100 --rnn_dim 100 --char_rnn 25 --word_min_freq 0 --train_batch_size 8 --load_check_point ~/work/checkpoints/training_1___rnn_dim_100__char_rnn_25__word_min_freq_0__train_batch_size_8/epoch_86_valscore_checkpoint_0.9828209764918626_wc_embedding_lstm_crf.model --test_to_file ~/work/predictions/training_1__top_7__epoch_86.prediction\n",
      "python ~/work/model/train.py --data_path ~/work/data/CRF --train_path train.bilou_CRF --val_path validation.bilou_CRF --test_path test.bilou_CRF --emb_path ~/work/data/embedding/pretrained_embedding.txt --char_emb_dim 25 --word_emb_dim 100 --val_batch_size 64 --max_epochs 100 --rnn_dim 100 --char_rnn 25 --word_min_freq 0 --train_batch_size 8 --load_check_point ~/work/checkpoints/training_1___rnn_dim_100__char_rnn_25__word_min_freq_0__train_batch_size_8/epoch_93_valscore_checkpoint_0.9829214386176411_wc_embedding_lstm_crf.model --test_to_file ~/work/predictions/training_1__top_8__epoch_93.prediction\n",
      "python ~/work/model/train.py --data_path ~/work/data/CRF --train_path train.bilou_CRF --val_path validation.bilou_CRF --test_path test.bilou_CRF --emb_path ~/work/data/embedding/pretrained_embedding.txt --char_emb_dim 25 --word_emb_dim 100 --val_batch_size 64 --max_epochs 100 --rnn_dim 100 --char_rnn 25 --word_min_freq 0 --train_batch_size 8 --load_check_point ~/work/checkpoints/training_1___rnn_dim_100__char_rnn_25__word_min_freq_0__train_batch_size_8/epoch_99_valscore_checkpoint_0.9830219007434198_wc_embedding_lstm_crf.model --test_to_file ~/work/predictions/training_1__top_9__epoch_99.prediction\n",
      "python ~/work/model/train.py --data_path ~/work/data/CRF --train_path train.bilou_CRF --val_path validation.bilou_CRF --test_path test.bilou_CRF --emb_path ~/work/data/embedding/pretrained_embedding.txt --char_emb_dim 25 --word_emb_dim 100 --val_batch_size 64 --max_epochs 100 --rnn_dim 100 --char_rnn 25 --word_min_freq 0 --train_batch_size 8 --load_check_point ~/work/checkpoints/training_1___rnn_dim_100__char_rnn_25__word_min_freq_0__train_batch_size_8/epoch_84_valscore_checkpoint_0.9828209764918626_wc_embedding_lstm_crf.model --test_to_file ~/work/predictions/training_1__top_10__epoch_84.prediction\n",
      "python ~/work/model/train.py --data_path ~/work/data/CRF --train_path train.bilou_CRF --val_path validation.bilou_CRF --test_path test.bilou_CRF --emb_path ~/work/data/embedding/pretrained_embedding.txt --char_emb_dim 25 --word_emb_dim 100 --val_batch_size 64 --max_epochs 100 --rnn_dim 100 --char_rnn 25 --word_min_freq 0 --train_batch_size 16 --load_check_point ~/work/checkpoints/training_2___rnn_dim_100__char_rnn_25__word_min_freq_0__train_batch_size_16/epoch_91_valscore_checkpoint_0.9829214386176411_wc_embedding_lstm_crf.model --test_to_file ~/work/predictions/training_2__top_1__epoch_91.prediction\n",
      "python ~/work/model/train.py --data_path ~/work/data/CRF --train_path train.bilou_CRF --val_path validation.bilou_CRF --test_path test.bilou_CRF --emb_path ~/work/data/embedding/pretrained_embedding.txt --char_emb_dim 25 --word_emb_dim 100 --val_batch_size 64 --max_epochs 100 --rnn_dim 100 --char_rnn 25 --word_min_freq 0 --train_batch_size 16 --load_check_point ~/work/checkpoints/training_2___rnn_dim_100__char_rnn_25__word_min_freq_0__train_batch_size_16/epoch_94_valscore_checkpoint_0.9829214386176411_wc_embedding_lstm_crf.model --test_to_file ~/work/predictions/training_2__top_2__epoch_94.prediction\n",
      "python ~/work/model/train.py --data_path ~/work/data/CRF --train_path train.bilou_CRF --val_path validation.bilou_CRF --test_path test.bilou_CRF --emb_path ~/work/data/embedding/pretrained_embedding.txt --char_emb_dim 25 --word_emb_dim 100 --val_batch_size 64 --max_epochs 100 --rnn_dim 100 --char_rnn 25 --word_min_freq 0 --train_batch_size 16 --load_check_point ~/work/checkpoints/training_2___rnn_dim_100__char_rnn_25__word_min_freq_0__train_batch_size_16/epoch_90_valscore_checkpoint_0.9791038778380551_wc_embedding_lstm_crf.model --test_to_file ~/work/predictions/training_2__top_3__epoch_90.prediction\n",
      "python ~/work/model/train.py --data_path ~/work/data/CRF --train_path train.bilou_CRF --val_path validation.bilou_CRF --test_path test.bilou_CRF --emb_path ~/work/data/embedding/pretrained_embedding.txt --char_emb_dim 25 --word_emb_dim 100 --val_batch_size 64 --max_epochs 100 --rnn_dim 100 --char_rnn 25 --word_min_freq 0 --train_batch_size 16 --load_check_point ~/work/checkpoints/training_2___rnn_dim_100__char_rnn_25__word_min_freq_0__train_batch_size_16/epoch_85_valscore_checkpoint_0.9830219007434198_wc_embedding_lstm_crf.model --test_to_file ~/work/predictions/training_2__top_4__epoch_85.prediction\n",
      "python ~/work/model/train.py --data_path ~/work/data/CRF --train_path train.bilou_CRF --val_path validation.bilou_CRF --test_path test.bilou_CRF --emb_path ~/work/data/embedding/pretrained_embedding.txt --char_emb_dim 25 --word_emb_dim 100 --val_batch_size 64 --max_epochs 100 --rnn_dim 100 --char_rnn 25 --word_min_freq 0 --train_batch_size 16 --load_check_point ~/work/checkpoints/training_2___rnn_dim_100__char_rnn_25__word_min_freq_0__train_batch_size_16/epoch_92_valscore_checkpoint_0.9829214386176411_wc_embedding_lstm_crf.model --test_to_file ~/work/predictions/training_2__top_5__epoch_92.prediction\n",
      "python ~/work/model/train.py --data_path ~/work/data/CRF --train_path train.bilou_CRF --val_path validation.bilou_CRF --test_path test.bilou_CRF --emb_path ~/work/data/embedding/pretrained_embedding.txt --char_emb_dim 25 --word_emb_dim 100 --val_batch_size 64 --max_epochs 100 --rnn_dim 100 --char_rnn 25 --word_min_freq 0 --train_batch_size 16 --load_check_point ~/work/checkpoints/training_2___rnn_dim_100__char_rnn_25__word_min_freq_0__train_batch_size_16/epoch_88_valscore_checkpoint_0.9830219007434198_wc_embedding_lstm_crf.model --test_to_file ~/work/predictions/training_2__top_6__epoch_88.prediction\n",
      "python ~/work/model/train.py --data_path ~/work/data/CRF --train_path train.bilou_CRF --val_path validation.bilou_CRF --test_path test.bilou_CRF --emb_path ~/work/data/embedding/pretrained_embedding.txt --char_emb_dim 25 --word_emb_dim 100 --val_batch_size 64 --max_epochs 100 --rnn_dim 100 --char_rnn 25 --word_min_freq 0 --train_batch_size 16 --load_check_point ~/work/checkpoints/training_2___rnn_dim_100__char_rnn_25__word_min_freq_0__train_batch_size_16/epoch_86_valscore_checkpoint_0.9828209764918626_wc_embedding_lstm_crf.model --test_to_file ~/work/predictions/training_2__top_7__epoch_86.prediction\n",
      "python ~/work/model/train.py --data_path ~/work/data/CRF --train_path train.bilou_CRF --val_path validation.bilou_CRF --test_path test.bilou_CRF --emb_path ~/work/data/embedding/pretrained_embedding.txt --char_emb_dim 25 --word_emb_dim 100 --val_batch_size 64 --max_epochs 100 --rnn_dim 100 --char_rnn 25 --word_min_freq 0 --train_batch_size 16 --load_check_point ~/work/checkpoints/training_2___rnn_dim_100__char_rnn_25__word_min_freq_0__train_batch_size_16/epoch_93_valscore_checkpoint_0.9829214386176411_wc_embedding_lstm_crf.model --test_to_file ~/work/predictions/training_2__top_8__epoch_93.prediction\n",
      "python ~/work/model/train.py --data_path ~/work/data/CRF --train_path train.bilou_CRF --val_path validation.bilou_CRF --test_path test.bilou_CRF --emb_path ~/work/data/embedding/pretrained_embedding.txt --char_emb_dim 25 --word_emb_dim 100 --val_batch_size 64 --max_epochs 100 --rnn_dim 100 --char_rnn 25 --word_min_freq 0 --train_batch_size 16 --load_check_point ~/work/checkpoints/training_2___rnn_dim_100__char_rnn_25__word_min_freq_0__train_batch_size_16/epoch_99_valscore_checkpoint_0.9830219007434198_wc_embedding_lstm_crf.model --test_to_file ~/work/predictions/training_2__top_9__epoch_99.prediction\n",
      "python ~/work/model/train.py --data_path ~/work/data/CRF --train_path train.bilou_CRF --val_path validation.bilou_CRF --test_path test.bilou_CRF --emb_path ~/work/data/embedding/pretrained_embedding.txt --char_emb_dim 25 --word_emb_dim 100 --val_batch_size 64 --max_epochs 100 --rnn_dim 100 --char_rnn 25 --word_min_freq 0 --train_batch_size 16 --load_check_point ~/work/checkpoints/training_2___rnn_dim_100__char_rnn_25__word_min_freq_0__train_batch_size_16/epoch_84_valscore_checkpoint_0.9828209764918626_wc_embedding_lstm_crf.model --test_to_file ~/work/predictions/training_2__top_10__epoch_84.prediction\n",
      "python ~/work/model/train.py --data_path ~/work/data/CRF --train_path train.bilou_CRF --val_path validation.bilou_CRF --test_path test.bilou_CRF --emb_path ~/work/data/embedding/pretrained_embedding.txt --char_emb_dim 25 --word_emb_dim 100 --val_batch_size 64 --max_epochs 100 --rnn_dim 100 --char_rnn 25 --word_min_freq 5 --train_batch_size 4 --load_check_point ~/work/checkpoints/training_3___rnn_dim_100__char_rnn_25__word_min_freq_5__train_batch_size_4/epoch_91_valscore_checkpoint_0.9829214386176411_wc_embedding_lstm_crf.model --test_to_file ~/work/predictions/training_3__top_1__epoch_91.prediction\n",
      "python ~/work/model/train.py --data_path ~/work/data/CRF --train_path train.bilou_CRF --val_path validation.bilou_CRF --test_path test.bilou_CRF --emb_path ~/work/data/embedding/pretrained_embedding.txt --char_emb_dim 25 --word_emb_dim 100 --val_batch_size 64 --max_epochs 100 --rnn_dim 100 --char_rnn 25 --word_min_freq 5 --train_batch_size 4 --load_check_point ~/work/checkpoints/training_3___rnn_dim_100__char_rnn_25__word_min_freq_5__train_batch_size_4/epoch_94_valscore_checkpoint_0.9829214386176411_wc_embedding_lstm_crf.model --test_to_file ~/work/predictions/training_3__top_2__epoch_94.prediction\n",
      "python ~/work/model/train.py --data_path ~/work/data/CRF --train_path train.bilou_CRF --val_path validation.bilou_CRF --test_path test.bilou_CRF --emb_path ~/work/data/embedding/pretrained_embedding.txt --char_emb_dim 25 --word_emb_dim 100 --val_batch_size 64 --max_epochs 100 --rnn_dim 100 --char_rnn 25 --word_min_freq 5 --train_batch_size 4 --load_check_point ~/work/checkpoints/training_3___rnn_dim_100__char_rnn_25__word_min_freq_5__train_batch_size_4/epoch_90_valscore_checkpoint_0.9791038778380551_wc_embedding_lstm_crf.model --test_to_file ~/work/predictions/training_3__top_3__epoch_90.prediction\n",
      "python ~/work/model/train.py --data_path ~/work/data/CRF --train_path train.bilou_CRF --val_path validation.bilou_CRF --test_path test.bilou_CRF --emb_path ~/work/data/embedding/pretrained_embedding.txt --char_emb_dim 25 --word_emb_dim 100 --val_batch_size 64 --max_epochs 100 --rnn_dim 100 --char_rnn 25 --word_min_freq 5 --train_batch_size 4 --load_check_point ~/work/checkpoints/training_3___rnn_dim_100__char_rnn_25__word_min_freq_5__train_batch_size_4/epoch_85_valscore_checkpoint_0.9830219007434198_wc_embedding_lstm_crf.model --test_to_file ~/work/predictions/training_3__top_4__epoch_85.prediction\n",
      "python ~/work/model/train.py --data_path ~/work/data/CRF --train_path train.bilou_CRF --val_path validation.bilou_CRF --test_path test.bilou_CRF --emb_path ~/work/data/embedding/pretrained_embedding.txt --char_emb_dim 25 --word_emb_dim 100 --val_batch_size 64 --max_epochs 100 --rnn_dim 100 --char_rnn 25 --word_min_freq 5 --train_batch_size 4 --load_check_point ~/work/checkpoints/training_3___rnn_dim_100__char_rnn_25__word_min_freq_5__train_batch_size_4/epoch_92_valscore_checkpoint_0.9829214386176411_wc_embedding_lstm_crf.model --test_to_file ~/work/predictions/training_3__top_5__epoch_92.prediction\n",
      "python ~/work/model/train.py --data_path ~/work/data/CRF --train_path train.bilou_CRF --val_path validation.bilou_CRF --test_path test.bilou_CRF --emb_path ~/work/data/embedding/pretrained_embedding.txt --char_emb_dim 25 --word_emb_dim 100 --val_batch_size 64 --max_epochs 100 --rnn_dim 100 --char_rnn 25 --word_min_freq 5 --train_batch_size 4 --load_check_point ~/work/checkpoints/training_3___rnn_dim_100__char_rnn_25__word_min_freq_5__train_batch_size_4/epoch_88_valscore_checkpoint_0.9830219007434198_wc_embedding_lstm_crf.model --test_to_file ~/work/predictions/training_3__top_6__epoch_88.prediction\n",
      "python ~/work/model/train.py --data_path ~/work/data/CRF --train_path train.bilou_CRF --val_path validation.bilou_CRF --test_path test.bilou_CRF --emb_path ~/work/data/embedding/pretrained_embedding.txt --char_emb_dim 25 --word_emb_dim 100 --val_batch_size 64 --max_epochs 100 --rnn_dim 100 --char_rnn 25 --word_min_freq 5 --train_batch_size 4 --load_check_point ~/work/checkpoints/training_3___rnn_dim_100__char_rnn_25__word_min_freq_5__train_batch_size_4/epoch_86_valscore_checkpoint_0.9828209764918626_wc_embedding_lstm_crf.model --test_to_file ~/work/predictions/training_3__top_7__epoch_86.prediction\n",
      "python ~/work/model/train.py --data_path ~/work/data/CRF --train_path train.bilou_CRF --val_path validation.bilou_CRF --test_path test.bilou_CRF --emb_path ~/work/data/embedding/pretrained_embedding.txt --char_emb_dim 25 --word_emb_dim 100 --val_batch_size 64 --max_epochs 100 --rnn_dim 100 --char_rnn 25 --word_min_freq 5 --train_batch_size 4 --load_check_point ~/work/checkpoints/training_3___rnn_dim_100__char_rnn_25__word_min_freq_5__train_batch_size_4/epoch_93_valscore_checkpoint_0.9829214386176411_wc_embedding_lstm_crf.model --test_to_file ~/work/predictions/training_3__top_8__epoch_93.prediction\n",
      "python ~/work/model/train.py --data_path ~/work/data/CRF --train_path train.bilou_CRF --val_path validation.bilou_CRF --test_path test.bilou_CRF --emb_path ~/work/data/embedding/pretrained_embedding.txt --char_emb_dim 25 --word_emb_dim 100 --val_batch_size 64 --max_epochs 100 --rnn_dim 100 --char_rnn 25 --word_min_freq 5 --train_batch_size 4 --load_check_point ~/work/checkpoints/training_3___rnn_dim_100__char_rnn_25__word_min_freq_5__train_batch_size_4/epoch_99_valscore_checkpoint_0.9830219007434198_wc_embedding_lstm_crf.model --test_to_file ~/work/predictions/training_3__top_9__epoch_99.prediction\n",
      "python ~/work/model/train.py --data_path ~/work/data/CRF --train_path train.bilou_CRF --val_path validation.bilou_CRF --test_path test.bilou_CRF --emb_path ~/work/data/embedding/pretrained_embedding.txt --char_emb_dim 25 --word_emb_dim 100 --val_batch_size 64 --max_epochs 100 --rnn_dim 100 --char_rnn 25 --word_min_freq 5 --train_batch_size 4 --load_check_point ~/work/checkpoints/training_3___rnn_dim_100__char_rnn_25__word_min_freq_5__train_batch_size_4/epoch_84_valscore_checkpoint_0.9828209764918626_wc_embedding_lstm_crf.model --test_to_file ~/work/predictions/training_3__top_10__epoch_84.prediction\n",
      "python ~/work/model/train.py --data_path ~/work/data/CRF --train_path train.bilou_CRF --val_path validation.bilou_CRF --test_path test.bilou_CRF --emb_path ~/work/data/embedding/pretrained_embedding.txt --char_emb_dim 25 --word_emb_dim 100 --val_batch_size 64 --max_epochs 100 --rnn_dim 100 --char_rnn 25 --word_min_freq 5 --train_batch_size 8 --load_check_point ~/work/checkpoints/training_4___rnn_dim_100__char_rnn_25__word_min_freq_5__train_batch_size_8/epoch_91_valscore_checkpoint_0.9829214386176411_wc_embedding_lstm_crf.model --test_to_file ~/work/predictions/training_4__top_1__epoch_91.prediction\n",
      "python ~/work/model/train.py --data_path ~/work/data/CRF --train_path train.bilou_CRF --val_path validation.bilou_CRF --test_path test.bilou_CRF --emb_path ~/work/data/embedding/pretrained_embedding.txt --char_emb_dim 25 --word_emb_dim 100 --val_batch_size 64 --max_epochs 100 --rnn_dim 100 --char_rnn 25 --word_min_freq 5 --train_batch_size 8 --load_check_point ~/work/checkpoints/training_4___rnn_dim_100__char_rnn_25__word_min_freq_5__train_batch_size_8/epoch_94_valscore_checkpoint_0.9829214386176411_wc_embedding_lstm_crf.model --test_to_file ~/work/predictions/training_4__top_2__epoch_94.prediction\n",
      "python ~/work/model/train.py --data_path ~/work/data/CRF --train_path train.bilou_CRF --val_path validation.bilou_CRF --test_path test.bilou_CRF --emb_path ~/work/data/embedding/pretrained_embedding.txt --char_emb_dim 25 --word_emb_dim 100 --val_batch_size 64 --max_epochs 100 --rnn_dim 100 --char_rnn 25 --word_min_freq 5 --train_batch_size 8 --load_check_point ~/work/checkpoints/training_4___rnn_dim_100__char_rnn_25__word_min_freq_5__train_batch_size_8/epoch_90_valscore_checkpoint_0.9791038778380551_wc_embedding_lstm_crf.model --test_to_file ~/work/predictions/training_4__top_3__epoch_90.prediction\n",
      "python ~/work/model/train.py --data_path ~/work/data/CRF --train_path train.bilou_CRF --val_path validation.bilou_CRF --test_path test.bilou_CRF --emb_path ~/work/data/embedding/pretrained_embedding.txt --char_emb_dim 25 --word_emb_dim 100 --val_batch_size 64 --max_epochs 100 --rnn_dim 100 --char_rnn 25 --word_min_freq 5 --train_batch_size 8 --load_check_point ~/work/checkpoints/training_4___rnn_dim_100__char_rnn_25__word_min_freq_5__train_batch_size_8/epoch_85_valscore_checkpoint_0.9830219007434198_wc_embedding_lstm_crf.model --test_to_file ~/work/predictions/training_4__top_4__epoch_85.prediction\n",
      "python ~/work/model/train.py --data_path ~/work/data/CRF --train_path train.bilou_CRF --val_path validation.bilou_CRF --test_path test.bilou_CRF --emb_path ~/work/data/embedding/pretrained_embedding.txt --char_emb_dim 25 --word_emb_dim 100 --val_batch_size 64 --max_epochs 100 --rnn_dim 100 --char_rnn 25 --word_min_freq 5 --train_batch_size 8 --load_check_point ~/work/checkpoints/training_4___rnn_dim_100__char_rnn_25__word_min_freq_5__train_batch_size_8/epoch_92_valscore_checkpoint_0.9829214386176411_wc_embedding_lstm_crf.model --test_to_file ~/work/predictions/training_4__top_5__epoch_92.prediction\n",
      "python ~/work/model/train.py --data_path ~/work/data/CRF --train_path train.bilou_CRF --val_path validation.bilou_CRF --test_path test.bilou_CRF --emb_path ~/work/data/embedding/pretrained_embedding.txt --char_emb_dim 25 --word_emb_dim 100 --val_batch_size 64 --max_epochs 100 --rnn_dim 100 --char_rnn 25 --word_min_freq 5 --train_batch_size 8 --load_check_point ~/work/checkpoints/training_4___rnn_dim_100__char_rnn_25__word_min_freq_5__train_batch_size_8/epoch_88_valscore_checkpoint_0.9830219007434198_wc_embedding_lstm_crf.model --test_to_file ~/work/predictions/training_4__top_6__epoch_88.prediction\n",
      "python ~/work/model/train.py --data_path ~/work/data/CRF --train_path train.bilou_CRF --val_path validation.bilou_CRF --test_path test.bilou_CRF --emb_path ~/work/data/embedding/pretrained_embedding.txt --char_emb_dim 25 --word_emb_dim 100 --val_batch_size 64 --max_epochs 100 --rnn_dim 100 --char_rnn 25 --word_min_freq 5 --train_batch_size 8 --load_check_point ~/work/checkpoints/training_4___rnn_dim_100__char_rnn_25__word_min_freq_5__train_batch_size_8/epoch_86_valscore_checkpoint_0.9828209764918626_wc_embedding_lstm_crf.model --test_to_file ~/work/predictions/training_4__top_7__epoch_86.prediction\n",
      "python ~/work/model/train.py --data_path ~/work/data/CRF --train_path train.bilou_CRF --val_path validation.bilou_CRF --test_path test.bilou_CRF --emb_path ~/work/data/embedding/pretrained_embedding.txt --char_emb_dim 25 --word_emb_dim 100 --val_batch_size 64 --max_epochs 100 --rnn_dim 100 --char_rnn 25 --word_min_freq 5 --train_batch_size 8 --load_check_point ~/work/checkpoints/training_4___rnn_dim_100__char_rnn_25__word_min_freq_5__train_batch_size_8/epoch_93_valscore_checkpoint_0.9829214386176411_wc_embedding_lstm_crf.model --test_to_file ~/work/predictions/training_4__top_8__epoch_93.prediction\n",
      "python ~/work/model/train.py --data_path ~/work/data/CRF --train_path train.bilou_CRF --val_path validation.bilou_CRF --test_path test.bilou_CRF --emb_path ~/work/data/embedding/pretrained_embedding.txt --char_emb_dim 25 --word_emb_dim 100 --val_batch_size 64 --max_epochs 100 --rnn_dim 100 --char_rnn 25 --word_min_freq 5 --train_batch_size 8 --load_check_point ~/work/checkpoints/training_4___rnn_dim_100__char_rnn_25__word_min_freq_5__train_batch_size_8/epoch_99_valscore_checkpoint_0.9830219007434198_wc_embedding_lstm_crf.model --test_to_file ~/work/predictions/training_4__top_9__epoch_99.prediction\n",
      "python ~/work/model/train.py --data_path ~/work/data/CRF --train_path train.bilou_CRF --val_path validation.bilou_CRF --test_path test.bilou_CRF --emb_path ~/work/data/embedding/pretrained_embedding.txt --char_emb_dim 25 --word_emb_dim 100 --val_batch_size 64 --max_epochs 100 --rnn_dim 100 --char_rnn 25 --word_min_freq 5 --train_batch_size 8 --load_check_point ~/work/checkpoints/training_4___rnn_dim_100__char_rnn_25__word_min_freq_5__train_batch_size_8/epoch_84_valscore_checkpoint_0.9828209764918626_wc_embedding_lstm_crf.model --test_to_file ~/work/predictions/training_4__top_10__epoch_84.prediction\n",
      "python ~/work/model/train.py --data_path ~/work/data/CRF --train_path train.bilou_CRF --val_path validation.bilou_CRF --test_path test.bilou_CRF --emb_path ~/work/data/embedding/pretrained_embedding.txt --char_emb_dim 25 --word_emb_dim 100 --val_batch_size 64 --max_epochs 100 --rnn_dim 100 --char_rnn 25 --word_min_freq 5 --train_batch_size 16 --load_check_point ~/work/checkpoints/training_5___rnn_dim_100__char_rnn_25__word_min_freq_5__train_batch_size_16/epoch_91_valscore_checkpoint_0.9829214386176411_wc_embedding_lstm_crf.model --test_to_file ~/work/predictions/training_5__top_1__epoch_91.prediction\n",
      "python ~/work/model/train.py --data_path ~/work/data/CRF --train_path train.bilou_CRF --val_path validation.bilou_CRF --test_path test.bilou_CRF --emb_path ~/work/data/embedding/pretrained_embedding.txt --char_emb_dim 25 --word_emb_dim 100 --val_batch_size 64 --max_epochs 100 --rnn_dim 100 --char_rnn 25 --word_min_freq 5 --train_batch_size 16 --load_check_point ~/work/checkpoints/training_5___rnn_dim_100__char_rnn_25__word_min_freq_5__train_batch_size_16/epoch_94_valscore_checkpoint_0.9829214386176411_wc_embedding_lstm_crf.model --test_to_file ~/work/predictions/training_5__top_2__epoch_94.prediction\n",
      "python ~/work/model/train.py --data_path ~/work/data/CRF --train_path train.bilou_CRF --val_path validation.bilou_CRF --test_path test.bilou_CRF --emb_path ~/work/data/embedding/pretrained_embedding.txt --char_emb_dim 25 --word_emb_dim 100 --val_batch_size 64 --max_epochs 100 --rnn_dim 100 --char_rnn 25 --word_min_freq 5 --train_batch_size 16 --load_check_point ~/work/checkpoints/training_5___rnn_dim_100__char_rnn_25__word_min_freq_5__train_batch_size_16/epoch_90_valscore_checkpoint_0.9791038778380551_wc_embedding_lstm_crf.model --test_to_file ~/work/predictions/training_5__top_3__epoch_90.prediction\n",
      "python ~/work/model/train.py --data_path ~/work/data/CRF --train_path train.bilou_CRF --val_path validation.bilou_CRF --test_path test.bilou_CRF --emb_path ~/work/data/embedding/pretrained_embedding.txt --char_emb_dim 25 --word_emb_dim 100 --val_batch_size 64 --max_epochs 100 --rnn_dim 100 --char_rnn 25 --word_min_freq 5 --train_batch_size 16 --load_check_point ~/work/checkpoints/training_5___rnn_dim_100__char_rnn_25__word_min_freq_5__train_batch_size_16/epoch_85_valscore_checkpoint_0.9830219007434198_wc_embedding_lstm_crf.model --test_to_file ~/work/predictions/training_5__top_4__epoch_85.prediction\n",
      "python ~/work/model/train.py --data_path ~/work/data/CRF --train_path train.bilou_CRF --val_path validation.bilou_CRF --test_path test.bilou_CRF --emb_path ~/work/data/embedding/pretrained_embedding.txt --char_emb_dim 25 --word_emb_dim 100 --val_batch_size 64 --max_epochs 100 --rnn_dim 100 --char_rnn 25 --word_min_freq 5 --train_batch_size 16 --load_check_point ~/work/checkpoints/training_5___rnn_dim_100__char_rnn_25__word_min_freq_5__train_batch_size_16/epoch_92_valscore_checkpoint_0.9829214386176411_wc_embedding_lstm_crf.model --test_to_file ~/work/predictions/training_5__top_5__epoch_92.prediction\n",
      "python ~/work/model/train.py --data_path ~/work/data/CRF --train_path train.bilou_CRF --val_path validation.bilou_CRF --test_path test.bilou_CRF --emb_path ~/work/data/embedding/pretrained_embedding.txt --char_emb_dim 25 --word_emb_dim 100 --val_batch_size 64 --max_epochs 100 --rnn_dim 100 --char_rnn 25 --word_min_freq 5 --train_batch_size 16 --load_check_point ~/work/checkpoints/training_5___rnn_dim_100__char_rnn_25__word_min_freq_5__train_batch_size_16/epoch_88_valscore_checkpoint_0.9830219007434198_wc_embedding_lstm_crf.model --test_to_file ~/work/predictions/training_5__top_6__epoch_88.prediction\n",
      "python ~/work/model/train.py --data_path ~/work/data/CRF --train_path train.bilou_CRF --val_path validation.bilou_CRF --test_path test.bilou_CRF --emb_path ~/work/data/embedding/pretrained_embedding.txt --char_emb_dim 25 --word_emb_dim 100 --val_batch_size 64 --max_epochs 100 --rnn_dim 100 --char_rnn 25 --word_min_freq 5 --train_batch_size 16 --load_check_point ~/work/checkpoints/training_5___rnn_dim_100__char_rnn_25__word_min_freq_5__train_batch_size_16/epoch_86_valscore_checkpoint_0.9828209764918626_wc_embedding_lstm_crf.model --test_to_file ~/work/predictions/training_5__top_7__epoch_86.prediction\n",
      "python ~/work/model/train.py --data_path ~/work/data/CRF --train_path train.bilou_CRF --val_path validation.bilou_CRF --test_path test.bilou_CRF --emb_path ~/work/data/embedding/pretrained_embedding.txt --char_emb_dim 25 --word_emb_dim 100 --val_batch_size 64 --max_epochs 100 --rnn_dim 100 --char_rnn 25 --word_min_freq 5 --train_batch_size 16 --load_check_point ~/work/checkpoints/training_5___rnn_dim_100__char_rnn_25__word_min_freq_5__train_batch_size_16/epoch_93_valscore_checkpoint_0.9829214386176411_wc_embedding_lstm_crf.model --test_to_file ~/work/predictions/training_5__top_8__epoch_93.prediction\n",
      "python ~/work/model/train.py --data_path ~/work/data/CRF --train_path train.bilou_CRF --val_path validation.bilou_CRF --test_path test.bilou_CRF --emb_path ~/work/data/embedding/pretrained_embedding.txt --char_emb_dim 25 --word_emb_dim 100 --val_batch_size 64 --max_epochs 100 --rnn_dim 100 --char_rnn 25 --word_min_freq 5 --train_batch_size 16 --load_check_point ~/work/checkpoints/training_5___rnn_dim_100__char_rnn_25__word_min_freq_5__train_batch_size_16/epoch_99_valscore_checkpoint_0.9830219007434198_wc_embedding_lstm_crf.model --test_to_file ~/work/predictions/training_5__top_9__epoch_99.prediction\n",
      "python ~/work/model/train.py --data_path ~/work/data/CRF --train_path train.bilou_CRF --val_path validation.bilou_CRF --test_path test.bilou_CRF --emb_path ~/work/data/embedding/pretrained_embedding.txt --char_emb_dim 25 --word_emb_dim 100 --val_batch_size 64 --max_epochs 100 --rnn_dim 100 --char_rnn 25 --word_min_freq 5 --train_batch_size 16 --load_check_point ~/work/checkpoints/training_5___rnn_dim_100__char_rnn_25__word_min_freq_5__train_batch_size_16/epoch_84_valscore_checkpoint_0.9828209764918626_wc_embedding_lstm_crf.model --test_to_file ~/work/predictions/training_5__top_10__epoch_84.prediction\n",
      "python ~/work/model/train.py --data_path ~/work/data/CRF --train_path train.bilou_CRF --val_path validation.bilou_CRF --test_path test.bilou_CRF --emb_path ~/work/data/embedding/pretrained_embedding.txt --char_emb_dim 25 --word_emb_dim 100 --val_batch_size 64 --max_epochs 100 --rnn_dim 100 --char_rnn 25 --word_min_freq 10 --train_batch_size 4 --load_check_point ~/work/checkpoints/training_6___rnn_dim_100__char_rnn_25__word_min_freq_10__train_batch_size_4/epoch_91_valscore_checkpoint_0.9829214386176411_wc_embedding_lstm_crf.model --test_to_file ~/work/predictions/training_6__top_1__epoch_91.prediction\n",
      "python ~/work/model/train.py --data_path ~/work/data/CRF --train_path train.bilou_CRF --val_path validation.bilou_CRF --test_path test.bilou_CRF --emb_path ~/work/data/embedding/pretrained_embedding.txt --char_emb_dim 25 --word_emb_dim 100 --val_batch_size 64 --max_epochs 100 --rnn_dim 100 --char_rnn 25 --word_min_freq 10 --train_batch_size 4 --load_check_point ~/work/checkpoints/training_6___rnn_dim_100__char_rnn_25__word_min_freq_10__train_batch_size_4/epoch_94_valscore_checkpoint_0.9829214386176411_wc_embedding_lstm_crf.model --test_to_file ~/work/predictions/training_6__top_2__epoch_94.prediction\n",
      "python ~/work/model/train.py --data_path ~/work/data/CRF --train_path train.bilou_CRF --val_path validation.bilou_CRF --test_path test.bilou_CRF --emb_path ~/work/data/embedding/pretrained_embedding.txt --char_emb_dim 25 --word_emb_dim 100 --val_batch_size 64 --max_epochs 100 --rnn_dim 100 --char_rnn 25 --word_min_freq 10 --train_batch_size 4 --load_check_point ~/work/checkpoints/training_6___rnn_dim_100__char_rnn_25__word_min_freq_10__train_batch_size_4/epoch_90_valscore_checkpoint_0.9791038778380551_wc_embedding_lstm_crf.model --test_to_file ~/work/predictions/training_6__top_3__epoch_90.prediction\n",
      "python ~/work/model/train.py --data_path ~/work/data/CRF --train_path train.bilou_CRF --val_path validation.bilou_CRF --test_path test.bilou_CRF --emb_path ~/work/data/embedding/pretrained_embedding.txt --char_emb_dim 25 --word_emb_dim 100 --val_batch_size 64 --max_epochs 100 --rnn_dim 100 --char_rnn 25 --word_min_freq 10 --train_batch_size 4 --load_check_point ~/work/checkpoints/training_6___rnn_dim_100__char_rnn_25__word_min_freq_10__train_batch_size_4/epoch_85_valscore_checkpoint_0.9830219007434198_wc_embedding_lstm_crf.model --test_to_file ~/work/predictions/training_6__top_4__epoch_85.prediction\n",
      "python ~/work/model/train.py --data_path ~/work/data/CRF --train_path train.bilou_CRF --val_path validation.bilou_CRF --test_path test.bilou_CRF --emb_path ~/work/data/embedding/pretrained_embedding.txt --char_emb_dim 25 --word_emb_dim 100 --val_batch_size 64 --max_epochs 100 --rnn_dim 100 --char_rnn 25 --word_min_freq 10 --train_batch_size 4 --load_check_point ~/work/checkpoints/training_6___rnn_dim_100__char_rnn_25__word_min_freq_10__train_batch_size_4/epoch_92_valscore_checkpoint_0.9829214386176411_wc_embedding_lstm_crf.model --test_to_file ~/work/predictions/training_6__top_5__epoch_92.prediction\n",
      "python ~/work/model/train.py --data_path ~/work/data/CRF --train_path train.bilou_CRF --val_path validation.bilou_CRF --test_path test.bilou_CRF --emb_path ~/work/data/embedding/pretrained_embedding.txt --char_emb_dim 25 --word_emb_dim 100 --val_batch_size 64 --max_epochs 100 --rnn_dim 100 --char_rnn 25 --word_min_freq 10 --train_batch_size 4 --load_check_point ~/work/checkpoints/training_6___rnn_dim_100__char_rnn_25__word_min_freq_10__train_batch_size_4/epoch_88_valscore_checkpoint_0.9830219007434198_wc_embedding_lstm_crf.model --test_to_file ~/work/predictions/training_6__top_6__epoch_88.prediction\n",
      "python ~/work/model/train.py --data_path ~/work/data/CRF --train_path train.bilou_CRF --val_path validation.bilou_CRF --test_path test.bilou_CRF --emb_path ~/work/data/embedding/pretrained_embedding.txt --char_emb_dim 25 --word_emb_dim 100 --val_batch_size 64 --max_epochs 100 --rnn_dim 100 --char_rnn 25 --word_min_freq 10 --train_batch_size 4 --load_check_point ~/work/checkpoints/training_6___rnn_dim_100__char_rnn_25__word_min_freq_10__train_batch_size_4/epoch_86_valscore_checkpoint_0.9828209764918626_wc_embedding_lstm_crf.model --test_to_file ~/work/predictions/training_6__top_7__epoch_86.prediction\n",
      "python ~/work/model/train.py --data_path ~/work/data/CRF --train_path train.bilou_CRF --val_path validation.bilou_CRF --test_path test.bilou_CRF --emb_path ~/work/data/embedding/pretrained_embedding.txt --char_emb_dim 25 --word_emb_dim 100 --val_batch_size 64 --max_epochs 100 --rnn_dim 100 --char_rnn 25 --word_min_freq 10 --train_batch_size 4 --load_check_point ~/work/checkpoints/training_6___rnn_dim_100__char_rnn_25__word_min_freq_10__train_batch_size_4/epoch_93_valscore_checkpoint_0.9829214386176411_wc_embedding_lstm_crf.model --test_to_file ~/work/predictions/training_6__top_8__epoch_93.prediction\n",
      "python ~/work/model/train.py --data_path ~/work/data/CRF --train_path train.bilou_CRF --val_path validation.bilou_CRF --test_path test.bilou_CRF --emb_path ~/work/data/embedding/pretrained_embedding.txt --char_emb_dim 25 --word_emb_dim 100 --val_batch_size 64 --max_epochs 100 --rnn_dim 100 --char_rnn 25 --word_min_freq 10 --train_batch_size 4 --load_check_point ~/work/checkpoints/training_6___rnn_dim_100__char_rnn_25__word_min_freq_10__train_batch_size_4/epoch_99_valscore_checkpoint_0.9830219007434198_wc_embedding_lstm_crf.model --test_to_file ~/work/predictions/training_6__top_9__epoch_99.prediction\n",
      "python ~/work/model/train.py --data_path ~/work/data/CRF --train_path train.bilou_CRF --val_path validation.bilou_CRF --test_path test.bilou_CRF --emb_path ~/work/data/embedding/pretrained_embedding.txt --char_emb_dim 25 --word_emb_dim 100 --val_batch_size 64 --max_epochs 100 --rnn_dim 100 --char_rnn 25 --word_min_freq 10 --train_batch_size 4 --load_check_point ~/work/checkpoints/training_6___rnn_dim_100__char_rnn_25__word_min_freq_10__train_batch_size_4/epoch_84_valscore_checkpoint_0.9828209764918626_wc_embedding_lstm_crf.model --test_to_file ~/work/predictions/training_6__top_10__epoch_84.prediction\n",
      "\n"
     ]
    }
   ],
   "source": [
    "test_file = open(json_list[\"output_test\"], 'r')\n",
    "print(\"Test file:\", json_list[\"output_test\"], \"\\n\\n\", test_file.read())\n",
    "test_file.close()"
   ]
  },
  {
   "cell_type": "markdown",
   "metadata": {},
   "source": [
    "## Test File"
   ]
  },
  {
   "cell_type": "code",
   "execution_count": null,
   "metadata": {},
   "outputs": [],
   "source": []
  },
  {
   "cell_type": "code",
   "execution_count": 17,
   "metadata": {
    "scrolled": false
   },
   "outputs": [
    {
     "name": "stdout",
     "output_type": "stream",
     "text": [
      "~/work/checkpoints/training_1___char_rnn_25__rnn_dim_100__word_min_freq_0__train_batch_size_8\n"
     ]
    },
    {
     "ename": "FileNotFoundError",
     "evalue": "[Errno 2] No such file or directory: '~/work/checkpoints/training_1___char_rnn_25__rnn_dim_100__word_min_freq_0__train_batch_size_8'",
     "output_type": "error",
     "traceback": [
      "\u001b[0;31m---------------------------------------------------------------------------\u001b[0m",
      "\u001b[0;31mFileNotFoundError\u001b[0m                         Traceback (most recent call last)",
      "\u001b[0;32m<ipython-input-17-827dfe9c25a8>\u001b[0m in \u001b[0;36m<module>\u001b[0;34m\u001b[0m\n\u001b[1;32m      1\u001b[0m \u001b[0mpath\u001b[0m \u001b[0;34m=\u001b[0m \u001b[0;34m\"~/work/checkpoints\"\u001b[0m\u001b[0;34m+\u001b[0m\u001b[0;34m\"/\"\u001b[0m\u001b[0;34m+\u001b[0m\u001b[0mname\u001b[0m\u001b[0;34m[\u001b[0m\u001b[0;36m1\u001b[0m\u001b[0;34m]\u001b[0m\u001b[0;34m\u001b[0m\u001b[0m\n\u001b[1;32m      2\u001b[0m \u001b[0mprint\u001b[0m\u001b[0;34m(\u001b[0m\u001b[0mpath\u001b[0m\u001b[0;34m)\u001b[0m\u001b[0;34m\u001b[0m\u001b[0m\n\u001b[0;32m----> 3\u001b[0;31m \u001b[0mos\u001b[0m\u001b[0;34m.\u001b[0m\u001b[0mchdir\u001b[0m\u001b[0;34m(\u001b[0m\u001b[0mpath\u001b[0m\u001b[0;34m)\u001b[0m\u001b[0;34m\u001b[0m\u001b[0m\n\u001b[0m\u001b[1;32m      4\u001b[0m \u001b[0mpwd\u001b[0m \u001b[0;34m=\u001b[0m \u001b[0msubprocess\u001b[0m\u001b[0;34m.\u001b[0m\u001b[0mcheck_output\u001b[0m\u001b[0;34m(\u001b[0m\u001b[0;34m\"pwd\"\u001b[0m\u001b[0;34m)\u001b[0m\u001b[0;34m\u001b[0m\u001b[0m\n\u001b[1;32m      5\u001b[0m \u001b[0mprint\u001b[0m\u001b[0;34m(\u001b[0m\u001b[0mpwd\u001b[0m\u001b[0;34m.\u001b[0m\u001b[0mdecode\u001b[0m\u001b[0;34m(\u001b[0m\u001b[0;34m\"utf-8\"\u001b[0m\u001b[0;34m)\u001b[0m\u001b[0;34m)\u001b[0m\u001b[0;34m\u001b[0m\u001b[0m\n",
      "\u001b[0;31mFileNotFoundError\u001b[0m: [Errno 2] No such file or directory: '~/work/checkpoints/training_1___char_rnn_25__rnn_dim_100__word_min_freq_0__train_batch_size_8'"
     ]
    }
   ],
   "source": [
    "path = \"~/work/checkpoints\"+\"/\"+name[1]\n",
    "print(path)\n",
    "os.chdir(path)\n",
    "pwd = subprocess.check_output(\"pwd\")\n",
    "print(pwd.decode(\"utf-8\"))\n",
    "cmd = json_list[\"sort_chekpoints_path\"] + \" -H \" + str(json_list[\"N_best\"]) + \" \" \\\n",
    "      + json_list[\"checkpoints\"] + \"/\" + name[1] + \" | cut -f 3\"\n",
    "print(cmd)\n",
    "best_epochs = subprocess.check_output(cmd)\n",
    "print(best_epochs.decode(\"utf-8\"))"
   ]
  },
  {
   "cell_type": "code",
   "execution_count": null,
   "metadata": {},
   "outputs": [],
   "source": [
    "name = []\n",
    "for i in range(0,10):\n",
    "    name.append(str(i))\n",
    "name2 = name.copy()\n",
    "name2.sort(reverse=True)\n",
    "print(name, name2)"
   ]
  },
  {
   "cell_type": "markdown",
   "metadata": {},
   "source": [
    "## Training command"
   ]
  },
  {
   "cell_type": "code",
   "execution_count": 11,
   "metadata": {},
   "outputs": [],
   "source": [
    "train_command = Command_string()\n",
    "train_list = common_list.copy()\n",
    "for comb in parameter_combinations:\n",
    "    train_command.change(\"\")\n",
    "    comb_num = parameter_combinations.index(comb)\n",
    "    train_command.add_arg_val(\"checkpoint\", json_list[\"checkpoints\"] + \"/\" + name[comb_num])\n",
    "    train_command.add_arg_str(\" | tee -a \" + json_list[\"logs\"] + \"/\" + name[comb_num] + \".log\")\n",
    "    train_list[comb_num] += train_command.string"
   ]
  },
  {
   "cell_type": "code",
   "execution_count": 12,
   "metadata": {},
   "outputs": [
    {
     "name": "stdout",
     "output_type": "stream",
     "text": [
      " --checkpoint /disks/md0-4T/users/b.mgm/checkpoints/training_71___char_rnn_50__rnn_dim_300__word_min_freq_10__train_batch_size_16  | tee -a /disks/md0-4T/users/b.mgm/logs/training_71___char_rnn_50__rnn_dim_300__word_min_freq_10__train_batch_size_16.log\n",
      "List length: 72\n",
      "List command 0 (1/72):\n",
      "python /disks/md0-4T/users/b.mgm/model/train.py --data_path /disks/md0-4T/users/b.mgm/data/CRF --test_path test.bilou_CRF --val_path validation.bilou_CRF --train_path train.bilou_CRF --emb_path /disks/md0-4T/users/b.mgm/data/embedding/pretrained_embedding.txt --word_emb_dim 100 --val_batch_size 64 --char_emb_dim 25 --max_epochs 100 --char_rnn 25 --rnn_dim 100 --word_min_freq 0 --train_batch_size 4 --checkpoint /disks/md0-4T/users/b.mgm/checkpoints/training_0___char_rnn_25__rnn_dim_100__word_min_freq_0__train_batch_size_4  | tee -a /disks/md0-4T/users/b.mgm/logs/training_0___char_rnn_25__rnn_dim_100__word_min_freq_0__train_batch_size_4.log\n",
      "List command 0 (1/72):\n",
      "python /disks/md0-4T/users/b.mgm/model/train.py --data_path /disks/md0-4T/users/b.mgm/data/CRF --test_path test.bilou_CRF --val_path validation.bilou_CRF --train_path train.bilou_CRF --emb_path /disks/md0-4T/users/b.mgm/data/embedding/pretrained_embedding.txt --word_emb_dim 100 --val_batch_size 64 --char_emb_dim 25 --max_epochs 100 --char_rnn 25 --rnn_dim 100 --word_min_freq 0 --train_batch_size 4\n"
     ]
    }
   ],
   "source": [
    "print(train_command.string)\n",
    "print(\"List length:\", len(train_list))\n",
    "index_to_show = 0\n",
    "print(\"List command %d (%d/%d):\\n%s\" % (index_to_show, index_to_show+1, len(train_list), train_list[index_to_show]))\n",
    "\n",
    "\n",
    "print(\"List command %d (%d/%d):\\n%s\" % (index_to_show, index_to_show+1, len(common_list), common_list[index_to_show]))\n"
   ]
  },
  {
   "cell_type": "markdown",
   "metadata": {},
   "source": [
    "## Train File"
   ]
  },
  {
   "cell_type": "code",
   "execution_count": 13,
   "metadata": {},
   "outputs": [],
   "source": [
    "#Opening and writing in train file\n",
    "train_file = open(json_list[\"output_train\"], 'w')\n",
    "for line in train_list:\n",
    "    train_file.write(line + \"\\n\")\n",
    "train_file.close()"
   ]
  },
  {
   "cell_type": "code",
   "execution_count": 14,
   "metadata": {
    "collapsed": true
   },
   "outputs": [
    {
     "name": "stdout",
     "output_type": "stream",
     "text": [
      "Train file: training_commands.lst \n",
      "\n",
      " python /disks/md0-4T/users/b.mgm/model/train.py --data_path /disks/md0-4T/users/b.mgm/data/CRF --test_path test.bilou_CRF --val_path validation.bilou_CRF --train_path train.bilou_CRF --emb_path /disks/md0-4T/users/b.mgm/data/embedding/pretrained_embedding.txt --word_emb_dim 100 --val_batch_size 64 --char_emb_dim 25 --max_epochs 100 --char_rnn 25 --rnn_dim 100 --word_min_freq 0 --train_batch_size 4 --checkpoint /disks/md0-4T/users/b.mgm/checkpoints/training_0___char_rnn_25__rnn_dim_100__word_min_freq_0__train_batch_size_4  | tee -a /disks/md0-4T/users/b.mgm/logs/training_0___char_rnn_25__rnn_dim_100__word_min_freq_0__train_batch_size_4.log\n",
      "python /disks/md0-4T/users/b.mgm/model/train.py --data_path /disks/md0-4T/users/b.mgm/data/CRF --test_path test.bilou_CRF --val_path validation.bilou_CRF --train_path train.bilou_CRF --emb_path /disks/md0-4T/users/b.mgm/data/embedding/pretrained_embedding.txt --word_emb_dim 100 --val_batch_size 64 --char_emb_dim 25 --max_epochs 100 --char_rnn 25 --rnn_dim 100 --word_min_freq 0 --train_batch_size 8 --checkpoint /disks/md0-4T/users/b.mgm/checkpoints/training_1___char_rnn_25__rnn_dim_100__word_min_freq_0__train_batch_size_8  | tee -a /disks/md0-4T/users/b.mgm/logs/training_1___char_rnn_25__rnn_dim_100__word_min_freq_0__train_batch_size_8.log\n",
      "python /disks/md0-4T/users/b.mgm/model/train.py --data_path /disks/md0-4T/users/b.mgm/data/CRF --test_path test.bilou_CRF --val_path validation.bilou_CRF --train_path train.bilou_CRF --emb_path /disks/md0-4T/users/b.mgm/data/embedding/pretrained_embedding.txt --word_emb_dim 100 --val_batch_size 64 --char_emb_dim 25 --max_epochs 100 --char_rnn 25 --rnn_dim 100 --word_min_freq 0 --train_batch_size 16 --checkpoint /disks/md0-4T/users/b.mgm/checkpoints/training_2___char_rnn_25__rnn_dim_100__word_min_freq_0__train_batch_size_16  | tee -a /disks/md0-4T/users/b.mgm/logs/training_2___char_rnn_25__rnn_dim_100__word_min_freq_0__train_batch_size_16.log\n",
      "python /disks/md0-4T/users/b.mgm/model/train.py --data_path /disks/md0-4T/users/b.mgm/data/CRF --test_path test.bilou_CRF --val_path validation.bilou_CRF --train_path train.bilou_CRF --emb_path /disks/md0-4T/users/b.mgm/data/embedding/pretrained_embedding.txt --word_emb_dim 100 --val_batch_size 64 --char_emb_dim 25 --max_epochs 100 --char_rnn 25 --rnn_dim 100 --word_min_freq 5 --train_batch_size 4 --checkpoint /disks/md0-4T/users/b.mgm/checkpoints/training_3___char_rnn_25__rnn_dim_100__word_min_freq_5__train_batch_size_4  | tee -a /disks/md0-4T/users/b.mgm/logs/training_3___char_rnn_25__rnn_dim_100__word_min_freq_5__train_batch_size_4.log\n",
      "python /disks/md0-4T/users/b.mgm/model/train.py --data_path /disks/md0-4T/users/b.mgm/data/CRF --test_path test.bilou_CRF --val_path validation.bilou_CRF --train_path train.bilou_CRF --emb_path /disks/md0-4T/users/b.mgm/data/embedding/pretrained_embedding.txt --word_emb_dim 100 --val_batch_size 64 --char_emb_dim 25 --max_epochs 100 --char_rnn 25 --rnn_dim 100 --word_min_freq 5 --train_batch_size 8 --checkpoint /disks/md0-4T/users/b.mgm/checkpoints/training_4___char_rnn_25__rnn_dim_100__word_min_freq_5__train_batch_size_8  | tee -a /disks/md0-4T/users/b.mgm/logs/training_4___char_rnn_25__rnn_dim_100__word_min_freq_5__train_batch_size_8.log\n",
      "python /disks/md0-4T/users/b.mgm/model/train.py --data_path /disks/md0-4T/users/b.mgm/data/CRF --test_path test.bilou_CRF --val_path validation.bilou_CRF --train_path train.bilou_CRF --emb_path /disks/md0-4T/users/b.mgm/data/embedding/pretrained_embedding.txt --word_emb_dim 100 --val_batch_size 64 --char_emb_dim 25 --max_epochs 100 --char_rnn 25 --rnn_dim 100 --word_min_freq 5 --train_batch_size 16 --checkpoint /disks/md0-4T/users/b.mgm/checkpoints/training_5___char_rnn_25__rnn_dim_100__word_min_freq_5__train_batch_size_16  | tee -a /disks/md0-4T/users/b.mgm/logs/training_5___char_rnn_25__rnn_dim_100__word_min_freq_5__train_batch_size_16.log\n",
      "python /disks/md0-4T/users/b.mgm/model/train.py --data_path /disks/md0-4T/users/b.mgm/data/CRF --test_path test.bilou_CRF --val_path validation.bilou_CRF --train_path train.bilou_CRF --emb_path /disks/md0-4T/users/b.mgm/data/embedding/pretrained_embedding.txt --word_emb_dim 100 --val_batch_size 64 --char_emb_dim 25 --max_epochs 100 --char_rnn 25 --rnn_dim 100 --word_min_freq 10 --train_batch_size 4 --checkpoint /disks/md0-4T/users/b.mgm/checkpoints/training_6___char_rnn_25__rnn_dim_100__word_min_freq_10__train_batch_size_4  | tee -a /disks/md0-4T/users/b.mgm/logs/training_6___char_rnn_25__rnn_dim_100__word_min_freq_10__train_batch_size_4.log\n",
      "python /disks/md0-4T/users/b.mgm/model/train.py --data_path /disks/md0-4T/users/b.mgm/data/CRF --test_path test.bilou_CRF --val_path validation.bilou_CRF --train_path train.bilou_CRF --emb_path /disks/md0-4T/users/b.mgm/data/embedding/pretrained_embedding.txt --word_emb_dim 100 --val_batch_size 64 --char_emb_dim 25 --max_epochs 100 --char_rnn 25 --rnn_dim 100 --word_min_freq 10 --train_batch_size 8 --checkpoint /disks/md0-4T/users/b.mgm/checkpoints/training_7___char_rnn_25__rnn_dim_100__word_min_freq_10__train_batch_size_8  | tee -a /disks/md0-4T/users/b.mgm/logs/training_7___char_rnn_25__rnn_dim_100__word_min_freq_10__train_batch_size_8.log\n",
      "python /disks/md0-4T/users/b.mgm/model/train.py --data_path /disks/md0-4T/users/b.mgm/data/CRF --test_path test.bilou_CRF --val_path validation.bilou_CRF --train_path train.bilou_CRF --emb_path /disks/md0-4T/users/b.mgm/data/embedding/pretrained_embedding.txt --word_emb_dim 100 --val_batch_size 64 --char_emb_dim 25 --max_epochs 100 --char_rnn 25 --rnn_dim 100 --word_min_freq 10 --train_batch_size 16 --checkpoint /disks/md0-4T/users/b.mgm/checkpoints/training_8___char_rnn_25__rnn_dim_100__word_min_freq_10__train_batch_size_16  | tee -a /disks/md0-4T/users/b.mgm/logs/training_8___char_rnn_25__rnn_dim_100__word_min_freq_10__train_batch_size_16.log\n",
      "python /disks/md0-4T/users/b.mgm/model/train.py --data_path /disks/md0-4T/users/b.mgm/data/CRF --test_path test.bilou_CRF --val_path validation.bilou_CRF --train_path train.bilou_CRF --emb_path /disks/md0-4T/users/b.mgm/data/embedding/pretrained_embedding.txt --word_emb_dim 100 --val_batch_size 64 --char_emb_dim 25 --max_epochs 100 --char_rnn 25 --rnn_dim 150 --word_min_freq 0 --train_batch_size 4 --checkpoint /disks/md0-4T/users/b.mgm/checkpoints/training_9___char_rnn_25__rnn_dim_150__word_min_freq_0__train_batch_size_4  | tee -a /disks/md0-4T/users/b.mgm/logs/training_9___char_rnn_25__rnn_dim_150__word_min_freq_0__train_batch_size_4.log\n",
      "python /disks/md0-4T/users/b.mgm/model/train.py --data_path /disks/md0-4T/users/b.mgm/data/CRF --test_path test.bilou_CRF --val_path validation.bilou_CRF --train_path train.bilou_CRF --emb_path /disks/md0-4T/users/b.mgm/data/embedding/pretrained_embedding.txt --word_emb_dim 100 --val_batch_size 64 --char_emb_dim 25 --max_epochs 100 --char_rnn 25 --rnn_dim 150 --word_min_freq 0 --train_batch_size 8 --checkpoint /disks/md0-4T/users/b.mgm/checkpoints/training_10___char_rnn_25__rnn_dim_150__word_min_freq_0__train_batch_size_8  | tee -a /disks/md0-4T/users/b.mgm/logs/training_10___char_rnn_25__rnn_dim_150__word_min_freq_0__train_batch_size_8.log\n",
      "python /disks/md0-4T/users/b.mgm/model/train.py --data_path /disks/md0-4T/users/b.mgm/data/CRF --test_path test.bilou_CRF --val_path validation.bilou_CRF --train_path train.bilou_CRF --emb_path /disks/md0-4T/users/b.mgm/data/embedding/pretrained_embedding.txt --word_emb_dim 100 --val_batch_size 64 --char_emb_dim 25 --max_epochs 100 --char_rnn 25 --rnn_dim 150 --word_min_freq 0 --train_batch_size 16 --checkpoint /disks/md0-4T/users/b.mgm/checkpoints/training_11___char_rnn_25__rnn_dim_150__word_min_freq_0__train_batch_size_16  | tee -a /disks/md0-4T/users/b.mgm/logs/training_11___char_rnn_25__rnn_dim_150__word_min_freq_0__train_batch_size_16.log\n",
      "python /disks/md0-4T/users/b.mgm/model/train.py --data_path /disks/md0-4T/users/b.mgm/data/CRF --test_path test.bilou_CRF --val_path validation.bilou_CRF --train_path train.bilou_CRF --emb_path /disks/md0-4T/users/b.mgm/data/embedding/pretrained_embedding.txt --word_emb_dim 100 --val_batch_size 64 --char_emb_dim 25 --max_epochs 100 --char_rnn 25 --rnn_dim 150 --word_min_freq 5 --train_batch_size 4 --checkpoint /disks/md0-4T/users/b.mgm/checkpoints/training_12___char_rnn_25__rnn_dim_150__word_min_freq_5__train_batch_size_4  | tee -a /disks/md0-4T/users/b.mgm/logs/training_12___char_rnn_25__rnn_dim_150__word_min_freq_5__train_batch_size_4.log\n",
      "python /disks/md0-4T/users/b.mgm/model/train.py --data_path /disks/md0-4T/users/b.mgm/data/CRF --test_path test.bilou_CRF --val_path validation.bilou_CRF --train_path train.bilou_CRF --emb_path /disks/md0-4T/users/b.mgm/data/embedding/pretrained_embedding.txt --word_emb_dim 100 --val_batch_size 64 --char_emb_dim 25 --max_epochs 100 --char_rnn 25 --rnn_dim 150 --word_min_freq 5 --train_batch_size 8 --checkpoint /disks/md0-4T/users/b.mgm/checkpoints/training_13___char_rnn_25__rnn_dim_150__word_min_freq_5__train_batch_size_8  | tee -a /disks/md0-4T/users/b.mgm/logs/training_13___char_rnn_25__rnn_dim_150__word_min_freq_5__train_batch_size_8.log\n",
      "python /disks/md0-4T/users/b.mgm/model/train.py --data_path /disks/md0-4T/users/b.mgm/data/CRF --test_path test.bilou_CRF --val_path validation.bilou_CRF --train_path train.bilou_CRF --emb_path /disks/md0-4T/users/b.mgm/data/embedding/pretrained_embedding.txt --word_emb_dim 100 --val_batch_size 64 --char_emb_dim 25 --max_epochs 100 --char_rnn 25 --rnn_dim 150 --word_min_freq 5 --train_batch_size 16 --checkpoint /disks/md0-4T/users/b.mgm/checkpoints/training_14___char_rnn_25__rnn_dim_150__word_min_freq_5__train_batch_size_16  | tee -a /disks/md0-4T/users/b.mgm/logs/training_14___char_rnn_25__rnn_dim_150__word_min_freq_5__train_batch_size_16.log\n",
      "python /disks/md0-4T/users/b.mgm/model/train.py --data_path /disks/md0-4T/users/b.mgm/data/CRF --test_path test.bilou_CRF --val_path validation.bilou_CRF --train_path train.bilou_CRF --emb_path /disks/md0-4T/users/b.mgm/data/embedding/pretrained_embedding.txt --word_emb_dim 100 --val_batch_size 64 --char_emb_dim 25 --max_epochs 100 --char_rnn 25 --rnn_dim 150 --word_min_freq 10 --train_batch_size 4 --checkpoint /disks/md0-4T/users/b.mgm/checkpoints/training_15___char_rnn_25__rnn_dim_150__word_min_freq_10__train_batch_size_4  | tee -a /disks/md0-4T/users/b.mgm/logs/training_15___char_rnn_25__rnn_dim_150__word_min_freq_10__train_batch_size_4.log\n",
      "python /disks/md0-4T/users/b.mgm/model/train.py --data_path /disks/md0-4T/users/b.mgm/data/CRF --test_path test.bilou_CRF --val_path validation.bilou_CRF --train_path train.bilou_CRF --emb_path /disks/md0-4T/users/b.mgm/data/embedding/pretrained_embedding.txt --word_emb_dim 100 --val_batch_size 64 --char_emb_dim 25 --max_epochs 100 --char_rnn 25 --rnn_dim 150 --word_min_freq 10 --train_batch_size 8 --checkpoint /disks/md0-4T/users/b.mgm/checkpoints/training_16___char_rnn_25__rnn_dim_150__word_min_freq_10__train_batch_size_8  | tee -a /disks/md0-4T/users/b.mgm/logs/training_16___char_rnn_25__rnn_dim_150__word_min_freq_10__train_batch_size_8.log\n",
      "python /disks/md0-4T/users/b.mgm/model/train.py --data_path /disks/md0-4T/users/b.mgm/data/CRF --test_path test.bilou_CRF --val_path validation.bilou_CRF --train_path train.bilou_CRF --emb_path /disks/md0-4T/users/b.mgm/data/embedding/pretrained_embedding.txt --word_emb_dim 100 --val_batch_size 64 --char_emb_dim 25 --max_epochs 100 --char_rnn 25 --rnn_dim 150 --word_min_freq 10 --train_batch_size 16 --checkpoint /disks/md0-4T/users/b.mgm/checkpoints/training_17___char_rnn_25__rnn_dim_150__word_min_freq_10__train_batch_size_16  | tee -a /disks/md0-4T/users/b.mgm/logs/training_17___char_rnn_25__rnn_dim_150__word_min_freq_10__train_batch_size_16.log\n",
      "python /disks/md0-4T/users/b.mgm/model/train.py --data_path /disks/md0-4T/users/b.mgm/data/CRF --test_path test.bilou_CRF --val_path validation.bilou_CRF --train_path train.bilou_CRF --emb_path /disks/md0-4T/users/b.mgm/data/embedding/pretrained_embedding.txt --word_emb_dim 100 --val_batch_size 64 --char_emb_dim 25 --max_epochs 100 --char_rnn 25 --rnn_dim 200 --word_min_freq 0 --train_batch_size 4 --checkpoint /disks/md0-4T/users/b.mgm/checkpoints/training_18___char_rnn_25__rnn_dim_200__word_min_freq_0__train_batch_size_4  | tee -a /disks/md0-4T/users/b.mgm/logs/training_18___char_rnn_25__rnn_dim_200__word_min_freq_0__train_batch_size_4.log\n",
      "python /disks/md0-4T/users/b.mgm/model/train.py --data_path /disks/md0-4T/users/b.mgm/data/CRF --test_path test.bilou_CRF --val_path validation.bilou_CRF --train_path train.bilou_CRF --emb_path /disks/md0-4T/users/b.mgm/data/embedding/pretrained_embedding.txt --word_emb_dim 100 --val_batch_size 64 --char_emb_dim 25 --max_epochs 100 --char_rnn 25 --rnn_dim 200 --word_min_freq 0 --train_batch_size 8 --checkpoint /disks/md0-4T/users/b.mgm/checkpoints/training_19___char_rnn_25__rnn_dim_200__word_min_freq_0__train_batch_size_8  | tee -a /disks/md0-4T/users/b.mgm/logs/training_19___char_rnn_25__rnn_dim_200__word_min_freq_0__train_batch_size_8.log\n",
      "python /disks/md0-4T/users/b.mgm/model/train.py --data_path /disks/md0-4T/users/b.mgm/data/CRF --test_path test.bilou_CRF --val_path validation.bilou_CRF --train_path train.bilou_CRF --emb_path /disks/md0-4T/users/b.mgm/data/embedding/pretrained_embedding.txt --word_emb_dim 100 --val_batch_size 64 --char_emb_dim 25 --max_epochs 100 --char_rnn 25 --rnn_dim 200 --word_min_freq 0 --train_batch_size 16 --checkpoint /disks/md0-4T/users/b.mgm/checkpoints/training_20___char_rnn_25__rnn_dim_200__word_min_freq_0__train_batch_size_16  | tee -a /disks/md0-4T/users/b.mgm/logs/training_20___char_rnn_25__rnn_dim_200__word_min_freq_0__train_batch_size_16.log\n",
      "python /disks/md0-4T/users/b.mgm/model/train.py --data_path /disks/md0-4T/users/b.mgm/data/CRF --test_path test.bilou_CRF --val_path validation.bilou_CRF --train_path train.bilou_CRF --emb_path /disks/md0-4T/users/b.mgm/data/embedding/pretrained_embedding.txt --word_emb_dim 100 --val_batch_size 64 --char_emb_dim 25 --max_epochs 100 --char_rnn 25 --rnn_dim 200 --word_min_freq 5 --train_batch_size 4 --checkpoint /disks/md0-4T/users/b.mgm/checkpoints/training_21___char_rnn_25__rnn_dim_200__word_min_freq_5__train_batch_size_4  | tee -a /disks/md0-4T/users/b.mgm/logs/training_21___char_rnn_25__rnn_dim_200__word_min_freq_5__train_batch_size_4.log\n",
      "python /disks/md0-4T/users/b.mgm/model/train.py --data_path /disks/md0-4T/users/b.mgm/data/CRF --test_path test.bilou_CRF --val_path validation.bilou_CRF --train_path train.bilou_CRF --emb_path /disks/md0-4T/users/b.mgm/data/embedding/pretrained_embedding.txt --word_emb_dim 100 --val_batch_size 64 --char_emb_dim 25 --max_epochs 100 --char_rnn 25 --rnn_dim 200 --word_min_freq 5 --train_batch_size 8 --checkpoint /disks/md0-4T/users/b.mgm/checkpoints/training_22___char_rnn_25__rnn_dim_200__word_min_freq_5__train_batch_size_8  | tee -a /disks/md0-4T/users/b.mgm/logs/training_22___char_rnn_25__rnn_dim_200__word_min_freq_5__train_batch_size_8.log\n",
      "python /disks/md0-4T/users/b.mgm/model/train.py --data_path /disks/md0-4T/users/b.mgm/data/CRF --test_path test.bilou_CRF --val_path validation.bilou_CRF --train_path train.bilou_CRF --emb_path /disks/md0-4T/users/b.mgm/data/embedding/pretrained_embedding.txt --word_emb_dim 100 --val_batch_size 64 --char_emb_dim 25 --max_epochs 100 --char_rnn 25 --rnn_dim 200 --word_min_freq 5 --train_batch_size 16 --checkpoint /disks/md0-4T/users/b.mgm/checkpoints/training_23___char_rnn_25__rnn_dim_200__word_min_freq_5__train_batch_size_16  | tee -a /disks/md0-4T/users/b.mgm/logs/training_23___char_rnn_25__rnn_dim_200__word_min_freq_5__train_batch_size_16.log\n",
      "python /disks/md0-4T/users/b.mgm/model/train.py --data_path /disks/md0-4T/users/b.mgm/data/CRF --test_path test.bilou_CRF --val_path validation.bilou_CRF --train_path train.bilou_CRF --emb_path /disks/md0-4T/users/b.mgm/data/embedding/pretrained_embedding.txt --word_emb_dim 100 --val_batch_size 64 --char_emb_dim 25 --max_epochs 100 --char_rnn 25 --rnn_dim 200 --word_min_freq 10 --train_batch_size 4 --checkpoint /disks/md0-4T/users/b.mgm/checkpoints/training_24___char_rnn_25__rnn_dim_200__word_min_freq_10__train_batch_size_4  | tee -a /disks/md0-4T/users/b.mgm/logs/training_24___char_rnn_25__rnn_dim_200__word_min_freq_10__train_batch_size_4.log\n",
      "python /disks/md0-4T/users/b.mgm/model/train.py --data_path /disks/md0-4T/users/b.mgm/data/CRF --test_path test.bilou_CRF --val_path validation.bilou_CRF --train_path train.bilou_CRF --emb_path /disks/md0-4T/users/b.mgm/data/embedding/pretrained_embedding.txt --word_emb_dim 100 --val_batch_size 64 --char_emb_dim 25 --max_epochs 100 --char_rnn 25 --rnn_dim 200 --word_min_freq 10 --train_batch_size 8 --checkpoint /disks/md0-4T/users/b.mgm/checkpoints/training_25___char_rnn_25__rnn_dim_200__word_min_freq_10__train_batch_size_8  | tee -a /disks/md0-4T/users/b.mgm/logs/training_25___char_rnn_25__rnn_dim_200__word_min_freq_10__train_batch_size_8.log\n",
      "python /disks/md0-4T/users/b.mgm/model/train.py --data_path /disks/md0-4T/users/b.mgm/data/CRF --test_path test.bilou_CRF --val_path validation.bilou_CRF --train_path train.bilou_CRF --emb_path /disks/md0-4T/users/b.mgm/data/embedding/pretrained_embedding.txt --word_emb_dim 100 --val_batch_size 64 --char_emb_dim 25 --max_epochs 100 --char_rnn 25 --rnn_dim 200 --word_min_freq 10 --train_batch_size 16 --checkpoint /disks/md0-4T/users/b.mgm/checkpoints/training_26___char_rnn_25__rnn_dim_200__word_min_freq_10__train_batch_size_16  | tee -a /disks/md0-4T/users/b.mgm/logs/training_26___char_rnn_25__rnn_dim_200__word_min_freq_10__train_batch_size_16.log\n",
      "python /disks/md0-4T/users/b.mgm/model/train.py --data_path /disks/md0-4T/users/b.mgm/data/CRF --test_path test.bilou_CRF --val_path validation.bilou_CRF --train_path train.bilou_CRF --emb_path /disks/md0-4T/users/b.mgm/data/embedding/pretrained_embedding.txt --word_emb_dim 100 --val_batch_size 64 --char_emb_dim 25 --max_epochs 100 --char_rnn 25 --rnn_dim 300 --word_min_freq 0 --train_batch_size 4 --checkpoint /disks/md0-4T/users/b.mgm/checkpoints/training_27___char_rnn_25__rnn_dim_300__word_min_freq_0__train_batch_size_4  | tee -a /disks/md0-4T/users/b.mgm/logs/training_27___char_rnn_25__rnn_dim_300__word_min_freq_0__train_batch_size_4.log\n",
      "python /disks/md0-4T/users/b.mgm/model/train.py --data_path /disks/md0-4T/users/b.mgm/data/CRF --test_path test.bilou_CRF --val_path validation.bilou_CRF --train_path train.bilou_CRF --emb_path /disks/md0-4T/users/b.mgm/data/embedding/pretrained_embedding.txt --word_emb_dim 100 --val_batch_size 64 --char_emb_dim 25 --max_epochs 100 --char_rnn 25 --rnn_dim 300 --word_min_freq 0 --train_batch_size 8 --checkpoint /disks/md0-4T/users/b.mgm/checkpoints/training_28___char_rnn_25__rnn_dim_300__word_min_freq_0__train_batch_size_8  | tee -a /disks/md0-4T/users/b.mgm/logs/training_28___char_rnn_25__rnn_dim_300__word_min_freq_0__train_batch_size_8.log\n",
      "python /disks/md0-4T/users/b.mgm/model/train.py --data_path /disks/md0-4T/users/b.mgm/data/CRF --test_path test.bilou_CRF --val_path validation.bilou_CRF --train_path train.bilou_CRF --emb_path /disks/md0-4T/users/b.mgm/data/embedding/pretrained_embedding.txt --word_emb_dim 100 --val_batch_size 64 --char_emb_dim 25 --max_epochs 100 --char_rnn 25 --rnn_dim 300 --word_min_freq 0 --train_batch_size 16 --checkpoint /disks/md0-4T/users/b.mgm/checkpoints/training_29___char_rnn_25__rnn_dim_300__word_min_freq_0__train_batch_size_16  | tee -a /disks/md0-4T/users/b.mgm/logs/training_29___char_rnn_25__rnn_dim_300__word_min_freq_0__train_batch_size_16.log\n",
      "python /disks/md0-4T/users/b.mgm/model/train.py --data_path /disks/md0-4T/users/b.mgm/data/CRF --test_path test.bilou_CRF --val_path validation.bilou_CRF --train_path train.bilou_CRF --emb_path /disks/md0-4T/users/b.mgm/data/embedding/pretrained_embedding.txt --word_emb_dim 100 --val_batch_size 64 --char_emb_dim 25 --max_epochs 100 --char_rnn 25 --rnn_dim 300 --word_min_freq 5 --train_batch_size 4 --checkpoint /disks/md0-4T/users/b.mgm/checkpoints/training_30___char_rnn_25__rnn_dim_300__word_min_freq_5__train_batch_size_4  | tee -a /disks/md0-4T/users/b.mgm/logs/training_30___char_rnn_25__rnn_dim_300__word_min_freq_5__train_batch_size_4.log\n",
      "python /disks/md0-4T/users/b.mgm/model/train.py --data_path /disks/md0-4T/users/b.mgm/data/CRF --test_path test.bilou_CRF --val_path validation.bilou_CRF --train_path train.bilou_CRF --emb_path /disks/md0-4T/users/b.mgm/data/embedding/pretrained_embedding.txt --word_emb_dim 100 --val_batch_size 64 --char_emb_dim 25 --max_epochs 100 --char_rnn 25 --rnn_dim 300 --word_min_freq 5 --train_batch_size 8 --checkpoint /disks/md0-4T/users/b.mgm/checkpoints/training_31___char_rnn_25__rnn_dim_300__word_min_freq_5__train_batch_size_8  | tee -a /disks/md0-4T/users/b.mgm/logs/training_31___char_rnn_25__rnn_dim_300__word_min_freq_5__train_batch_size_8.log\n",
      "python /disks/md0-4T/users/b.mgm/model/train.py --data_path /disks/md0-4T/users/b.mgm/data/CRF --test_path test.bilou_CRF --val_path validation.bilou_CRF --train_path train.bilou_CRF --emb_path /disks/md0-4T/users/b.mgm/data/embedding/pretrained_embedding.txt --word_emb_dim 100 --val_batch_size 64 --char_emb_dim 25 --max_epochs 100 --char_rnn 25 --rnn_dim 300 --word_min_freq 5 --train_batch_size 16 --checkpoint /disks/md0-4T/users/b.mgm/checkpoints/training_32___char_rnn_25__rnn_dim_300__word_min_freq_5__train_batch_size_16  | tee -a /disks/md0-4T/users/b.mgm/logs/training_32___char_rnn_25__rnn_dim_300__word_min_freq_5__train_batch_size_16.log\n",
      "python /disks/md0-4T/users/b.mgm/model/train.py --data_path /disks/md0-4T/users/b.mgm/data/CRF --test_path test.bilou_CRF --val_path validation.bilou_CRF --train_path train.bilou_CRF --emb_path /disks/md0-4T/users/b.mgm/data/embedding/pretrained_embedding.txt --word_emb_dim 100 --val_batch_size 64 --char_emb_dim 25 --max_epochs 100 --char_rnn 25 --rnn_dim 300 --word_min_freq 10 --train_batch_size 4 --checkpoint /disks/md0-4T/users/b.mgm/checkpoints/training_33___char_rnn_25__rnn_dim_300__word_min_freq_10__train_batch_size_4  | tee -a /disks/md0-4T/users/b.mgm/logs/training_33___char_rnn_25__rnn_dim_300__word_min_freq_10__train_batch_size_4.log\n",
      "python /disks/md0-4T/users/b.mgm/model/train.py --data_path /disks/md0-4T/users/b.mgm/data/CRF --test_path test.bilou_CRF --val_path validation.bilou_CRF --train_path train.bilou_CRF --emb_path /disks/md0-4T/users/b.mgm/data/embedding/pretrained_embedding.txt --word_emb_dim 100 --val_batch_size 64 --char_emb_dim 25 --max_epochs 100 --char_rnn 25 --rnn_dim 300 --word_min_freq 10 --train_batch_size 8 --checkpoint /disks/md0-4T/users/b.mgm/checkpoints/training_34___char_rnn_25__rnn_dim_300__word_min_freq_10__train_batch_size_8  | tee -a /disks/md0-4T/users/b.mgm/logs/training_34___char_rnn_25__rnn_dim_300__word_min_freq_10__train_batch_size_8.log\n",
      "python /disks/md0-4T/users/b.mgm/model/train.py --data_path /disks/md0-4T/users/b.mgm/data/CRF --test_path test.bilou_CRF --val_path validation.bilou_CRF --train_path train.bilou_CRF --emb_path /disks/md0-4T/users/b.mgm/data/embedding/pretrained_embedding.txt --word_emb_dim 100 --val_batch_size 64 --char_emb_dim 25 --max_epochs 100 --char_rnn 25 --rnn_dim 300 --word_min_freq 10 --train_batch_size 16 --checkpoint /disks/md0-4T/users/b.mgm/checkpoints/training_35___char_rnn_25__rnn_dim_300__word_min_freq_10__train_batch_size_16  | tee -a /disks/md0-4T/users/b.mgm/logs/training_35___char_rnn_25__rnn_dim_300__word_min_freq_10__train_batch_size_16.log\n",
      "python /disks/md0-4T/users/b.mgm/model/train.py --data_path /disks/md0-4T/users/b.mgm/data/CRF --test_path test.bilou_CRF --val_path validation.bilou_CRF --train_path train.bilou_CRF --emb_path /disks/md0-4T/users/b.mgm/data/embedding/pretrained_embedding.txt --word_emb_dim 100 --val_batch_size 64 --char_emb_dim 25 --max_epochs 100 --char_rnn 50 --rnn_dim 100 --word_min_freq 0 --train_batch_size 4 --checkpoint /disks/md0-4T/users/b.mgm/checkpoints/training_36___char_rnn_50__rnn_dim_100__word_min_freq_0__train_batch_size_4  | tee -a /disks/md0-4T/users/b.mgm/logs/training_36___char_rnn_50__rnn_dim_100__word_min_freq_0__train_batch_size_4.log\n",
      "python /disks/md0-4T/users/b.mgm/model/train.py --data_path /disks/md0-4T/users/b.mgm/data/CRF --test_path test.bilou_CRF --val_path validation.bilou_CRF --train_path train.bilou_CRF --emb_path /disks/md0-4T/users/b.mgm/data/embedding/pretrained_embedding.txt --word_emb_dim 100 --val_batch_size 64 --char_emb_dim 25 --max_epochs 100 --char_rnn 50 --rnn_dim 100 --word_min_freq 0 --train_batch_size 8 --checkpoint /disks/md0-4T/users/b.mgm/checkpoints/training_37___char_rnn_50__rnn_dim_100__word_min_freq_0__train_batch_size_8  | tee -a /disks/md0-4T/users/b.mgm/logs/training_37___char_rnn_50__rnn_dim_100__word_min_freq_0__train_batch_size_8.log\n",
      "python /disks/md0-4T/users/b.mgm/model/train.py --data_path /disks/md0-4T/users/b.mgm/data/CRF --test_path test.bilou_CRF --val_path validation.bilou_CRF --train_path train.bilou_CRF --emb_path /disks/md0-4T/users/b.mgm/data/embedding/pretrained_embedding.txt --word_emb_dim 100 --val_batch_size 64 --char_emb_dim 25 --max_epochs 100 --char_rnn 50 --rnn_dim 100 --word_min_freq 0 --train_batch_size 16 --checkpoint /disks/md0-4T/users/b.mgm/checkpoints/training_38___char_rnn_50__rnn_dim_100__word_min_freq_0__train_batch_size_16  | tee -a /disks/md0-4T/users/b.mgm/logs/training_38___char_rnn_50__rnn_dim_100__word_min_freq_0__train_batch_size_16.log\n",
      "python /disks/md0-4T/users/b.mgm/model/train.py --data_path /disks/md0-4T/users/b.mgm/data/CRF --test_path test.bilou_CRF --val_path validation.bilou_CRF --train_path train.bilou_CRF --emb_path /disks/md0-4T/users/b.mgm/data/embedding/pretrained_embedding.txt --word_emb_dim 100 --val_batch_size 64 --char_emb_dim 25 --max_epochs 100 --char_rnn 50 --rnn_dim 100 --word_min_freq 5 --train_batch_size 4 --checkpoint /disks/md0-4T/users/b.mgm/checkpoints/training_39___char_rnn_50__rnn_dim_100__word_min_freq_5__train_batch_size_4  | tee -a /disks/md0-4T/users/b.mgm/logs/training_39___char_rnn_50__rnn_dim_100__word_min_freq_5__train_batch_size_4.log\n",
      "python /disks/md0-4T/users/b.mgm/model/train.py --data_path /disks/md0-4T/users/b.mgm/data/CRF --test_path test.bilou_CRF --val_path validation.bilou_CRF --train_path train.bilou_CRF --emb_path /disks/md0-4T/users/b.mgm/data/embedding/pretrained_embedding.txt --word_emb_dim 100 --val_batch_size 64 --char_emb_dim 25 --max_epochs 100 --char_rnn 50 --rnn_dim 100 --word_min_freq 5 --train_batch_size 8 --checkpoint /disks/md0-4T/users/b.mgm/checkpoints/training_40___char_rnn_50__rnn_dim_100__word_min_freq_5__train_batch_size_8  | tee -a /disks/md0-4T/users/b.mgm/logs/training_40___char_rnn_50__rnn_dim_100__word_min_freq_5__train_batch_size_8.log\n",
      "python /disks/md0-4T/users/b.mgm/model/train.py --data_path /disks/md0-4T/users/b.mgm/data/CRF --test_path test.bilou_CRF --val_path validation.bilou_CRF --train_path train.bilou_CRF --emb_path /disks/md0-4T/users/b.mgm/data/embedding/pretrained_embedding.txt --word_emb_dim 100 --val_batch_size 64 --char_emb_dim 25 --max_epochs 100 --char_rnn 50 --rnn_dim 100 --word_min_freq 5 --train_batch_size 16 --checkpoint /disks/md0-4T/users/b.mgm/checkpoints/training_41___char_rnn_50__rnn_dim_100__word_min_freq_5__train_batch_size_16  | tee -a /disks/md0-4T/users/b.mgm/logs/training_41___char_rnn_50__rnn_dim_100__word_min_freq_5__train_batch_size_16.log\n",
      "python /disks/md0-4T/users/b.mgm/model/train.py --data_path /disks/md0-4T/users/b.mgm/data/CRF --test_path test.bilou_CRF --val_path validation.bilou_CRF --train_path train.bilou_CRF --emb_path /disks/md0-4T/users/b.mgm/data/embedding/pretrained_embedding.txt --word_emb_dim 100 --val_batch_size 64 --char_emb_dim 25 --max_epochs 100 --char_rnn 50 --rnn_dim 100 --word_min_freq 10 --train_batch_size 4 --checkpoint /disks/md0-4T/users/b.mgm/checkpoints/training_42___char_rnn_50__rnn_dim_100__word_min_freq_10__train_batch_size_4  | tee -a /disks/md0-4T/users/b.mgm/logs/training_42___char_rnn_50__rnn_dim_100__word_min_freq_10__train_batch_size_4.log\n",
      "python /disks/md0-4T/users/b.mgm/model/train.py --data_path /disks/md0-4T/users/b.mgm/data/CRF --test_path test.bilou_CRF --val_path validation.bilou_CRF --train_path train.bilou_CRF --emb_path /disks/md0-4T/users/b.mgm/data/embedding/pretrained_embedding.txt --word_emb_dim 100 --val_batch_size 64 --char_emb_dim 25 --max_epochs 100 --char_rnn 50 --rnn_dim 100 --word_min_freq 10 --train_batch_size 8 --checkpoint /disks/md0-4T/users/b.mgm/checkpoints/training_43___char_rnn_50__rnn_dim_100__word_min_freq_10__train_batch_size_8  | tee -a /disks/md0-4T/users/b.mgm/logs/training_43___char_rnn_50__rnn_dim_100__word_min_freq_10__train_batch_size_8.log\n",
      "python /disks/md0-4T/users/b.mgm/model/train.py --data_path /disks/md0-4T/users/b.mgm/data/CRF --test_path test.bilou_CRF --val_path validation.bilou_CRF --train_path train.bilou_CRF --emb_path /disks/md0-4T/users/b.mgm/data/embedding/pretrained_embedding.txt --word_emb_dim 100 --val_batch_size 64 --char_emb_dim 25 --max_epochs 100 --char_rnn 50 --rnn_dim 100 --word_min_freq 10 --train_batch_size 16 --checkpoint /disks/md0-4T/users/b.mgm/checkpoints/training_44___char_rnn_50__rnn_dim_100__word_min_freq_10__train_batch_size_16  | tee -a /disks/md0-4T/users/b.mgm/logs/training_44___char_rnn_50__rnn_dim_100__word_min_freq_10__train_batch_size_16.log\n",
      "python /disks/md0-4T/users/b.mgm/model/train.py --data_path /disks/md0-4T/users/b.mgm/data/CRF --test_path test.bilou_CRF --val_path validation.bilou_CRF --train_path train.bilou_CRF --emb_path /disks/md0-4T/users/b.mgm/data/embedding/pretrained_embedding.txt --word_emb_dim 100 --val_batch_size 64 --char_emb_dim 25 --max_epochs 100 --char_rnn 50 --rnn_dim 150 --word_min_freq 0 --train_batch_size 4 --checkpoint /disks/md0-4T/users/b.mgm/checkpoints/training_45___char_rnn_50__rnn_dim_150__word_min_freq_0__train_batch_size_4  | tee -a /disks/md0-4T/users/b.mgm/logs/training_45___char_rnn_50__rnn_dim_150__word_min_freq_0__train_batch_size_4.log\n",
      "python /disks/md0-4T/users/b.mgm/model/train.py --data_path /disks/md0-4T/users/b.mgm/data/CRF --test_path test.bilou_CRF --val_path validation.bilou_CRF --train_path train.bilou_CRF --emb_path /disks/md0-4T/users/b.mgm/data/embedding/pretrained_embedding.txt --word_emb_dim 100 --val_batch_size 64 --char_emb_dim 25 --max_epochs 100 --char_rnn 50 --rnn_dim 150 --word_min_freq 0 --train_batch_size 8 --checkpoint /disks/md0-4T/users/b.mgm/checkpoints/training_46___char_rnn_50__rnn_dim_150__word_min_freq_0__train_batch_size_8  | tee -a /disks/md0-4T/users/b.mgm/logs/training_46___char_rnn_50__rnn_dim_150__word_min_freq_0__train_batch_size_8.log\n",
      "python /disks/md0-4T/users/b.mgm/model/train.py --data_path /disks/md0-4T/users/b.mgm/data/CRF --test_path test.bilou_CRF --val_path validation.bilou_CRF --train_path train.bilou_CRF --emb_path /disks/md0-4T/users/b.mgm/data/embedding/pretrained_embedding.txt --word_emb_dim 100 --val_batch_size 64 --char_emb_dim 25 --max_epochs 100 --char_rnn 50 --rnn_dim 150 --word_min_freq 0 --train_batch_size 16 --checkpoint /disks/md0-4T/users/b.mgm/checkpoints/training_47___char_rnn_50__rnn_dim_150__word_min_freq_0__train_batch_size_16  | tee -a /disks/md0-4T/users/b.mgm/logs/training_47___char_rnn_50__rnn_dim_150__word_min_freq_0__train_batch_size_16.log\n",
      "python /disks/md0-4T/users/b.mgm/model/train.py --data_path /disks/md0-4T/users/b.mgm/data/CRF --test_path test.bilou_CRF --val_path validation.bilou_CRF --train_path train.bilou_CRF --emb_path /disks/md0-4T/users/b.mgm/data/embedding/pretrained_embedding.txt --word_emb_dim 100 --val_batch_size 64 --char_emb_dim 25 --max_epochs 100 --char_rnn 50 --rnn_dim 150 --word_min_freq 5 --train_batch_size 4 --checkpoint /disks/md0-4T/users/b.mgm/checkpoints/training_48___char_rnn_50__rnn_dim_150__word_min_freq_5__train_batch_size_4  | tee -a /disks/md0-4T/users/b.mgm/logs/training_48___char_rnn_50__rnn_dim_150__word_min_freq_5__train_batch_size_4.log\n",
      "python /disks/md0-4T/users/b.mgm/model/train.py --data_path /disks/md0-4T/users/b.mgm/data/CRF --test_path test.bilou_CRF --val_path validation.bilou_CRF --train_path train.bilou_CRF --emb_path /disks/md0-4T/users/b.mgm/data/embedding/pretrained_embedding.txt --word_emb_dim 100 --val_batch_size 64 --char_emb_dim 25 --max_epochs 100 --char_rnn 50 --rnn_dim 150 --word_min_freq 5 --train_batch_size 8 --checkpoint /disks/md0-4T/users/b.mgm/checkpoints/training_49___char_rnn_50__rnn_dim_150__word_min_freq_5__train_batch_size_8  | tee -a /disks/md0-4T/users/b.mgm/logs/training_49___char_rnn_50__rnn_dim_150__word_min_freq_5__train_batch_size_8.log\n",
      "python /disks/md0-4T/users/b.mgm/model/train.py --data_path /disks/md0-4T/users/b.mgm/data/CRF --test_path test.bilou_CRF --val_path validation.bilou_CRF --train_path train.bilou_CRF --emb_path /disks/md0-4T/users/b.mgm/data/embedding/pretrained_embedding.txt --word_emb_dim 100 --val_batch_size 64 --char_emb_dim 25 --max_epochs 100 --char_rnn 50 --rnn_dim 150 --word_min_freq 5 --train_batch_size 16 --checkpoint /disks/md0-4T/users/b.mgm/checkpoints/training_50___char_rnn_50__rnn_dim_150__word_min_freq_5__train_batch_size_16  | tee -a /disks/md0-4T/users/b.mgm/logs/training_50___char_rnn_50__rnn_dim_150__word_min_freq_5__train_batch_size_16.log\n",
      "python /disks/md0-4T/users/b.mgm/model/train.py --data_path /disks/md0-4T/users/b.mgm/data/CRF --test_path test.bilou_CRF --val_path validation.bilou_CRF --train_path train.bilou_CRF --emb_path /disks/md0-4T/users/b.mgm/data/embedding/pretrained_embedding.txt --word_emb_dim 100 --val_batch_size 64 --char_emb_dim 25 --max_epochs 100 --char_rnn 50 --rnn_dim 150 --word_min_freq 10 --train_batch_size 4 --checkpoint /disks/md0-4T/users/b.mgm/checkpoints/training_51___char_rnn_50__rnn_dim_150__word_min_freq_10__train_batch_size_4  | tee -a /disks/md0-4T/users/b.mgm/logs/training_51___char_rnn_50__rnn_dim_150__word_min_freq_10__train_batch_size_4.log\n",
      "python /disks/md0-4T/users/b.mgm/model/train.py --data_path /disks/md0-4T/users/b.mgm/data/CRF --test_path test.bilou_CRF --val_path validation.bilou_CRF --train_path train.bilou_CRF --emb_path /disks/md0-4T/users/b.mgm/data/embedding/pretrained_embedding.txt --word_emb_dim 100 --val_batch_size 64 --char_emb_dim 25 --max_epochs 100 --char_rnn 50 --rnn_dim 150 --word_min_freq 10 --train_batch_size 8 --checkpoint /disks/md0-4T/users/b.mgm/checkpoints/training_52___char_rnn_50__rnn_dim_150__word_min_freq_10__train_batch_size_8  | tee -a /disks/md0-4T/users/b.mgm/logs/training_52___char_rnn_50__rnn_dim_150__word_min_freq_10__train_batch_size_8.log\n",
      "python /disks/md0-4T/users/b.mgm/model/train.py --data_path /disks/md0-4T/users/b.mgm/data/CRF --test_path test.bilou_CRF --val_path validation.bilou_CRF --train_path train.bilou_CRF --emb_path /disks/md0-4T/users/b.mgm/data/embedding/pretrained_embedding.txt --word_emb_dim 100 --val_batch_size 64 --char_emb_dim 25 --max_epochs 100 --char_rnn 50 --rnn_dim 150 --word_min_freq 10 --train_batch_size 16 --checkpoint /disks/md0-4T/users/b.mgm/checkpoints/training_53___char_rnn_50__rnn_dim_150__word_min_freq_10__train_batch_size_16  | tee -a /disks/md0-4T/users/b.mgm/logs/training_53___char_rnn_50__rnn_dim_150__word_min_freq_10__train_batch_size_16.log\n",
      "python /disks/md0-4T/users/b.mgm/model/train.py --data_path /disks/md0-4T/users/b.mgm/data/CRF --test_path test.bilou_CRF --val_path validation.bilou_CRF --train_path train.bilou_CRF --emb_path /disks/md0-4T/users/b.mgm/data/embedding/pretrained_embedding.txt --word_emb_dim 100 --val_batch_size 64 --char_emb_dim 25 --max_epochs 100 --char_rnn 50 --rnn_dim 200 --word_min_freq 0 --train_batch_size 4 --checkpoint /disks/md0-4T/users/b.mgm/checkpoints/training_54___char_rnn_50__rnn_dim_200__word_min_freq_0__train_batch_size_4  | tee -a /disks/md0-4T/users/b.mgm/logs/training_54___char_rnn_50__rnn_dim_200__word_min_freq_0__train_batch_size_4.log\n",
      "python /disks/md0-4T/users/b.mgm/model/train.py --data_path /disks/md0-4T/users/b.mgm/data/CRF --test_path test.bilou_CRF --val_path validation.bilou_CRF --train_path train.bilou_CRF --emb_path /disks/md0-4T/users/b.mgm/data/embedding/pretrained_embedding.txt --word_emb_dim 100 --val_batch_size 64 --char_emb_dim 25 --max_epochs 100 --char_rnn 50 --rnn_dim 200 --word_min_freq 0 --train_batch_size 8 --checkpoint /disks/md0-4T/users/b.mgm/checkpoints/training_55___char_rnn_50__rnn_dim_200__word_min_freq_0__train_batch_size_8  | tee -a /disks/md0-4T/users/b.mgm/logs/training_55___char_rnn_50__rnn_dim_200__word_min_freq_0__train_batch_size_8.log\n",
      "python /disks/md0-4T/users/b.mgm/model/train.py --data_path /disks/md0-4T/users/b.mgm/data/CRF --test_path test.bilou_CRF --val_path validation.bilou_CRF --train_path train.bilou_CRF --emb_path /disks/md0-4T/users/b.mgm/data/embedding/pretrained_embedding.txt --word_emb_dim 100 --val_batch_size 64 --char_emb_dim 25 --max_epochs 100 --char_rnn 50 --rnn_dim 200 --word_min_freq 0 --train_batch_size 16 --checkpoint /disks/md0-4T/users/b.mgm/checkpoints/training_56___char_rnn_50__rnn_dim_200__word_min_freq_0__train_batch_size_16  | tee -a /disks/md0-4T/users/b.mgm/logs/training_56___char_rnn_50__rnn_dim_200__word_min_freq_0__train_batch_size_16.log\n",
      "python /disks/md0-4T/users/b.mgm/model/train.py --data_path /disks/md0-4T/users/b.mgm/data/CRF --test_path test.bilou_CRF --val_path validation.bilou_CRF --train_path train.bilou_CRF --emb_path /disks/md0-4T/users/b.mgm/data/embedding/pretrained_embedding.txt --word_emb_dim 100 --val_batch_size 64 --char_emb_dim 25 --max_epochs 100 --char_rnn 50 --rnn_dim 200 --word_min_freq 5 --train_batch_size 4 --checkpoint /disks/md0-4T/users/b.mgm/checkpoints/training_57___char_rnn_50__rnn_dim_200__word_min_freq_5__train_batch_size_4  | tee -a /disks/md0-4T/users/b.mgm/logs/training_57___char_rnn_50__rnn_dim_200__word_min_freq_5__train_batch_size_4.log\n",
      "python /disks/md0-4T/users/b.mgm/model/train.py --data_path /disks/md0-4T/users/b.mgm/data/CRF --test_path test.bilou_CRF --val_path validation.bilou_CRF --train_path train.bilou_CRF --emb_path /disks/md0-4T/users/b.mgm/data/embedding/pretrained_embedding.txt --word_emb_dim 100 --val_batch_size 64 --char_emb_dim 25 --max_epochs 100 --char_rnn 50 --rnn_dim 200 --word_min_freq 5 --train_batch_size 8 --checkpoint /disks/md0-4T/users/b.mgm/checkpoints/training_58___char_rnn_50__rnn_dim_200__word_min_freq_5__train_batch_size_8  | tee -a /disks/md0-4T/users/b.mgm/logs/training_58___char_rnn_50__rnn_dim_200__word_min_freq_5__train_batch_size_8.log\n",
      "python /disks/md0-4T/users/b.mgm/model/train.py --data_path /disks/md0-4T/users/b.mgm/data/CRF --test_path test.bilou_CRF --val_path validation.bilou_CRF --train_path train.bilou_CRF --emb_path /disks/md0-4T/users/b.mgm/data/embedding/pretrained_embedding.txt --word_emb_dim 100 --val_batch_size 64 --char_emb_dim 25 --max_epochs 100 --char_rnn 50 --rnn_dim 200 --word_min_freq 5 --train_batch_size 16 --checkpoint /disks/md0-4T/users/b.mgm/checkpoints/training_59___char_rnn_50__rnn_dim_200__word_min_freq_5__train_batch_size_16  | tee -a /disks/md0-4T/users/b.mgm/logs/training_59___char_rnn_50__rnn_dim_200__word_min_freq_5__train_batch_size_16.log\n",
      "python /disks/md0-4T/users/b.mgm/model/train.py --data_path /disks/md0-4T/users/b.mgm/data/CRF --test_path test.bilou_CRF --val_path validation.bilou_CRF --train_path train.bilou_CRF --emb_path /disks/md0-4T/users/b.mgm/data/embedding/pretrained_embedding.txt --word_emb_dim 100 --val_batch_size 64 --char_emb_dim 25 --max_epochs 100 --char_rnn 50 --rnn_dim 200 --word_min_freq 10 --train_batch_size 4 --checkpoint /disks/md0-4T/users/b.mgm/checkpoints/training_60___char_rnn_50__rnn_dim_200__word_min_freq_10__train_batch_size_4  | tee -a /disks/md0-4T/users/b.mgm/logs/training_60___char_rnn_50__rnn_dim_200__word_min_freq_10__train_batch_size_4.log\n",
      "python /disks/md0-4T/users/b.mgm/model/train.py --data_path /disks/md0-4T/users/b.mgm/data/CRF --test_path test.bilou_CRF --val_path validation.bilou_CRF --train_path train.bilou_CRF --emb_path /disks/md0-4T/users/b.mgm/data/embedding/pretrained_embedding.txt --word_emb_dim 100 --val_batch_size 64 --char_emb_dim 25 --max_epochs 100 --char_rnn 50 --rnn_dim 200 --word_min_freq 10 --train_batch_size 8 --checkpoint /disks/md0-4T/users/b.mgm/checkpoints/training_61___char_rnn_50__rnn_dim_200__word_min_freq_10__train_batch_size_8  | tee -a /disks/md0-4T/users/b.mgm/logs/training_61___char_rnn_50__rnn_dim_200__word_min_freq_10__train_batch_size_8.log\n",
      "python /disks/md0-4T/users/b.mgm/model/train.py --data_path /disks/md0-4T/users/b.mgm/data/CRF --test_path test.bilou_CRF --val_path validation.bilou_CRF --train_path train.bilou_CRF --emb_path /disks/md0-4T/users/b.mgm/data/embedding/pretrained_embedding.txt --word_emb_dim 100 --val_batch_size 64 --char_emb_dim 25 --max_epochs 100 --char_rnn 50 --rnn_dim 200 --word_min_freq 10 --train_batch_size 16 --checkpoint /disks/md0-4T/users/b.mgm/checkpoints/training_62___char_rnn_50__rnn_dim_200__word_min_freq_10__train_batch_size_16  | tee -a /disks/md0-4T/users/b.mgm/logs/training_62___char_rnn_50__rnn_dim_200__word_min_freq_10__train_batch_size_16.log\n",
      "python /disks/md0-4T/users/b.mgm/model/train.py --data_path /disks/md0-4T/users/b.mgm/data/CRF --test_path test.bilou_CRF --val_path validation.bilou_CRF --train_path train.bilou_CRF --emb_path /disks/md0-4T/users/b.mgm/data/embedding/pretrained_embedding.txt --word_emb_dim 100 --val_batch_size 64 --char_emb_dim 25 --max_epochs 100 --char_rnn 50 --rnn_dim 300 --word_min_freq 0 --train_batch_size 4 --checkpoint /disks/md0-4T/users/b.mgm/checkpoints/training_63___char_rnn_50__rnn_dim_300__word_min_freq_0__train_batch_size_4  | tee -a /disks/md0-4T/users/b.mgm/logs/training_63___char_rnn_50__rnn_dim_300__word_min_freq_0__train_batch_size_4.log\n",
      "python /disks/md0-4T/users/b.mgm/model/train.py --data_path /disks/md0-4T/users/b.mgm/data/CRF --test_path test.bilou_CRF --val_path validation.bilou_CRF --train_path train.bilou_CRF --emb_path /disks/md0-4T/users/b.mgm/data/embedding/pretrained_embedding.txt --word_emb_dim 100 --val_batch_size 64 --char_emb_dim 25 --max_epochs 100 --char_rnn 50 --rnn_dim 300 --word_min_freq 0 --train_batch_size 8 --checkpoint /disks/md0-4T/users/b.mgm/checkpoints/training_64___char_rnn_50__rnn_dim_300__word_min_freq_0__train_batch_size_8  | tee -a /disks/md0-4T/users/b.mgm/logs/training_64___char_rnn_50__rnn_dim_300__word_min_freq_0__train_batch_size_8.log\n",
      "python /disks/md0-4T/users/b.mgm/model/train.py --data_path /disks/md0-4T/users/b.mgm/data/CRF --test_path test.bilou_CRF --val_path validation.bilou_CRF --train_path train.bilou_CRF --emb_path /disks/md0-4T/users/b.mgm/data/embedding/pretrained_embedding.txt --word_emb_dim 100 --val_batch_size 64 --char_emb_dim 25 --max_epochs 100 --char_rnn 50 --rnn_dim 300 --word_min_freq 0 --train_batch_size 16 --checkpoint /disks/md0-4T/users/b.mgm/checkpoints/training_65___char_rnn_50__rnn_dim_300__word_min_freq_0__train_batch_size_16  | tee -a /disks/md0-4T/users/b.mgm/logs/training_65___char_rnn_50__rnn_dim_300__word_min_freq_0__train_batch_size_16.log\n",
      "python /disks/md0-4T/users/b.mgm/model/train.py --data_path /disks/md0-4T/users/b.mgm/data/CRF --test_path test.bilou_CRF --val_path validation.bilou_CRF --train_path train.bilou_CRF --emb_path /disks/md0-4T/users/b.mgm/data/embedding/pretrained_embedding.txt --word_emb_dim 100 --val_batch_size 64 --char_emb_dim 25 --max_epochs 100 --char_rnn 50 --rnn_dim 300 --word_min_freq 5 --train_batch_size 4 --checkpoint /disks/md0-4T/users/b.mgm/checkpoints/training_66___char_rnn_50__rnn_dim_300__word_min_freq_5__train_batch_size_4  | tee -a /disks/md0-4T/users/b.mgm/logs/training_66___char_rnn_50__rnn_dim_300__word_min_freq_5__train_batch_size_4.log\n",
      "python /disks/md0-4T/users/b.mgm/model/train.py --data_path /disks/md0-4T/users/b.mgm/data/CRF --test_path test.bilou_CRF --val_path validation.bilou_CRF --train_path train.bilou_CRF --emb_path /disks/md0-4T/users/b.mgm/data/embedding/pretrained_embedding.txt --word_emb_dim 100 --val_batch_size 64 --char_emb_dim 25 --max_epochs 100 --char_rnn 50 --rnn_dim 300 --word_min_freq 5 --train_batch_size 8 --checkpoint /disks/md0-4T/users/b.mgm/checkpoints/training_67___char_rnn_50__rnn_dim_300__word_min_freq_5__train_batch_size_8  | tee -a /disks/md0-4T/users/b.mgm/logs/training_67___char_rnn_50__rnn_dim_300__word_min_freq_5__train_batch_size_8.log\n",
      "python /disks/md0-4T/users/b.mgm/model/train.py --data_path /disks/md0-4T/users/b.mgm/data/CRF --test_path test.bilou_CRF --val_path validation.bilou_CRF --train_path train.bilou_CRF --emb_path /disks/md0-4T/users/b.mgm/data/embedding/pretrained_embedding.txt --word_emb_dim 100 --val_batch_size 64 --char_emb_dim 25 --max_epochs 100 --char_rnn 50 --rnn_dim 300 --word_min_freq 5 --train_batch_size 16 --checkpoint /disks/md0-4T/users/b.mgm/checkpoints/training_68___char_rnn_50__rnn_dim_300__word_min_freq_5__train_batch_size_16  | tee -a /disks/md0-4T/users/b.mgm/logs/training_68___char_rnn_50__rnn_dim_300__word_min_freq_5__train_batch_size_16.log\n",
      "python /disks/md0-4T/users/b.mgm/model/train.py --data_path /disks/md0-4T/users/b.mgm/data/CRF --test_path test.bilou_CRF --val_path validation.bilou_CRF --train_path train.bilou_CRF --emb_path /disks/md0-4T/users/b.mgm/data/embedding/pretrained_embedding.txt --word_emb_dim 100 --val_batch_size 64 --char_emb_dim 25 --max_epochs 100 --char_rnn 50 --rnn_dim 300 --word_min_freq 10 --train_batch_size 4 --checkpoint /disks/md0-4T/users/b.mgm/checkpoints/training_69___char_rnn_50__rnn_dim_300__word_min_freq_10__train_batch_size_4  | tee -a /disks/md0-4T/users/b.mgm/logs/training_69___char_rnn_50__rnn_dim_300__word_min_freq_10__train_batch_size_4.log\n",
      "python /disks/md0-4T/users/b.mgm/model/train.py --data_path /disks/md0-4T/users/b.mgm/data/CRF --test_path test.bilou_CRF --val_path validation.bilou_CRF --train_path train.bilou_CRF --emb_path /disks/md0-4T/users/b.mgm/data/embedding/pretrained_embedding.txt --word_emb_dim 100 --val_batch_size 64 --char_emb_dim 25 --max_epochs 100 --char_rnn 50 --rnn_dim 300 --word_min_freq 10 --train_batch_size 8 --checkpoint /disks/md0-4T/users/b.mgm/checkpoints/training_70___char_rnn_50__rnn_dim_300__word_min_freq_10__train_batch_size_8  | tee -a /disks/md0-4T/users/b.mgm/logs/training_70___char_rnn_50__rnn_dim_300__word_min_freq_10__train_batch_size_8.log\n",
      "python /disks/md0-4T/users/b.mgm/model/train.py --data_path /disks/md0-4T/users/b.mgm/data/CRF --test_path test.bilou_CRF --val_path validation.bilou_CRF --train_path train.bilou_CRF --emb_path /disks/md0-4T/users/b.mgm/data/embedding/pretrained_embedding.txt --word_emb_dim 100 --val_batch_size 64 --char_emb_dim 25 --max_epochs 100 --char_rnn 50 --rnn_dim 300 --word_min_freq 10 --train_batch_size 16 --checkpoint /disks/md0-4T/users/b.mgm/checkpoints/training_71___char_rnn_50__rnn_dim_300__word_min_freq_10__train_batch_size_16  | tee -a /disks/md0-4T/users/b.mgm/logs/training_71___char_rnn_50__rnn_dim_300__word_min_freq_10__train_batch_size_16.log\n",
      "\n"
     ]
    }
   ],
   "source": [
    "train_file = open(json_list[\"output_train\"], 'r')\n",
    "print(\"Train file:\", json_list[\"output_train\"], \"\\n\\n\", train_file.read())\n",
    "train_file.close()"
   ]
  }
 ],
 "metadata": {
  "kernelspec": {
   "display_name": "Python 3",
   "language": "python",
   "name": "python3"
  },
  "language_info": {
   "codemirror_mode": {
    "name": "ipython",
    "version": 3
   },
   "file_extension": ".py",
   "mimetype": "text/x-python",
   "name": "python",
   "nbconvert_exporter": "python",
   "pygments_lexer": "ipython3",
   "version": "3.6.6"
  }
 },
 "nbformat": 4,
 "nbformat_minor": 2
}
