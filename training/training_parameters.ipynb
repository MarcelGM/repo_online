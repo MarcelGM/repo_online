{
 "cells": [
  {
   "cell_type": "markdown",
   "metadata": {},
   "source": [
    "# Importing Libraries & Reading JSON"
   ]
  },
  {
   "cell_type": "code",
   "execution_count": 56,
   "metadata": {},
   "outputs": [
    {
     "name": "stdout",
     "output_type": "stream",
     "text": [
      "parameters_json_file.json just opened\n",
      "{'rnn_dim': [100, 150, 200, 300], 'char_rnn': [25, 50], 'word_min_freq': [0, 5, 10], 'train_batch_size': [4, 8, 16]}\n"
     ]
    }
   ],
   "source": [
    "import sys\n",
    "import os\n",
    "import subprocess\n",
    "import json\n",
    "import itertools\n",
    "\n",
    "json_list = json.load(open('parameters_json_file.json', 'r'))\n",
    "print(\"parameters_json_file.json just opened\")\n",
    "\n",
    "data = json_list[\"data\"]\n",
    "parameters = json_list[\"parameters\"]\n",
    "fixed_parameters = parameters[\"fixed\"]\n",
    "iterable_parameters = parameters[\"iterable\"]\n",
    "print(iterable_parameters)"
   ]
  },
  {
   "cell_type": "markdown",
   "metadata": {},
   "source": [
    "## Parameters Combinations"
   ]
  },
  {
   "cell_type": "code",
   "execution_count": 40,
   "metadata": {},
   "outputs": [
    {
     "name": "stdout",
     "output_type": "stream",
     "text": [
      "rnn_dim \t [100, 150, 200, 300]\n",
      "char_rnn \t [25, 50]\n",
      "word_min_freq \t [0, 5, 10]\n",
      "train_batch_size \t [4, 8, 16]\n",
      "\n",
      "Number of combinations to try: 72\n"
     ]
    }
   ],
   "source": [
    "listofvalues=iterable_parameters.values()\n",
    "args_list = []\n",
    "for it_key in iterable_parameters:\n",
    "    print(it_key, \"\\t\", iterable_parameters[it_key])\n",
    "    args_list.append(it_key)\n",
    "parameter_combinations = list(itertools.product(*listofvalues))\n",
    "print(\"\\nNumber of combinations to try:\", len(parameter_combinations))\n"
   ]
  },
  {
   "cell_type": "markdown",
   "metadata": {},
   "source": [
    "## Class: Command - add_arg()"
   ]
  },
  {
   "cell_type": "code",
   "execution_count": 41,
   "metadata": {},
   "outputs": [],
   "source": [
    "class Command_string:\n",
    "    def __init__(self, initial_string = \"python\"):\n",
    "        self.string = initial_string\n",
    "    \n",
    "    def change(self, new_string):\n",
    "        self.string = new_string\n",
    "    \n",
    "    def add_arg_str(self, string):\n",
    "        self.string += \" \" + string\n",
    "        \n",
    "    def add_arg_dic(self, key, dic):\n",
    "        self.string += \" --\" + key + \" \" + str(dic[key])\n",
    "    \n",
    "    def add_arg_val(self, key, val):\n",
    "        self.string += \" --\" + key + \" \" + str(val)"
   ]
  },
  {
   "cell_type": "markdown",
   "metadata": {},
   "source": [
    "## Commands String"
   ]
  },
  {
   "cell_type": "markdown",
   "metadata": {},
   "source": [
    "### Fixed string part"
   ]
  },
  {
   "cell_type": "code",
   "execution_count": 42,
   "metadata": {},
   "outputs": [
    {
     "name": "stdout",
     "output_type": "stream",
     "text": [
      "python /disks/md0-4T/users/b.mgm/model/train.py --data_path /disks/md0-4T/users/b.mgm/data/CRF --train_path train.bilou_CRF --val_path validation.bilou_CRF --test_path test.bilou_CRF --emb_path /disks/md0-4T/users/b.mgm/data/embedding/pretrained_embedding.txt --char_emb_dim 25 --word_emb_dim 100 --val_batch_size 64 --max_epochs 100\n"
     ]
    }
   ],
   "source": [
    "fixed_command = Command_string()\n",
    "fixed_command.add_arg_str(json_list[\"train.py\"])\n",
    "for path_key in data:\n",
    "    fixed_command.add_arg_dic(path_key, data)\n",
    "for fixed_par_key in fixed_parameters:\n",
    "    fixed_command.add_arg_dic(fixed_par_key, fixed_parameters)\n",
    "print(fixed_command.string)"
   ]
  },
  {
   "cell_type": "markdown",
   "metadata": {},
   "source": [
    "### Changing common part (due to arguments combinations) --> list of strings"
   ]
  },
  {
   "cell_type": "code",
   "execution_count": 43,
   "metadata": {},
   "outputs": [],
   "source": [
    "common_list = []\n",
    "tmp_command = Command_string()\n",
    "name = []\n",
    "checkpoint_dirs = []\n",
    "\n",
    "for comb in parameter_combinations:\n",
    "    tmp_command.change(fixed_command.string)\n",
    "    comb_num = parameter_combinations.index(comb)\n",
    "    name.append(\"training_\" + str(comb_num) + \"_\")\n",
    "    for it_par_key in iterable_parameters:\n",
    "        key_index = list(iterable_parameters.keys()).index(it_par_key)\n",
    "        tmp_command.add_arg_val(it_par_key, comb[key_index])             # adds --parameterName parameterValue\n",
    "        name[comb_num] += \"__\" + it_par_key + \"_\" + str(comb[key_index]) # adds __parameterName_parameterValue\n",
    "    common_list.append(tmp_command.string)"
   ]
  },
  {
   "cell_type": "markdown",
   "metadata": {},
   "source": [
    "### Showing one command"
   ]
  },
  {
   "cell_type": "code",
   "execution_count": 44,
   "metadata": {},
   "outputs": [
    {
     "name": "stdout",
     "output_type": "stream",
     "text": [
      "List length: 72\n",
      "List command 3 (4/72):\n",
      "python /disks/md0-4T/users/b.mgm/model/train.py --data_path /disks/md0-4T/users/b.mgm/data/CRF --train_path train.bilou_CRF --val_path validation.bilou_CRF --test_path test.bilou_CRF --emb_path /disks/md0-4T/users/b.mgm/data/embedding/pretrained_embedding.txt --char_emb_dim 25 --word_emb_dim 100 --val_batch_size 64 --max_epochs 100 --rnn_dim 100 --char_rnn 25 --word_min_freq 5 --train_batch_size 4\n"
     ]
    }
   ],
   "source": [
    "print(\"List length:\", len(common_list))\n",
    "index_to_show = 3\n",
    "print(\"List command %d (%d/%d):\\n%s\" % (index_to_show, index_to_show+1, len(common_list), common_list[index_to_show]))"
   ]
  },
  {
   "cell_type": "markdown",
   "metadata": {},
   "source": [
    "## Training command"
   ]
  },
  {
   "cell_type": "code",
   "execution_count": 45,
   "metadata": {},
   "outputs": [],
   "source": [
    "train_command = Command_string()\n",
    "train_list = common_list.copy()\n",
    "for comb in parameter_combinations:\n",
    "    train_command.change(\"\")\n",
    "    comb_num = parameter_combinations.index(comb)\n",
    "    train_command.add_arg_val(\"checkpoint\", json_list[\"checkpoints\"] + \"/\" + name[comb_num])\n",
    "    train_command.add_arg_str(\" | tee -a \" + json_list[\"logs\"] + \"/\" + name[comb_num] + \".log\")\n",
    "    train_list[comb_num] += train_command.string"
   ]
  },
  {
   "cell_type": "code",
   "execution_count": 46,
   "metadata": {},
   "outputs": [
    {
     "name": "stdout",
     "output_type": "stream",
     "text": [
      " --checkpoint /disks/md0-4T/users/b.mgm/checkpoints/training_71___rnn_dim_300__char_rnn_50__word_min_freq_10__train_batch_size_16  | tee -a /disks/md0-4T/users/b.mgm/logs/training_71___rnn_dim_300__char_rnn_50__word_min_freq_10__train_batch_size_16.log\n",
      "List length: 72\n",
      "List command 71 (72/72):\n",
      "python /disks/md0-4T/users/b.mgm/model/train.py --data_path /disks/md0-4T/users/b.mgm/data/CRF --train_path train.bilou_CRF --val_path validation.bilou_CRF --test_path test.bilou_CRF --emb_path /disks/md0-4T/users/b.mgm/data/embedding/pretrained_embedding.txt --char_emb_dim 25 --word_emb_dim 100 --val_batch_size 64 --max_epochs 100 --rnn_dim 300 --char_rnn 50 --word_min_freq 10 --train_batch_size 16 --checkpoint /disks/md0-4T/users/b.mgm/checkpoints/training_71___rnn_dim_300__char_rnn_50__word_min_freq_10__train_batch_size_16  | tee -a /disks/md0-4T/users/b.mgm/logs/training_71___rnn_dim_300__char_rnn_50__word_min_freq_10__train_batch_size_16.log\n",
      "List command 71 (72/72):\n",
      "python /disks/md0-4T/users/b.mgm/model/train.py --data_path /disks/md0-4T/users/b.mgm/data/CRF --train_path train.bilou_CRF --val_path validation.bilou_CRF --test_path test.bilou_CRF --emb_path /disks/md0-4T/users/b.mgm/data/embedding/pretrained_embedding.txt --char_emb_dim 25 --word_emb_dim 100 --val_batch_size 64 --max_epochs 100 --rnn_dim 300 --char_rnn 50 --word_min_freq 10 --train_batch_size 16\n"
     ]
    }
   ],
   "source": [
    "print(train_command.string)\n",
    "print(\"List length:\", len(train_list))\n",
    "index_to_show = 71\n",
    "print(\"List command %d (%d/%d):\\n%s\" % (index_to_show, index_to_show+1, len(train_list), train_list[index_to_show]))\n",
    "\n",
    "\n",
    "print(\"List command %d (%d/%d):\\n%s\" % (index_to_show, index_to_show+1, len(common_list), common_list[index_to_show]))\n"
   ]
  },
  {
   "cell_type": "markdown",
   "metadata": {},
   "source": [
    "## Test command"
   ]
  },
  {
   "cell_type": "code",
   "execution_count": 68,
   "metadata": {},
   "outputs": [
    {
     "name": "stdout",
     "output_type": "stream",
     "text": [
      "~/work/checkpoints/training_1___rnn_dim_100__char_rnn_25__word_min_freq_0__train_batch_size_8\n"
     ]
    },
    {
     "ename": "FileNotFoundError",
     "evalue": "[Errno 2] No such file or directory: '~/work/checkpoints/training_1___rnn_dim_100__char_rnn_25__word_min_freq_0__train_batch_size_8'",
     "output_type": "error",
     "traceback": [
      "\u001b[0;31m---------------------------------------------------------------------------\u001b[0m",
      "\u001b[0;31mFileNotFoundError\u001b[0m                         Traceback (most recent call last)",
      "\u001b[0;32m<ipython-input-68-1f697f34e2f3>\u001b[0m in \u001b[0;36m<module>\u001b[0;34m()\u001b[0m\n\u001b[1;32m      1\u001b[0m \u001b[0mpath\u001b[0m \u001b[0;34m=\u001b[0m \u001b[0;34m\"~/work/checkpoints\"\u001b[0m\u001b[0;34m+\u001b[0m\u001b[0;34m\"/\"\u001b[0m\u001b[0;34m+\u001b[0m\u001b[0mname\u001b[0m\u001b[0;34m[\u001b[0m\u001b[0;36m1\u001b[0m\u001b[0;34m]\u001b[0m\u001b[0;34m\u001b[0m\u001b[0m\n\u001b[1;32m      2\u001b[0m \u001b[0mprint\u001b[0m\u001b[0;34m(\u001b[0m\u001b[0mpath\u001b[0m\u001b[0;34m)\u001b[0m\u001b[0;34m\u001b[0m\u001b[0m\n\u001b[0;32m----> 3\u001b[0;31m \u001b[0mos\u001b[0m\u001b[0;34m.\u001b[0m\u001b[0mchdir\u001b[0m\u001b[0;34m(\u001b[0m\u001b[0mpath\u001b[0m\u001b[0;34m)\u001b[0m\u001b[0;34m\u001b[0m\u001b[0m\n\u001b[0m\u001b[1;32m      4\u001b[0m \u001b[0mpwd\u001b[0m \u001b[0;34m=\u001b[0m \u001b[0msubprocess\u001b[0m\u001b[0;34m.\u001b[0m\u001b[0mcheck_output\u001b[0m\u001b[0;34m(\u001b[0m\u001b[0;34m\"pwd\"\u001b[0m\u001b[0;34m)\u001b[0m\u001b[0;34m\u001b[0m\u001b[0m\n\u001b[1;32m      5\u001b[0m \u001b[0mprint\u001b[0m\u001b[0;34m(\u001b[0m\u001b[0mpwd\u001b[0m\u001b[0;34m.\u001b[0m\u001b[0mdecode\u001b[0m\u001b[0;34m(\u001b[0m\u001b[0;34m\"utf-8\"\u001b[0m\u001b[0;34m)\u001b[0m\u001b[0;34m)\u001b[0m\u001b[0;34m\u001b[0m\u001b[0m\n",
      "\u001b[0;31mFileNotFoundError\u001b[0m: [Errno 2] No such file or directory: '~/work/checkpoints/training_1___rnn_dim_100__char_rnn_25__word_min_freq_0__train_batch_size_8'"
     ]
    }
   ],
   "source": [
    "path = \"~/work/checkpoints\"+\"/\"+name[1]\n",
    "print(path)\n",
    "os.chdir(path)\n",
    "pwd = subprocess.check_output(\"pwd\")\n",
    "print(pwd.decode(\"utf-8\"))\n",
    "cmd = json_list[\"sort_chekpoints_path\"] + \" -H \" + str(json_list[\"N_best\"]) + \" \" \\\n",
    "      + json_list[\"checkpoints\"] + \"/\" + name[1] + \" | cut -f 3\"\n",
    "print(cmd)\n",
    "best_epochs = subprocess.check_output(cmd)\n",
    "print(best_epochs.decode(\"utf-8\"))"
   ]
  },
  {
   "cell_type": "code",
   "execution_count": null,
   "metadata": {},
   "outputs": [],
   "source": [
    "train_command = Command_string(\"\")\n",
    "train_list = common_list.copy()\n",
    "for comb in parameter_combinations:\n",
    "    train_command.change(\"\")\n",
    "    comb_num = parameter_combinations.index(comb)\n",
    "    train_command.add_arg_val(\"checkpoint\", json_list[\"checkpoints\"] + \"/\" + name[comb_num])\n",
    "    train_command.add_arg_str(\" |& tee -a \" + json_list[\"logs\"] + \"/\" + name[comb_num] + \".log\")\n",
    "    train_list[comb_num] += train_command.string"
   ]
  },
  {
   "cell_type": "markdown",
   "metadata": {},
   "source": [
    "# Output Files"
   ]
  },
  {
   "cell_type": "markdown",
   "metadata": {},
   "source": [
    "## Train File"
   ]
  },
  {
   "cell_type": "code",
   "execution_count": null,
   "metadata": {},
   "outputs": [],
   "source": [
    "#Opening and writing in train file\n",
    "train_file = open(json_list[\"output_train\"], 'w')\n",
    "for line in train_list:\n",
    "    train_file.write(line + \"\\n\")\n",
    "train_file.close()"
   ]
  },
  {
   "cell_type": "code",
   "execution_count": 36,
   "metadata": {},
   "outputs": [
    {
     "name": "stdout",
     "output_type": "stream",
     "text": [
      "Train file: training_commands.lst \n",
      "\n",
      " python /disks/md0-4T/users/b.mgm/model/train.py --data_path /disks/md0-4T/users/b.mgm/data/CRF --train_path train.bilou_CRF --val_path validation.bilou_CRF --test_path test.bilou_CRF --emb_path /disks/md0-4T/users/b.mgm/data/embedding/pretrained_embedding.txt --char_emb_dim 25 --word_emb_dim 100 --val_batch_size 64 --max_epochs 100 --rnn_dim 100 --char_rnn 25 --word_min_freq 0 --train_batch_size 4 --checkpoint /disks/md0-4T/users/b.mgm/checkpoints/training_0___rnn_dim_100__char_rnn_25__word_min_freq_0__train_batch_size_4  | tee -a /disks/md0-4T/users/b.mgm/logs/training_0___rnn_dim_100__char_rnn_25__word_min_freq_0__train_batch_size_4.log\n",
      "python /disks/md0-4T/users/b.mgm/model/train.py --data_path /disks/md0-4T/users/b.mgm/data/CRF --train_path train.bilou_CRF --val_path validation.bilou_CRF --test_path test.bilou_CRF --emb_path /disks/md0-4T/users/b.mgm/data/embedding/pretrained_embedding.txt --char_emb_dim 25 --word_emb_dim 100 --val_batch_size 64 --max_epochs 100 --rnn_dim 100 --char_rnn 25 --word_min_freq 0 --train_batch_size 8 --checkpoint /disks/md0-4T/users/b.mgm/checkpoints/training_1___rnn_dim_100__char_rnn_25__word_min_freq_0__train_batch_size_8  | tee -a /disks/md0-4T/users/b.mgm/logs/training_1___rnn_dim_100__char_rnn_25__word_min_freq_0__train_batch_size_8.log\n",
      "python /disks/md0-4T/users/b.mgm/model/train.py --data_path /disks/md0-4T/users/b.mgm/data/CRF --train_path train.bilou_CRF --val_path validation.bilou_CRF --test_path test.bilou_CRF --emb_path /disks/md0-4T/users/b.mgm/data/embedding/pretrained_embedding.txt --char_emb_dim 25 --word_emb_dim 100 --val_batch_size 64 --max_epochs 100 --rnn_dim 100 --char_rnn 25 --word_min_freq 0 --train_batch_size 16 --checkpoint /disks/md0-4T/users/b.mgm/checkpoints/training_2___rnn_dim_100__char_rnn_25__word_min_freq_0__train_batch_size_16  | tee -a /disks/md0-4T/users/b.mgm/logs/training_2___rnn_dim_100__char_rnn_25__word_min_freq_0__train_batch_size_16.log\n",
      "python /disks/md0-4T/users/b.mgm/model/train.py --data_path /disks/md0-4T/users/b.mgm/data/CRF --train_path train.bilou_CRF --val_path validation.bilou_CRF --test_path test.bilou_CRF --emb_path /disks/md0-4T/users/b.mgm/data/embedding/pretrained_embedding.txt --char_emb_dim 25 --word_emb_dim 100 --val_batch_size 64 --max_epochs 100 --rnn_dim 100 --char_rnn 25 --word_min_freq 5 --train_batch_size 4 --checkpoint /disks/md0-4T/users/b.mgm/checkpoints/training_3___rnn_dim_100__char_rnn_25__word_min_freq_5__train_batch_size_4  | tee -a /disks/md0-4T/users/b.mgm/logs/training_3___rnn_dim_100__char_rnn_25__word_min_freq_5__train_batch_size_4.log\n",
      "python /disks/md0-4T/users/b.mgm/model/train.py --data_path /disks/md0-4T/users/b.mgm/data/CRF --train_path train.bilou_CRF --val_path validation.bilou_CRF --test_path test.bilou_CRF --emb_path /disks/md0-4T/users/b.mgm/data/embedding/pretrained_embedding.txt --char_emb_dim 25 --word_emb_dim 100 --val_batch_size 64 --max_epochs 100 --rnn_dim 100 --char_rnn 25 --word_min_freq 5 --train_batch_size 8 --checkpoint /disks/md0-4T/users/b.mgm/checkpoints/training_4___rnn_dim_100__char_rnn_25__word_min_freq_5__train_batch_size_8  | tee -a /disks/md0-4T/users/b.mgm/logs/training_4___rnn_dim_100__char_rnn_25__word_min_freq_5__train_batch_size_8.log\n",
      "python /disks/md0-4T/users/b.mgm/model/train.py --data_path /disks/md0-4T/users/b.mgm/data/CRF --train_path train.bilou_CRF --val_path validation.bilou_CRF --test_path test.bilou_CRF --emb_path /disks/md0-4T/users/b.mgm/data/embedding/pretrained_embedding.txt --char_emb_dim 25 --word_emb_dim 100 --val_batch_size 64 --max_epochs 100 --rnn_dim 100 --char_rnn 25 --word_min_freq 5 --train_batch_size 16 --checkpoint /disks/md0-4T/users/b.mgm/checkpoints/training_5___rnn_dim_100__char_rnn_25__word_min_freq_5__train_batch_size_16  | tee -a /disks/md0-4T/users/b.mgm/logs/training_5___rnn_dim_100__char_rnn_25__word_min_freq_5__train_batch_size_16.log\n",
      "python /disks/md0-4T/users/b.mgm/model/train.py --data_path /disks/md0-4T/users/b.mgm/data/CRF --train_path train.bilou_CRF --val_path validation.bilou_CRF --test_path test.bilou_CRF --emb_path /disks/md0-4T/users/b.mgm/data/embedding/pretrained_embedding.txt --char_emb_dim 25 --word_emb_dim 100 --val_batch_size 64 --max_epochs 100 --rnn_dim 100 --char_rnn 25 --word_min_freq 10 --train_batch_size 4 --checkpoint /disks/md0-4T/users/b.mgm/checkpoints/training_6___rnn_dim_100__char_rnn_25__word_min_freq_10__train_batch_size_4  | tee -a /disks/md0-4T/users/b.mgm/logs/training_6___rnn_dim_100__char_rnn_25__word_min_freq_10__train_batch_size_4.log\n",
      "python /disks/md0-4T/users/b.mgm/model/train.py --data_path /disks/md0-4T/users/b.mgm/data/CRF --train_path train.bilou_CRF --val_path validation.bilou_CRF --test_path test.bilou_CRF --emb_path /disks/md0-4T/users/b.mgm/data/embedding/pretrained_embedding.txt --char_emb_dim 25 --word_emb_dim 100 --val_batch_size 64 --max_epochs 100 --rnn_dim 100 --char_rnn 25 --word_min_freq 10 --train_batch_size 8 --checkpoint /disks/md0-4T/users/b.mgm/checkpoints/training_7___rnn_dim_100__char_rnn_25__word_min_freq_10__train_batch_size_8  | tee -a /disks/md0-4T/users/b.mgm/logs/training_7___rnn_dim_100__char_rnn_25__word_min_freq_10__train_batch_size_8.log\n",
      "python /disks/md0-4T/users/b.mgm/model/train.py --data_path /disks/md0-4T/users/b.mgm/data/CRF --train_path train.bilou_CRF --val_path validation.bilou_CRF --test_path test.bilou_CRF --emb_path /disks/md0-4T/users/b.mgm/data/embedding/pretrained_embedding.txt --char_emb_dim 25 --word_emb_dim 100 --val_batch_size 64 --max_epochs 100 --rnn_dim 100 --char_rnn 25 --word_min_freq 10 --train_batch_size 16 --checkpoint /disks/md0-4T/users/b.mgm/checkpoints/training_8___rnn_dim_100__char_rnn_25__word_min_freq_10__train_batch_size_16  | tee -a /disks/md0-4T/users/b.mgm/logs/training_8___rnn_dim_100__char_rnn_25__word_min_freq_10__train_batch_size_16.log\n",
      "python /disks/md0-4T/users/b.mgm/model/train.py --data_path /disks/md0-4T/users/b.mgm/data/CRF --train_path train.bilou_CRF --val_path validation.bilou_CRF --test_path test.bilou_CRF --emb_path /disks/md0-4T/users/b.mgm/data/embedding/pretrained_embedding.txt --char_emb_dim 25 --word_emb_dim 100 --val_batch_size 64 --max_epochs 100 --rnn_dim 100 --char_rnn 50 --word_min_freq 0 --train_batch_size 4 --checkpoint /disks/md0-4T/users/b.mgm/checkpoints/training_9___rnn_dim_100__char_rnn_50__word_min_freq_0__train_batch_size_4  | tee -a /disks/md0-4T/users/b.mgm/logs/training_9___rnn_dim_100__char_rnn_50__word_min_freq_0__train_batch_size_4.log\n",
      "python /disks/md0-4T/users/b.mgm/model/train.py --data_path /disks/md0-4T/users/b.mgm/data/CRF --train_path train.bilou_CRF --val_path validation.bilou_CRF --test_path test.bilou_CRF --emb_path /disks/md0-4T/users/b.mgm/data/embedding/pretrained_embedding.txt --char_emb_dim 25 --word_emb_dim 100 --val_batch_size 64 --max_epochs 100 --rnn_dim 100 --char_rnn 50 --word_min_freq 0 --train_batch_size 8 --checkpoint /disks/md0-4T/users/b.mgm/checkpoints/training_10___rnn_dim_100__char_rnn_50__word_min_freq_0__train_batch_size_8  | tee -a /disks/md0-4T/users/b.mgm/logs/training_10___rnn_dim_100__char_rnn_50__word_min_freq_0__train_batch_size_8.log\n",
      "python /disks/md0-4T/users/b.mgm/model/train.py --data_path /disks/md0-4T/users/b.mgm/data/CRF --train_path train.bilou_CRF --val_path validation.bilou_CRF --test_path test.bilou_CRF --emb_path /disks/md0-4T/users/b.mgm/data/embedding/pretrained_embedding.txt --char_emb_dim 25 --word_emb_dim 100 --val_batch_size 64 --max_epochs 100 --rnn_dim 100 --char_rnn 50 --word_min_freq 0 --train_batch_size 16 --checkpoint /disks/md0-4T/users/b.mgm/checkpoints/training_11___rnn_dim_100__char_rnn_50__word_min_freq_0__train_batch_size_16  | tee -a /disks/md0-4T/users/b.mgm/logs/training_11___rnn_dim_100__char_rnn_50__word_min_freq_0__train_batch_size_16.log\n",
      "python /disks/md0-4T/users/b.mgm/model/train.py --data_path /disks/md0-4T/users/b.mgm/data/CRF --train_path train.bilou_CRF --val_path validation.bilou_CRF --test_path test.bilou_CRF --emb_path /disks/md0-4T/users/b.mgm/data/embedding/pretrained_embedding.txt --char_emb_dim 25 --word_emb_dim 100 --val_batch_size 64 --max_epochs 100 --rnn_dim 100 --char_rnn 50 --word_min_freq 5 --train_batch_size 4 --checkpoint /disks/md0-4T/users/b.mgm/checkpoints/training_12___rnn_dim_100__char_rnn_50__word_min_freq_5__train_batch_size_4  | tee -a /disks/md0-4T/users/b.mgm/logs/training_12___rnn_dim_100__char_rnn_50__word_min_freq_5__train_batch_size_4.log\n",
      "python /disks/md0-4T/users/b.mgm/model/train.py --data_path /disks/md0-4T/users/b.mgm/data/CRF --train_path train.bilou_CRF --val_path validation.bilou_CRF --test_path test.bilou_CRF --emb_path /disks/md0-4T/users/b.mgm/data/embedding/pretrained_embedding.txt --char_emb_dim 25 --word_emb_dim 100 --val_batch_size 64 --max_epochs 100 --rnn_dim 100 --char_rnn 50 --word_min_freq 5 --train_batch_size 8 --checkpoint /disks/md0-4T/users/b.mgm/checkpoints/training_13___rnn_dim_100__char_rnn_50__word_min_freq_5__train_batch_size_8  | tee -a /disks/md0-4T/users/b.mgm/logs/training_13___rnn_dim_100__char_rnn_50__word_min_freq_5__train_batch_size_8.log\n",
      "python /disks/md0-4T/users/b.mgm/model/train.py --data_path /disks/md0-4T/users/b.mgm/data/CRF --train_path train.bilou_CRF --val_path validation.bilou_CRF --test_path test.bilou_CRF --emb_path /disks/md0-4T/users/b.mgm/data/embedding/pretrained_embedding.txt --char_emb_dim 25 --word_emb_dim 100 --val_batch_size 64 --max_epochs 100 --rnn_dim 100 --char_rnn 50 --word_min_freq 5 --train_batch_size 16 --checkpoint /disks/md0-4T/users/b.mgm/checkpoints/training_14___rnn_dim_100__char_rnn_50__word_min_freq_5__train_batch_size_16  | tee -a /disks/md0-4T/users/b.mgm/logs/training_14___rnn_dim_100__char_rnn_50__word_min_freq_5__train_batch_size_16.log\n",
      "python /disks/md0-4T/users/b.mgm/model/train.py --data_path /disks/md0-4T/users/b.mgm/data/CRF --train_path train.bilou_CRF --val_path validation.bilou_CRF --test_path test.bilou_CRF --emb_path /disks/md0-4T/users/b.mgm/data/embedding/pretrained_embedding.txt --char_emb_dim 25 --word_emb_dim 100 --val_batch_size 64 --max_epochs 100 --rnn_dim 100 --char_rnn 50 --word_min_freq 10 --train_batch_size 4 --checkpoint /disks/md0-4T/users/b.mgm/checkpoints/training_15___rnn_dim_100__char_rnn_50__word_min_freq_10__train_batch_size_4  | tee -a /disks/md0-4T/users/b.mgm/logs/training_15___rnn_dim_100__char_rnn_50__word_min_freq_10__train_batch_size_4.log\n",
      "python /disks/md0-4T/users/b.mgm/model/train.py --data_path /disks/md0-4T/users/b.mgm/data/CRF --train_path train.bilou_CRF --val_path validation.bilou_CRF --test_path test.bilou_CRF --emb_path /disks/md0-4T/users/b.mgm/data/embedding/pretrained_embedding.txt --char_emb_dim 25 --word_emb_dim 100 --val_batch_size 64 --max_epochs 100 --rnn_dim 100 --char_rnn 50 --word_min_freq 10 --train_batch_size 8 --checkpoint /disks/md0-4T/users/b.mgm/checkpoints/training_16___rnn_dim_100__char_rnn_50__word_min_freq_10__train_batch_size_8  | tee -a /disks/md0-4T/users/b.mgm/logs/training_16___rnn_dim_100__char_rnn_50__word_min_freq_10__train_batch_size_8.log\n",
      "python /disks/md0-4T/users/b.mgm/model/train.py --data_path /disks/md0-4T/users/b.mgm/data/CRF --train_path train.bilou_CRF --val_path validation.bilou_CRF --test_path test.bilou_CRF --emb_path /disks/md0-4T/users/b.mgm/data/embedding/pretrained_embedding.txt --char_emb_dim 25 --word_emb_dim 100 --val_batch_size 64 --max_epochs 100 --rnn_dim 100 --char_rnn 50 --word_min_freq 10 --train_batch_size 16 --checkpoint /disks/md0-4T/users/b.mgm/checkpoints/training_17___rnn_dim_100__char_rnn_50__word_min_freq_10__train_batch_size_16  | tee -a /disks/md0-4T/users/b.mgm/logs/training_17___rnn_dim_100__char_rnn_50__word_min_freq_10__train_batch_size_16.log\n",
      "python /disks/md0-4T/users/b.mgm/model/train.py --data_path /disks/md0-4T/users/b.mgm/data/CRF --train_path train.bilou_CRF --val_path validation.bilou_CRF --test_path test.bilou_CRF --emb_path /disks/md0-4T/users/b.mgm/data/embedding/pretrained_embedding.txt --char_emb_dim 25 --word_emb_dim 100 --val_batch_size 64 --max_epochs 100 --rnn_dim 150 --char_rnn 25 --word_min_freq 0 --train_batch_size 4 --checkpoint /disks/md0-4T/users/b.mgm/checkpoints/training_18___rnn_dim_150__char_rnn_25__word_min_freq_0__train_batch_size_4  | tee -a /disks/md0-4T/users/b.mgm/logs/training_18___rnn_dim_150__char_rnn_25__word_min_freq_0__train_batch_size_4.log\n",
      "python /disks/md0-4T/users/b.mgm/model/train.py --data_path /disks/md0-4T/users/b.mgm/data/CRF --train_path train.bilou_CRF --val_path validation.bilou_CRF --test_path test.bilou_CRF --emb_path /disks/md0-4T/users/b.mgm/data/embedding/pretrained_embedding.txt --char_emb_dim 25 --word_emb_dim 100 --val_batch_size 64 --max_epochs 100 --rnn_dim 150 --char_rnn 25 --word_min_freq 0 --train_batch_size 8 --checkpoint /disks/md0-4T/users/b.mgm/checkpoints/training_19___rnn_dim_150__char_rnn_25__word_min_freq_0__train_batch_size_8  | tee -a /disks/md0-4T/users/b.mgm/logs/training_19___rnn_dim_150__char_rnn_25__word_min_freq_0__train_batch_size_8.log\n",
      "python /disks/md0-4T/users/b.mgm/model/train.py --data_path /disks/md0-4T/users/b.mgm/data/CRF --train_path train.bilou_CRF --val_path validation.bilou_CRF --test_path test.bilou_CRF --emb_path /disks/md0-4T/users/b.mgm/data/embedding/pretrained_embedding.txt --char_emb_dim 25 --word_emb_dim 100 --val_batch_size 64 --max_epochs 100 --rnn_dim 150 --char_rnn 25 --word_min_freq 0 --train_batch_size 16 --checkpoint /disks/md0-4T/users/b.mgm/checkpoints/training_20___rnn_dim_150__char_rnn_25__word_min_freq_0__train_batch_size_16  | tee -a /disks/md0-4T/users/b.mgm/logs/training_20___rnn_dim_150__char_rnn_25__word_min_freq_0__train_batch_size_16.log\n",
      "python /disks/md0-4T/users/b.mgm/model/train.py --data_path /disks/md0-4T/users/b.mgm/data/CRF --train_path train.bilou_CRF --val_path validation.bilou_CRF --test_path test.bilou_CRF --emb_path /disks/md0-4T/users/b.mgm/data/embedding/pretrained_embedding.txt --char_emb_dim 25 --word_emb_dim 100 --val_batch_size 64 --max_epochs 100 --rnn_dim 150 --char_rnn 25 --word_min_freq 5 --train_batch_size 4 --checkpoint /disks/md0-4T/users/b.mgm/checkpoints/training_21___rnn_dim_150__char_rnn_25__word_min_freq_5__train_batch_size_4  | tee -a /disks/md0-4T/users/b.mgm/logs/training_21___rnn_dim_150__char_rnn_25__word_min_freq_5__train_batch_size_4.log\n",
      "python /disks/md0-4T/users/b.mgm/model/train.py --data_path /disks/md0-4T/users/b.mgm/data/CRF --train_path train.bilou_CRF --val_path validation.bilou_CRF --test_path test.bilou_CRF --emb_path /disks/md0-4T/users/b.mgm/data/embedding/pretrained_embedding.txt --char_emb_dim 25 --word_emb_dim 100 --val_batch_size 64 --max_epochs 100 --rnn_dim 150 --char_rnn 25 --word_min_freq 5 --train_batch_size 8 --checkpoint /disks/md0-4T/users/b.mgm/checkpoints/training_22___rnn_dim_150__char_rnn_25__word_min_freq_5__train_batch_size_8  | tee -a /disks/md0-4T/users/b.mgm/logs/training_22___rnn_dim_150__char_rnn_25__word_min_freq_5__train_batch_size_8.log\n",
      "python /disks/md0-4T/users/b.mgm/model/train.py --data_path /disks/md0-4T/users/b.mgm/data/CRF --train_path train.bilou_CRF --val_path validation.bilou_CRF --test_path test.bilou_CRF --emb_path /disks/md0-4T/users/b.mgm/data/embedding/pretrained_embedding.txt --char_emb_dim 25 --word_emb_dim 100 --val_batch_size 64 --max_epochs 100 --rnn_dim 150 --char_rnn 25 --word_min_freq 5 --train_batch_size 16 --checkpoint /disks/md0-4T/users/b.mgm/checkpoints/training_23___rnn_dim_150__char_rnn_25__word_min_freq_5__train_batch_size_16  | tee -a /disks/md0-4T/users/b.mgm/logs/training_23___rnn_dim_150__char_rnn_25__word_min_freq_5__train_batch_size_16.log\n",
      "python /disks/md0-4T/users/b.mgm/model/train.py --data_path /disks/md0-4T/users/b.mgm/data/CRF --train_path train.bilou_CRF --val_path validation.bilou_CRF --test_path test.bilou_CRF --emb_path /disks/md0-4T/users/b.mgm/data/embedding/pretrained_embedding.txt --char_emb_dim 25 --word_emb_dim 100 --val_batch_size 64 --max_epochs 100 --rnn_dim 150 --char_rnn 25 --word_min_freq 10 --train_batch_size 4 --checkpoint /disks/md0-4T/users/b.mgm/checkpoints/training_24___rnn_dim_150__char_rnn_25__word_min_freq_10__train_batch_size_4  | tee -a /disks/md0-4T/users/b.mgm/logs/training_24___rnn_dim_150__char_rnn_25__word_min_freq_10__train_batch_size_4.log\n",
      "python /disks/md0-4T/users/b.mgm/model/train.py --data_path /disks/md0-4T/users/b.mgm/data/CRF --train_path train.bilou_CRF --val_path validation.bilou_CRF --test_path test.bilou_CRF --emb_path /disks/md0-4T/users/b.mgm/data/embedding/pretrained_embedding.txt --char_emb_dim 25 --word_emb_dim 100 --val_batch_size 64 --max_epochs 100 --rnn_dim 150 --char_rnn 25 --word_min_freq 10 --train_batch_size 8 --checkpoint /disks/md0-4T/users/b.mgm/checkpoints/training_25___rnn_dim_150__char_rnn_25__word_min_freq_10__train_batch_size_8  | tee -a /disks/md0-4T/users/b.mgm/logs/training_25___rnn_dim_150__char_rnn_25__word_min_freq_10__train_batch_size_8.log\n",
      "python /disks/md0-4T/users/b.mgm/model/train.py --data_path /disks/md0-4T/users/b.mgm/data/CRF --train_path train.bilou_CRF --val_path validation.bilou_CRF --test_path test.bilou_CRF --emb_path /disks/md0-4T/users/b.mgm/data/embedding/pretrained_embedding.txt --char_emb_dim 25 --word_emb_dim 100 --val_batch_size 64 --max_epochs 100 --rnn_dim 150 --char_rnn 25 --word_min_freq 10 --train_batch_size 16 --checkpoint /disks/md0-4T/users/b.mgm/checkpoints/training_26___rnn_dim_150__char_rnn_25__word_min_freq_10__train_batch_size_16  | tee -a /disks/md0-4T/users/b.mgm/logs/training_26___rnn_dim_150__char_rnn_25__word_min_freq_10__train_batch_size_16.log\n",
      "python /disks/md0-4T/users/b.mgm/model/train.py --data_path /disks/md0-4T/users/b.mgm/data/CRF --train_path train.bilou_CRF --val_path validation.bilou_CRF --test_path test.bilou_CRF --emb_path /disks/md0-4T/users/b.mgm/data/embedding/pretrained_embedding.txt --char_emb_dim 25 --word_emb_dim 100 --val_batch_size 64 --max_epochs 100 --rnn_dim 150 --char_rnn 50 --word_min_freq 0 --train_batch_size 4 --checkpoint /disks/md0-4T/users/b.mgm/checkpoints/training_27___rnn_dim_150__char_rnn_50__word_min_freq_0__train_batch_size_4  | tee -a /disks/md0-4T/users/b.mgm/logs/training_27___rnn_dim_150__char_rnn_50__word_min_freq_0__train_batch_size_4.log\n",
      "python /disks/md0-4T/users/b.mgm/model/train.py --data_path /disks/md0-4T/users/b.mgm/data/CRF --train_path train.bilou_CRF --val_path validation.bilou_CRF --test_path test.bilou_CRF --emb_path /disks/md0-4T/users/b.mgm/data/embedding/pretrained_embedding.txt --char_emb_dim 25 --word_emb_dim 100 --val_batch_size 64 --max_epochs 100 --rnn_dim 150 --char_rnn 50 --word_min_freq 0 --train_batch_size 8 --checkpoint /disks/md0-4T/users/b.mgm/checkpoints/training_28___rnn_dim_150__char_rnn_50__word_min_freq_0__train_batch_size_8  | tee -a /disks/md0-4T/users/b.mgm/logs/training_28___rnn_dim_150__char_rnn_50__word_min_freq_0__train_batch_size_8.log\n",
      "python /disks/md0-4T/users/b.mgm/model/train.py --data_path /disks/md0-4T/users/b.mgm/data/CRF --train_path train.bilou_CRF --val_path validation.bilou_CRF --test_path test.bilou_CRF --emb_path /disks/md0-4T/users/b.mgm/data/embedding/pretrained_embedding.txt --char_emb_dim 25 --word_emb_dim 100 --val_batch_size 64 --max_epochs 100 --rnn_dim 150 --char_rnn 50 --word_min_freq 0 --train_batch_size 16 --checkpoint /disks/md0-4T/users/b.mgm/checkpoints/training_29___rnn_dim_150__char_rnn_50__word_min_freq_0__train_batch_size_16  | tee -a /disks/md0-4T/users/b.mgm/logs/training_29___rnn_dim_150__char_rnn_50__word_min_freq_0__train_batch_size_16.log\n",
      "python /disks/md0-4T/users/b.mgm/model/train.py --data_path /disks/md0-4T/users/b.mgm/data/CRF --train_path train.bilou_CRF --val_path validation.bilou_CRF --test_path test.bilou_CRF --emb_path /disks/md0-4T/users/b.mgm/data/embedding/pretrained_embedding.txt --char_emb_dim 25 --word_emb_dim 100 --val_batch_size 64 --max_epochs 100 --rnn_dim 150 --char_rnn 50 --word_min_freq 5 --train_batch_size 4 --checkpoint /disks/md0-4T/users/b.mgm/checkpoints/training_30___rnn_dim_150__char_rnn_50__word_min_freq_5__train_batch_size_4  | tee -a /disks/md0-4T/users/b.mgm/logs/training_30___rnn_dim_150__char_rnn_50__word_min_freq_5__train_batch_size_4.log\n",
      "python /disks/md0-4T/users/b.mgm/model/train.py --data_path /disks/md0-4T/users/b.mgm/data/CRF --train_path train.bilou_CRF --val_path validation.bilou_CRF --test_path test.bilou_CRF --emb_path /disks/md0-4T/users/b.mgm/data/embedding/pretrained_embedding.txt --char_emb_dim 25 --word_emb_dim 100 --val_batch_size 64 --max_epochs 100 --rnn_dim 150 --char_rnn 50 --word_min_freq 5 --train_batch_size 8 --checkpoint /disks/md0-4T/users/b.mgm/checkpoints/training_31___rnn_dim_150__char_rnn_50__word_min_freq_5__train_batch_size_8  | tee -a /disks/md0-4T/users/b.mgm/logs/training_31___rnn_dim_150__char_rnn_50__word_min_freq_5__train_batch_size_8.log\n",
      "python /disks/md0-4T/users/b.mgm/model/train.py --data_path /disks/md0-4T/users/b.mgm/data/CRF --train_path train.bilou_CRF --val_path validation.bilou_CRF --test_path test.bilou_CRF --emb_path /disks/md0-4T/users/b.mgm/data/embedding/pretrained_embedding.txt --char_emb_dim 25 --word_emb_dim 100 --val_batch_size 64 --max_epochs 100 --rnn_dim 150 --char_rnn 50 --word_min_freq 5 --train_batch_size 16 --checkpoint /disks/md0-4T/users/b.mgm/checkpoints/training_32___rnn_dim_150__char_rnn_50__word_min_freq_5__train_batch_size_16  | tee -a /disks/md0-4T/users/b.mgm/logs/training_32___rnn_dim_150__char_rnn_50__word_min_freq_5__train_batch_size_16.log\n",
      "python /disks/md0-4T/users/b.mgm/model/train.py --data_path /disks/md0-4T/users/b.mgm/data/CRF --train_path train.bilou_CRF --val_path validation.bilou_CRF --test_path test.bilou_CRF --emb_path /disks/md0-4T/users/b.mgm/data/embedding/pretrained_embedding.txt --char_emb_dim 25 --word_emb_dim 100 --val_batch_size 64 --max_epochs 100 --rnn_dim 150 --char_rnn 50 --word_min_freq 10 --train_batch_size 4 --checkpoint /disks/md0-4T/users/b.mgm/checkpoints/training_33___rnn_dim_150__char_rnn_50__word_min_freq_10__train_batch_size_4  | tee -a /disks/md0-4T/users/b.mgm/logs/training_33___rnn_dim_150__char_rnn_50__word_min_freq_10__train_batch_size_4.log\n",
      "python /disks/md0-4T/users/b.mgm/model/train.py --data_path /disks/md0-4T/users/b.mgm/data/CRF --train_path train.bilou_CRF --val_path validation.bilou_CRF --test_path test.bilou_CRF --emb_path /disks/md0-4T/users/b.mgm/data/embedding/pretrained_embedding.txt --char_emb_dim 25 --word_emb_dim 100 --val_batch_size 64 --max_epochs 100 --rnn_dim 150 --char_rnn 50 --word_min_freq 10 --train_batch_size 8 --checkpoint /disks/md0-4T/users/b.mgm/checkpoints/training_34___rnn_dim_150__char_rnn_50__word_min_freq_10__train_batch_size_8  | tee -a /disks/md0-4T/users/b.mgm/logs/training_34___rnn_dim_150__char_rnn_50__word_min_freq_10__train_batch_size_8.log\n",
      "python /disks/md0-4T/users/b.mgm/model/train.py --data_path /disks/md0-4T/users/b.mgm/data/CRF --train_path train.bilou_CRF --val_path validation.bilou_CRF --test_path test.bilou_CRF --emb_path /disks/md0-4T/users/b.mgm/data/embedding/pretrained_embedding.txt --char_emb_dim 25 --word_emb_dim 100 --val_batch_size 64 --max_epochs 100 --rnn_dim 150 --char_rnn 50 --word_min_freq 10 --train_batch_size 16 --checkpoint /disks/md0-4T/users/b.mgm/checkpoints/training_35___rnn_dim_150__char_rnn_50__word_min_freq_10__train_batch_size_16  | tee -a /disks/md0-4T/users/b.mgm/logs/training_35___rnn_dim_150__char_rnn_50__word_min_freq_10__train_batch_size_16.log\n",
      "python /disks/md0-4T/users/b.mgm/model/train.py --data_path /disks/md0-4T/users/b.mgm/data/CRF --train_path train.bilou_CRF --val_path validation.bilou_CRF --test_path test.bilou_CRF --emb_path /disks/md0-4T/users/b.mgm/data/embedding/pretrained_embedding.txt --char_emb_dim 25 --word_emb_dim 100 --val_batch_size 64 --max_epochs 100 --rnn_dim 200 --char_rnn 25 --word_min_freq 0 --train_batch_size 4 --checkpoint /disks/md0-4T/users/b.mgm/checkpoints/training_36___rnn_dim_200__char_rnn_25__word_min_freq_0__train_batch_size_4  | tee -a /disks/md0-4T/users/b.mgm/logs/training_36___rnn_dim_200__char_rnn_25__word_min_freq_0__train_batch_size_4.log\n",
      "python /disks/md0-4T/users/b.mgm/model/train.py --data_path /disks/md0-4T/users/b.mgm/data/CRF --train_path train.bilou_CRF --val_path validation.bilou_CRF --test_path test.bilou_CRF --emb_path /disks/md0-4T/users/b.mgm/data/embedding/pretrained_embedding.txt --char_emb_dim 25 --word_emb_dim 100 --val_batch_size 64 --max_epochs 100 --rnn_dim 200 --char_rnn 25 --word_min_freq 0 --train_batch_size 8 --checkpoint /disks/md0-4T/users/b.mgm/checkpoints/training_37___rnn_dim_200__char_rnn_25__word_min_freq_0__train_batch_size_8  | tee -a /disks/md0-4T/users/b.mgm/logs/training_37___rnn_dim_200__char_rnn_25__word_min_freq_0__train_batch_size_8.log\n",
      "python /disks/md0-4T/users/b.mgm/model/train.py --data_path /disks/md0-4T/users/b.mgm/data/CRF --train_path train.bilou_CRF --val_path validation.bilou_CRF --test_path test.bilou_CRF --emb_path /disks/md0-4T/users/b.mgm/data/embedding/pretrained_embedding.txt --char_emb_dim 25 --word_emb_dim 100 --val_batch_size 64 --max_epochs 100 --rnn_dim 200 --char_rnn 25 --word_min_freq 0 --train_batch_size 16 --checkpoint /disks/md0-4T/users/b.mgm/checkpoints/training_38___rnn_dim_200__char_rnn_25__word_min_freq_0__train_batch_size_16  | tee -a /disks/md0-4T/users/b.mgm/logs/training_38___rnn_dim_200__char_rnn_25__word_min_freq_0__train_batch_size_16.log\n",
      "python /disks/md0-4T/users/b.mgm/model/train.py --data_path /disks/md0-4T/users/b.mgm/data/CRF --train_path train.bilou_CRF --val_path validation.bilou_CRF --test_path test.bilou_CRF --emb_path /disks/md0-4T/users/b.mgm/data/embedding/pretrained_embedding.txt --char_emb_dim 25 --word_emb_dim 100 --val_batch_size 64 --max_epochs 100 --rnn_dim 200 --char_rnn 25 --word_min_freq 5 --train_batch_size 4 --checkpoint /disks/md0-4T/users/b.mgm/checkpoints/training_39___rnn_dim_200__char_rnn_25__word_min_freq_5__train_batch_size_4  | tee -a /disks/md0-4T/users/b.mgm/logs/training_39___rnn_dim_200__char_rnn_25__word_min_freq_5__train_batch_size_4.log\n",
      "python /disks/md0-4T/users/b.mgm/model/train.py --data_path /disks/md0-4T/users/b.mgm/data/CRF --train_path train.bilou_CRF --val_path validation.bilou_CRF --test_path test.bilou_CRF --emb_path /disks/md0-4T/users/b.mgm/data/embedding/pretrained_embedding.txt --char_emb_dim 25 --word_emb_dim 100 --val_batch_size 64 --max_epochs 100 --rnn_dim 200 --char_rnn 25 --word_min_freq 5 --train_batch_size 8 --checkpoint /disks/md0-4T/users/b.mgm/checkpoints/training_40___rnn_dim_200__char_rnn_25__word_min_freq_5__train_batch_size_8  | tee -a /disks/md0-4T/users/b.mgm/logs/training_40___rnn_dim_200__char_rnn_25__word_min_freq_5__train_batch_size_8.log\n",
      "python /disks/md0-4T/users/b.mgm/model/train.py --data_path /disks/md0-4T/users/b.mgm/data/CRF --train_path train.bilou_CRF --val_path validation.bilou_CRF --test_path test.bilou_CRF --emb_path /disks/md0-4T/users/b.mgm/data/embedding/pretrained_embedding.txt --char_emb_dim 25 --word_emb_dim 100 --val_batch_size 64 --max_epochs 100 --rnn_dim 200 --char_rnn 25 --word_min_freq 5 --train_batch_size 16 --checkpoint /disks/md0-4T/users/b.mgm/checkpoints/training_41___rnn_dim_200__char_rnn_25__word_min_freq_5__train_batch_size_16  | tee -a /disks/md0-4T/users/b.mgm/logs/training_41___rnn_dim_200__char_rnn_25__word_min_freq_5__train_batch_size_16.log\n",
      "python /disks/md0-4T/users/b.mgm/model/train.py --data_path /disks/md0-4T/users/b.mgm/data/CRF --train_path train.bilou_CRF --val_path validation.bilou_CRF --test_path test.bilou_CRF --emb_path /disks/md0-4T/users/b.mgm/data/embedding/pretrained_embedding.txt --char_emb_dim 25 --word_emb_dim 100 --val_batch_size 64 --max_epochs 100 --rnn_dim 200 --char_rnn 25 --word_min_freq 10 --train_batch_size 4 --checkpoint /disks/md0-4T/users/b.mgm/checkpoints/training_42___rnn_dim_200__char_rnn_25__word_min_freq_10__train_batch_size_4  | tee -a /disks/md0-4T/users/b.mgm/logs/training_42___rnn_dim_200__char_rnn_25__word_min_freq_10__train_batch_size_4.log\n",
      "python /disks/md0-4T/users/b.mgm/model/train.py --data_path /disks/md0-4T/users/b.mgm/data/CRF --train_path train.bilou_CRF --val_path validation.bilou_CRF --test_path test.bilou_CRF --emb_path /disks/md0-4T/users/b.mgm/data/embedding/pretrained_embedding.txt --char_emb_dim 25 --word_emb_dim 100 --val_batch_size 64 --max_epochs 100 --rnn_dim 200 --char_rnn 25 --word_min_freq 10 --train_batch_size 8 --checkpoint /disks/md0-4T/users/b.mgm/checkpoints/training_43___rnn_dim_200__char_rnn_25__word_min_freq_10__train_batch_size_8  | tee -a /disks/md0-4T/users/b.mgm/logs/training_43___rnn_dim_200__char_rnn_25__word_min_freq_10__train_batch_size_8.log\n",
      "python /disks/md0-4T/users/b.mgm/model/train.py --data_path /disks/md0-4T/users/b.mgm/data/CRF --train_path train.bilou_CRF --val_path validation.bilou_CRF --test_path test.bilou_CRF --emb_path /disks/md0-4T/users/b.mgm/data/embedding/pretrained_embedding.txt --char_emb_dim 25 --word_emb_dim 100 --val_batch_size 64 --max_epochs 100 --rnn_dim 200 --char_rnn 25 --word_min_freq 10 --train_batch_size 16 --checkpoint /disks/md0-4T/users/b.mgm/checkpoints/training_44___rnn_dim_200__char_rnn_25__word_min_freq_10__train_batch_size_16  | tee -a /disks/md0-4T/users/b.mgm/logs/training_44___rnn_dim_200__char_rnn_25__word_min_freq_10__train_batch_size_16.log\n",
      "python /disks/md0-4T/users/b.mgm/model/train.py --data_path /disks/md0-4T/users/b.mgm/data/CRF --train_path train.bilou_CRF --val_path validation.bilou_CRF --test_path test.bilou_CRF --emb_path /disks/md0-4T/users/b.mgm/data/embedding/pretrained_embedding.txt --char_emb_dim 25 --word_emb_dim 100 --val_batch_size 64 --max_epochs 100 --rnn_dim 200 --char_rnn 50 --word_min_freq 0 --train_batch_size 4 --checkpoint /disks/md0-4T/users/b.mgm/checkpoints/training_45___rnn_dim_200__char_rnn_50__word_min_freq_0__train_batch_size_4  | tee -a /disks/md0-4T/users/b.mgm/logs/training_45___rnn_dim_200__char_rnn_50__word_min_freq_0__train_batch_size_4.log\n",
      "python /disks/md0-4T/users/b.mgm/model/train.py --data_path /disks/md0-4T/users/b.mgm/data/CRF --train_path train.bilou_CRF --val_path validation.bilou_CRF --test_path test.bilou_CRF --emb_path /disks/md0-4T/users/b.mgm/data/embedding/pretrained_embedding.txt --char_emb_dim 25 --word_emb_dim 100 --val_batch_size 64 --max_epochs 100 --rnn_dim 200 --char_rnn 50 --word_min_freq 0 --train_batch_size 8 --checkpoint /disks/md0-4T/users/b.mgm/checkpoints/training_46___rnn_dim_200__char_rnn_50__word_min_freq_0__train_batch_size_8  | tee -a /disks/md0-4T/users/b.mgm/logs/training_46___rnn_dim_200__char_rnn_50__word_min_freq_0__train_batch_size_8.log\n",
      "python /disks/md0-4T/users/b.mgm/model/train.py --data_path /disks/md0-4T/users/b.mgm/data/CRF --train_path train.bilou_CRF --val_path validation.bilou_CRF --test_path test.bilou_CRF --emb_path /disks/md0-4T/users/b.mgm/data/embedding/pretrained_embedding.txt --char_emb_dim 25 --word_emb_dim 100 --val_batch_size 64 --max_epochs 100 --rnn_dim 200 --char_rnn 50 --word_min_freq 0 --train_batch_size 16 --checkpoint /disks/md0-4T/users/b.mgm/checkpoints/training_47___rnn_dim_200__char_rnn_50__word_min_freq_0__train_batch_size_16  | tee -a /disks/md0-4T/users/b.mgm/logs/training_47___rnn_dim_200__char_rnn_50__word_min_freq_0__train_batch_size_16.log\n",
      "python /disks/md0-4T/users/b.mgm/model/train.py --data_path /disks/md0-4T/users/b.mgm/data/CRF --train_path train.bilou_CRF --val_path validation.bilou_CRF --test_path test.bilou_CRF --emb_path /disks/md0-4T/users/b.mgm/data/embedding/pretrained_embedding.txt --char_emb_dim 25 --word_emb_dim 100 --val_batch_size 64 --max_epochs 100 --rnn_dim 200 --char_rnn 50 --word_min_freq 5 --train_batch_size 4 --checkpoint /disks/md0-4T/users/b.mgm/checkpoints/training_48___rnn_dim_200__char_rnn_50__word_min_freq_5__train_batch_size_4  | tee -a /disks/md0-4T/users/b.mgm/logs/training_48___rnn_dim_200__char_rnn_50__word_min_freq_5__train_batch_size_4.log\n",
      "python /disks/md0-4T/users/b.mgm/model/train.py --data_path /disks/md0-4T/users/b.mgm/data/CRF --train_path train.bilou_CRF --val_path validation.bilou_CRF --test_path test.bilou_CRF --emb_path /disks/md0-4T/users/b.mgm/data/embedding/pretrained_embedding.txt --char_emb_dim 25 --word_emb_dim 100 --val_batch_size 64 --max_epochs 100 --rnn_dim 200 --char_rnn 50 --word_min_freq 5 --train_batch_size 8 --checkpoint /disks/md0-4T/users/b.mgm/checkpoints/training_49___rnn_dim_200__char_rnn_50__word_min_freq_5__train_batch_size_8  | tee -a /disks/md0-4T/users/b.mgm/logs/training_49___rnn_dim_200__char_rnn_50__word_min_freq_5__train_batch_size_8.log\n",
      "python /disks/md0-4T/users/b.mgm/model/train.py --data_path /disks/md0-4T/users/b.mgm/data/CRF --train_path train.bilou_CRF --val_path validation.bilou_CRF --test_path test.bilou_CRF --emb_path /disks/md0-4T/users/b.mgm/data/embedding/pretrained_embedding.txt --char_emb_dim 25 --word_emb_dim 100 --val_batch_size 64 --max_epochs 100 --rnn_dim 200 --char_rnn 50 --word_min_freq 5 --train_batch_size 16 --checkpoint /disks/md0-4T/users/b.mgm/checkpoints/training_50___rnn_dim_200__char_rnn_50__word_min_freq_5__train_batch_size_16  | tee -a /disks/md0-4T/users/b.mgm/logs/training_50___rnn_dim_200__char_rnn_50__word_min_freq_5__train_batch_size_16.log\n",
      "python /disks/md0-4T/users/b.mgm/model/train.py --data_path /disks/md0-4T/users/b.mgm/data/CRF --train_path train.bilou_CRF --val_path validation.bilou_CRF --test_path test.bilou_CRF --emb_path /disks/md0-4T/users/b.mgm/data/embedding/pretrained_embedding.txt --char_emb_dim 25 --word_emb_dim 100 --val_batch_size 64 --max_epochs 100 --rnn_dim 200 --char_rnn 50 --word_min_freq 10 --train_batch_size 4 --checkpoint /disks/md0-4T/users/b.mgm/checkpoints/training_51___rnn_dim_200__char_rnn_50__word_min_freq_10__train_batch_size_4  | tee -a /disks/md0-4T/users/b.mgm/logs/training_51___rnn_dim_200__char_rnn_50__word_min_freq_10__train_batch_size_4.log\n",
      "python /disks/md0-4T/users/b.mgm/model/train.py --data_path /disks/md0-4T/users/b.mgm/data/CRF --train_path train.bilou_CRF --val_path validation.bilou_CRF --test_path test.bilou_CRF --emb_path /disks/md0-4T/users/b.mgm/data/embedding/pretrained_embedding.txt --char_emb_dim 25 --word_emb_dim 100 --val_batch_size 64 --max_epochs 100 --rnn_dim 200 --char_rnn 50 --word_min_freq 10 --train_batch_size 8 --checkpoint /disks/md0-4T/users/b.mgm/checkpoints/training_52___rnn_dim_200__char_rnn_50__word_min_freq_10__train_batch_size_8  | tee -a /disks/md0-4T/users/b.mgm/logs/training_52___rnn_dim_200__char_rnn_50__word_min_freq_10__train_batch_size_8.log\n",
      "python /disks/md0-4T/users/b.mgm/model/train.py --data_path /disks/md0-4T/users/b.mgm/data/CRF --train_path train.bilou_CRF --val_path validation.bilou_CRF --test_path test.bilou_CRF --emb_path /disks/md0-4T/users/b.mgm/data/embedding/pretrained_embedding.txt --char_emb_dim 25 --word_emb_dim 100 --val_batch_size 64 --max_epochs 100 --rnn_dim 200 --char_rnn 50 --word_min_freq 10 --train_batch_size 16 --checkpoint /disks/md0-4T/users/b.mgm/checkpoints/training_53___rnn_dim_200__char_rnn_50__word_min_freq_10__train_batch_size_16  | tee -a /disks/md0-4T/users/b.mgm/logs/training_53___rnn_dim_200__char_rnn_50__word_min_freq_10__train_batch_size_16.log\n",
      "python /disks/md0-4T/users/b.mgm/model/train.py --data_path /disks/md0-4T/users/b.mgm/data/CRF --train_path train.bilou_CRF --val_path validation.bilou_CRF --test_path test.bilou_CRF --emb_path /disks/md0-4T/users/b.mgm/data/embedding/pretrained_embedding.txt --char_emb_dim 25 --word_emb_dim 100 --val_batch_size 64 --max_epochs 100 --rnn_dim 300 --char_rnn 25 --word_min_freq 0 --train_batch_size 4 --checkpoint /disks/md0-4T/users/b.mgm/checkpoints/training_54___rnn_dim_300__char_rnn_25__word_min_freq_0__train_batch_size_4  | tee -a /disks/md0-4T/users/b.mgm/logs/training_54___rnn_dim_300__char_rnn_25__word_min_freq_0__train_batch_size_4.log\n",
      "python /disks/md0-4T/users/b.mgm/model/train.py --data_path /disks/md0-4T/users/b.mgm/data/CRF --train_path train.bilou_CRF --val_path validation.bilou_CRF --test_path test.bilou_CRF --emb_path /disks/md0-4T/users/b.mgm/data/embedding/pretrained_embedding.txt --char_emb_dim 25 --word_emb_dim 100 --val_batch_size 64 --max_epochs 100 --rnn_dim 300 --char_rnn 25 --word_min_freq 0 --train_batch_size 8 --checkpoint /disks/md0-4T/users/b.mgm/checkpoints/training_55___rnn_dim_300__char_rnn_25__word_min_freq_0__train_batch_size_8  | tee -a /disks/md0-4T/users/b.mgm/logs/training_55___rnn_dim_300__char_rnn_25__word_min_freq_0__train_batch_size_8.log\n",
      "python /disks/md0-4T/users/b.mgm/model/train.py --data_path /disks/md0-4T/users/b.mgm/data/CRF --train_path train.bilou_CRF --val_path validation.bilou_CRF --test_path test.bilou_CRF --emb_path /disks/md0-4T/users/b.mgm/data/embedding/pretrained_embedding.txt --char_emb_dim 25 --word_emb_dim 100 --val_batch_size 64 --max_epochs 100 --rnn_dim 300 --char_rnn 25 --word_min_freq 0 --train_batch_size 16 --checkpoint /disks/md0-4T/users/b.mgm/checkpoints/training_56___rnn_dim_300__char_rnn_25__word_min_freq_0__train_batch_size_16  | tee -a /disks/md0-4T/users/b.mgm/logs/training_56___rnn_dim_300__char_rnn_25__word_min_freq_0__train_batch_size_16.log\n",
      "python /disks/md0-4T/users/b.mgm/model/train.py --data_path /disks/md0-4T/users/b.mgm/data/CRF --train_path train.bilou_CRF --val_path validation.bilou_CRF --test_path test.bilou_CRF --emb_path /disks/md0-4T/users/b.mgm/data/embedding/pretrained_embedding.txt --char_emb_dim 25 --word_emb_dim 100 --val_batch_size 64 --max_epochs 100 --rnn_dim 300 --char_rnn 25 --word_min_freq 5 --train_batch_size 4 --checkpoint /disks/md0-4T/users/b.mgm/checkpoints/training_57___rnn_dim_300__char_rnn_25__word_min_freq_5__train_batch_size_4  | tee -a /disks/md0-4T/users/b.mgm/logs/training_57___rnn_dim_300__char_rnn_25__word_min_freq_5__train_batch_size_4.log\n",
      "python /disks/md0-4T/users/b.mgm/model/train.py --data_path /disks/md0-4T/users/b.mgm/data/CRF --train_path train.bilou_CRF --val_path validation.bilou_CRF --test_path test.bilou_CRF --emb_path /disks/md0-4T/users/b.mgm/data/embedding/pretrained_embedding.txt --char_emb_dim 25 --word_emb_dim 100 --val_batch_size 64 --max_epochs 100 --rnn_dim 300 --char_rnn 25 --word_min_freq 5 --train_batch_size 8 --checkpoint /disks/md0-4T/users/b.mgm/checkpoints/training_58___rnn_dim_300__char_rnn_25__word_min_freq_5__train_batch_size_8  | tee -a /disks/md0-4T/users/b.mgm/logs/training_58___rnn_dim_300__char_rnn_25__word_min_freq_5__train_batch_size_8.log\n",
      "python /disks/md0-4T/users/b.mgm/model/train.py --data_path /disks/md0-4T/users/b.mgm/data/CRF --train_path train.bilou_CRF --val_path validation.bilou_CRF --test_path test.bilou_CRF --emb_path /disks/md0-4T/users/b.mgm/data/embedding/pretrained_embedding.txt --char_emb_dim 25 --word_emb_dim 100 --val_batch_size 64 --max_epochs 100 --rnn_dim 300 --char_rnn 25 --word_min_freq 5 --train_batch_size 16 --checkpoint /disks/md0-4T/users/b.mgm/checkpoints/training_59___rnn_dim_300__char_rnn_25__word_min_freq_5__train_batch_size_16  | tee -a /disks/md0-4T/users/b.mgm/logs/training_59___rnn_dim_300__char_rnn_25__word_min_freq_5__train_batch_size_16.log\n",
      "python /disks/md0-4T/users/b.mgm/model/train.py --data_path /disks/md0-4T/users/b.mgm/data/CRF --train_path train.bilou_CRF --val_path validation.bilou_CRF --test_path test.bilou_CRF --emb_path /disks/md0-4T/users/b.mgm/data/embedding/pretrained_embedding.txt --char_emb_dim 25 --word_emb_dim 100 --val_batch_size 64 --max_epochs 100 --rnn_dim 300 --char_rnn 25 --word_min_freq 10 --train_batch_size 4 --checkpoint /disks/md0-4T/users/b.mgm/checkpoints/training_60___rnn_dim_300__char_rnn_25__word_min_freq_10__train_batch_size_4  | tee -a /disks/md0-4T/users/b.mgm/logs/training_60___rnn_dim_300__char_rnn_25__word_min_freq_10__train_batch_size_4.log\n",
      "python /disks/md0-4T/users/b.mgm/model/train.py --data_path /disks/md0-4T/users/b.mgm/data/CRF --train_path train.bilou_CRF --val_path validation.bilou_CRF --test_path test.bilou_CRF --emb_path /disks/md0-4T/users/b.mgm/data/embedding/pretrained_embedding.txt --char_emb_dim 25 --word_emb_dim 100 --val_batch_size 64 --max_epochs 100 --rnn_dim 300 --char_rnn 25 --word_min_freq 10 --train_batch_size 8 --checkpoint /disks/md0-4T/users/b.mgm/checkpoints/training_61___rnn_dim_300__char_rnn_25__word_min_freq_10__train_batch_size_8  | tee -a /disks/md0-4T/users/b.mgm/logs/training_61___rnn_dim_300__char_rnn_25__word_min_freq_10__train_batch_size_8.log\n",
      "python /disks/md0-4T/users/b.mgm/model/train.py --data_path /disks/md0-4T/users/b.mgm/data/CRF --train_path train.bilou_CRF --val_path validation.bilou_CRF --test_path test.bilou_CRF --emb_path /disks/md0-4T/users/b.mgm/data/embedding/pretrained_embedding.txt --char_emb_dim 25 --word_emb_dim 100 --val_batch_size 64 --max_epochs 100 --rnn_dim 300 --char_rnn 25 --word_min_freq 10 --train_batch_size 16 --checkpoint /disks/md0-4T/users/b.mgm/checkpoints/training_62___rnn_dim_300__char_rnn_25__word_min_freq_10__train_batch_size_16  | tee -a /disks/md0-4T/users/b.mgm/logs/training_62___rnn_dim_300__char_rnn_25__word_min_freq_10__train_batch_size_16.log\n",
      "python /disks/md0-4T/users/b.mgm/model/train.py --data_path /disks/md0-4T/users/b.mgm/data/CRF --train_path train.bilou_CRF --val_path validation.bilou_CRF --test_path test.bilou_CRF --emb_path /disks/md0-4T/users/b.mgm/data/embedding/pretrained_embedding.txt --char_emb_dim 25 --word_emb_dim 100 --val_batch_size 64 --max_epochs 100 --rnn_dim 300 --char_rnn 50 --word_min_freq 0 --train_batch_size 4 --checkpoint /disks/md0-4T/users/b.mgm/checkpoints/training_63___rnn_dim_300__char_rnn_50__word_min_freq_0__train_batch_size_4  | tee -a /disks/md0-4T/users/b.mgm/logs/training_63___rnn_dim_300__char_rnn_50__word_min_freq_0__train_batch_size_4.log\n",
      "python /disks/md0-4T/users/b.mgm/model/train.py --data_path /disks/md0-4T/users/b.mgm/data/CRF --train_path train.bilou_CRF --val_path validation.bilou_CRF --test_path test.bilou_CRF --emb_path /disks/md0-4T/users/b.mgm/data/embedding/pretrained_embedding.txt --char_emb_dim 25 --word_emb_dim 100 --val_batch_size 64 --max_epochs 100 --rnn_dim 300 --char_rnn 50 --word_min_freq 0 --train_batch_size 8 --checkpoint /disks/md0-4T/users/b.mgm/checkpoints/training_64___rnn_dim_300__char_rnn_50__word_min_freq_0__train_batch_size_8  | tee -a /disks/md0-4T/users/b.mgm/logs/training_64___rnn_dim_300__char_rnn_50__word_min_freq_0__train_batch_size_8.log\n",
      "python /disks/md0-4T/users/b.mgm/model/train.py --data_path /disks/md0-4T/users/b.mgm/data/CRF --train_path train.bilou_CRF --val_path validation.bilou_CRF --test_path test.bilou_CRF --emb_path /disks/md0-4T/users/b.mgm/data/embedding/pretrained_embedding.txt --char_emb_dim 25 --word_emb_dim 100 --val_batch_size 64 --max_epochs 100 --rnn_dim 300 --char_rnn 50 --word_min_freq 0 --train_batch_size 16 --checkpoint /disks/md0-4T/users/b.mgm/checkpoints/training_65___rnn_dim_300__char_rnn_50__word_min_freq_0__train_batch_size_16  | tee -a /disks/md0-4T/users/b.mgm/logs/training_65___rnn_dim_300__char_rnn_50__word_min_freq_0__train_batch_size_16.log\n",
      "python /disks/md0-4T/users/b.mgm/model/train.py --data_path /disks/md0-4T/users/b.mgm/data/CRF --train_path train.bilou_CRF --val_path validation.bilou_CRF --test_path test.bilou_CRF --emb_path /disks/md0-4T/users/b.mgm/data/embedding/pretrained_embedding.txt --char_emb_dim 25 --word_emb_dim 100 --val_batch_size 64 --max_epochs 100 --rnn_dim 300 --char_rnn 50 --word_min_freq 5 --train_batch_size 4 --checkpoint /disks/md0-4T/users/b.mgm/checkpoints/training_66___rnn_dim_300__char_rnn_50__word_min_freq_5__train_batch_size_4  | tee -a /disks/md0-4T/users/b.mgm/logs/training_66___rnn_dim_300__char_rnn_50__word_min_freq_5__train_batch_size_4.log\n",
      "python /disks/md0-4T/users/b.mgm/model/train.py --data_path /disks/md0-4T/users/b.mgm/data/CRF --train_path train.bilou_CRF --val_path validation.bilou_CRF --test_path test.bilou_CRF --emb_path /disks/md0-4T/users/b.mgm/data/embedding/pretrained_embedding.txt --char_emb_dim 25 --word_emb_dim 100 --val_batch_size 64 --max_epochs 100 --rnn_dim 300 --char_rnn 50 --word_min_freq 5 --train_batch_size 8 --checkpoint /disks/md0-4T/users/b.mgm/checkpoints/training_67___rnn_dim_300__char_rnn_50__word_min_freq_5__train_batch_size_8  | tee -a /disks/md0-4T/users/b.mgm/logs/training_67___rnn_dim_300__char_rnn_50__word_min_freq_5__train_batch_size_8.log\n",
      "python /disks/md0-4T/users/b.mgm/model/train.py --data_path /disks/md0-4T/users/b.mgm/data/CRF --train_path train.bilou_CRF --val_path validation.bilou_CRF --test_path test.bilou_CRF --emb_path /disks/md0-4T/users/b.mgm/data/embedding/pretrained_embedding.txt --char_emb_dim 25 --word_emb_dim 100 --val_batch_size 64 --max_epochs 100 --rnn_dim 300 --char_rnn 50 --word_min_freq 5 --train_batch_size 16 --checkpoint /disks/md0-4T/users/b.mgm/checkpoints/training_68___rnn_dim_300__char_rnn_50__word_min_freq_5__train_batch_size_16  | tee -a /disks/md0-4T/users/b.mgm/logs/training_68___rnn_dim_300__char_rnn_50__word_min_freq_5__train_batch_size_16.log\n",
      "python /disks/md0-4T/users/b.mgm/model/train.py --data_path /disks/md0-4T/users/b.mgm/data/CRF --train_path train.bilou_CRF --val_path validation.bilou_CRF --test_path test.bilou_CRF --emb_path /disks/md0-4T/users/b.mgm/data/embedding/pretrained_embedding.txt --char_emb_dim 25 --word_emb_dim 100 --val_batch_size 64 --max_epochs 100 --rnn_dim 300 --char_rnn 50 --word_min_freq 10 --train_batch_size 4 --checkpoint /disks/md0-4T/users/b.mgm/checkpoints/training_69___rnn_dim_300__char_rnn_50__word_min_freq_10__train_batch_size_4  | tee -a /disks/md0-4T/users/b.mgm/logs/training_69___rnn_dim_300__char_rnn_50__word_min_freq_10__train_batch_size_4.log\n",
      "python /disks/md0-4T/users/b.mgm/model/train.py --data_path /disks/md0-4T/users/b.mgm/data/CRF --train_path train.bilou_CRF --val_path validation.bilou_CRF --test_path test.bilou_CRF --emb_path /disks/md0-4T/users/b.mgm/data/embedding/pretrained_embedding.txt --char_emb_dim 25 --word_emb_dim 100 --val_batch_size 64 --max_epochs 100 --rnn_dim 300 --char_rnn 50 --word_min_freq 10 --train_batch_size 8 --checkpoint /disks/md0-4T/users/b.mgm/checkpoints/training_70___rnn_dim_300__char_rnn_50__word_min_freq_10__train_batch_size_8  | tee -a /disks/md0-4T/users/b.mgm/logs/training_70___rnn_dim_300__char_rnn_50__word_min_freq_10__train_batch_size_8.log\n",
      "python /disks/md0-4T/users/b.mgm/model/train.py --data_path /disks/md0-4T/users/b.mgm/data/CRF --train_path train.bilou_CRF --val_path validation.bilou_CRF --test_path test.bilou_CRF --emb_path /disks/md0-4T/users/b.mgm/data/embedding/pretrained_embedding.txt --char_emb_dim 25 --word_emb_dim 100 --val_batch_size 64 --max_epochs 100 --rnn_dim 300 --char_rnn 50 --word_min_freq 10 --train_batch_size 16 --checkpoint /disks/md0-4T/users/b.mgm/checkpoints/training_71___rnn_dim_300__char_rnn_50__word_min_freq_10__train_batch_size_16  | tee -a /disks/md0-4T/users/b.mgm/logs/training_71___rnn_dim_300__char_rnn_50__word_min_freq_10__train_batch_size_16.log\n",
      "\n"
     ]
    }
   ],
   "source": [
    "train_file = open(json_list[\"output_train\"], 'r')\n",
    "print(\"Train file:\", json_list[\"output_train\"], \"\\n\\n\", train_file.read())\n",
    "train_file.close()"
   ]
  },
  {
   "cell_type": "markdown",
   "metadata": {},
   "source": [
    "## Test file"
   ]
  },
  {
   "cell_type": "code",
   "execution_count": 34,
   "metadata": {},
   "outputs": [
    {
     "name": "stdout",
     "output_type": "stream",
     "text": [
      "Train file: training_commands.lst\n",
      "Train file: training_commands.lst\n"
     ]
    }
   ],
   "source": [
    "test_file = open(json_list[\"output_test\"], 'w')\n",
    "for line in test_list:\n",
    "    test_file.write(line + \"\\n\")\n",
    "test_file.close()"
   ]
  },
  {
   "cell_type": "code",
   "execution_count": 38,
   "metadata": {
    "scrolled": true
   },
   "outputs": [
    {
     "ename": "FileNotFoundError",
     "evalue": "[Errno 2] No such file or directory: 'test_commands.lst'",
     "output_type": "error",
     "traceback": [
      "\u001b[0;31m---------------------------------------------------------------------------\u001b[0m",
      "\u001b[0;31mFileNotFoundError\u001b[0m                         Traceback (most recent call last)",
      "\u001b[0;32m<ipython-input-38-d465883887f5>\u001b[0m in \u001b[0;36m<module>\u001b[0;34m()\u001b[0m\n\u001b[0;32m----> 1\u001b[0;31m \u001b[0mtest_file\u001b[0m \u001b[0;34m=\u001b[0m \u001b[0mopen\u001b[0m\u001b[0;34m(\u001b[0m\u001b[0mjson_list\u001b[0m\u001b[0;34m[\u001b[0m\u001b[0;34m\"output_test\"\u001b[0m\u001b[0;34m]\u001b[0m\u001b[0;34m,\u001b[0m \u001b[0;34m'r'\u001b[0m\u001b[0;34m)\u001b[0m\u001b[0;34m\u001b[0m\u001b[0m\n\u001b[0m\u001b[1;32m      2\u001b[0m \u001b[0mprint\u001b[0m\u001b[0;34m(\u001b[0m\u001b[0;34m\"Test file:\"\u001b[0m\u001b[0;34m,\u001b[0m \u001b[0mjson_list\u001b[0m\u001b[0;34m[\u001b[0m\u001b[0;34m\"output_test\"\u001b[0m\u001b[0;34m]\u001b[0m\u001b[0;34m,\u001b[0m \u001b[0;34m\"\\n\\n\"\u001b[0m\u001b[0;34m,\u001b[0m \u001b[0mtest_file\u001b[0m\u001b[0;34m.\u001b[0m\u001b[0mread\u001b[0m\u001b[0;34m(\u001b[0m\u001b[0;34m)\u001b[0m\u001b[0;34m)\u001b[0m\u001b[0;34m\u001b[0m\u001b[0m\n\u001b[1;32m      3\u001b[0m \u001b[0mtest_file\u001b[0m\u001b[0;34m.\u001b[0m\u001b[0mclose\u001b[0m\u001b[0;34m(\u001b[0m\u001b[0;34m)\u001b[0m\u001b[0;34m\u001b[0m\u001b[0m\n",
      "\u001b[0;31mFileNotFoundError\u001b[0m: [Errno 2] No such file or directory: 'test_commands.lst'"
     ]
    }
   ],
   "source": [
    "test_file = open(json_list[\"output_test\"], 'r')\n",
    "print(\"Test file:\", json_list[\"output_test\"], \"\\n\\n\", test_file.read())\n",
    "test_file.close()"
   ]
  },
  {
   "cell_type": "code",
   "execution_count": 22,
   "metadata": {},
   "outputs": [
    {
     "name": "stdout",
     "output_type": "stream",
     "text": [
      "['0', '1', '2', '3', '4', '5', '6', '7', '8', '9'] ['9', '8', '7', '6', '5', '4', '3', '2', '1', '0']\n"
     ]
    }
   ],
   "source": [
    "name = []\n",
    "for i in range(0,10):\n",
    "    name.append(str(i))\n",
    "name2 = name.copy()\n",
    "name2.sort(reverse=True)\n",
    "print(name, name2)"
   ]
  }
 ],
 "metadata": {
  "kernelspec": {
   "display_name": "Python 3",
   "language": "python",
   "name": "python3"
  },
  "language_info": {
   "codemirror_mode": {
    "name": "ipython",
    "version": 3
   },
   "file_extension": ".py",
   "mimetype": "text/x-python",
   "name": "python",
   "nbconvert_exporter": "python",
   "pygments_lexer": "ipython3",
   "version": "3.6.6"
  }
 },
 "nbformat": 4,
 "nbformat_minor": 2
}
