{
 "cells": [
  {
   "cell_type": "markdown",
   "metadata": {},
   "source": [
    "# Importing Libraries & Reading JSON"
   ]
  },
  {
   "cell_type": "code",
   "execution_count": 1,
   "metadata": {},
   "outputs": [
    {
     "name": "stdout",
     "output_type": "stream",
     "text": [
      "parameters_json_file.json just opened\n",
      "{'word_min_freq': [0, 5], 'char_rnn': [25, 50]}\n"
     ]
    }
   ],
   "source": [
    "import sys\n",
    "import os\n",
    "import json\n",
    "import itertools\n",
    "\n",
    "json_list = json.load(open('parameters_json_file.json', 'r'))\n",
    "print(\"parameters_json_file.json just opened\")\n",
    "\n",
    "data = json_list[\"data\"]\n",
    "parameters = json_list[\"parameters\"]\n",
    "fixed_parameters = parameters[\"fixed\"]\n",
    "iterable_parameters = parameters[\"iterable\"]\n",
    "print(iterable_parameters)"
   ]
  },
  {
   "cell_type": "markdown",
   "metadata": {},
   "source": [
    "## Parameters Combinations"
   ]
  },
  {
   "cell_type": "code",
   "execution_count": 11,
   "metadata": {},
   "outputs": [
    {
     "name": "stdout",
     "output_type": "stream",
     "text": [
      "word_min_freq \t [0, 5]\n",
      "char_rnn \t [25, 50]\n",
      "\n",
      "Number of combinations to try: 4\n"
     ]
    }
   ],
   "source": [
    "listofvalues=iterable_parameters.values()\n",
    "args_list = []\n",
    "for it_key in iterable_parameters:\n",
    "    print(it_key, \"\\t\", iterable_parameters[it_key])\n",
    "    args_list.append(it_key)\n",
    "parameter_combinations = list(itertools.product(*listofvalues))\n",
    "print(\"\\nNumber of combinations to try:\", len(parameter_combinations))\n"
   ]
  },
  {
   "cell_type": "markdown",
   "metadata": {},
   "source": [
    "## Class: Command - add_arg()"
   ]
  },
  {
   "cell_type": "code",
   "execution_count": 12,
   "metadata": {},
   "outputs": [],
   "source": [
    "class Command_string:\n",
    "    def __init__(self, initial_string = \"python train.py\"):\n",
    "        self.string = initial_string\n",
    "    \n",
    "    def change(self, new_string):\n",
    "        self.string = new_string\n",
    "        \n",
    "    def add_arg_dic(self, key, dic):\n",
    "        self.string += \" --\" + key + \" \" + str(dic[key])\n",
    "    \n",
    "    def add_arg_val(self, key, val):\n",
    "        self.string += \" --\" + key + \" \" + str(val)"
   ]
  },
  {
   "cell_type": "markdown",
   "metadata": {},
   "source": [
    "## Commands String"
   ]
  },
  {
   "cell_type": "markdown",
   "metadata": {},
   "source": [
    "### Fixed string part"
   ]
  },
  {
   "cell_type": "code",
   "execution_count": 13,
   "metadata": {},
   "outputs": [
    {
     "name": "stdout",
     "output_type": "stream",
     "text": [
      "python train.py --train_path train.bilou_CRF --val_path validation.bilou_CRF --test_path test.bilou_CRF --data_path data/path --emb_path data/pretrained_embedding.txt --max_epochs 100 --char_emb_dim 25 --word_emb_dim 100\n"
     ]
    }
   ],
   "source": [
    "fixed_command = Command_string()\n",
    "\n",
    "for path_key in data:\n",
    "    fixed_command.add_arg_dic(path_key, data)\n",
    "for fixed_par_key in fixed_parameters:\n",
    "    fixed_command.add_arg_dic(fixed_par_key, fixed_parameters)\n",
    "print(fixed_command.string)"
   ]
  },
  {
   "cell_type": "markdown",
   "metadata": {},
   "source": [
    "### Changing part (due to arguments combinations) --> list of strings"
   ]
  },
  {
   "cell_type": "code",
   "execution_count": 16,
   "metadata": {},
   "outputs": [
    {
     "name": "stdout",
     "output_type": "stream",
     "text": [
      "training_0___word_min_freq_0__char_rnn_25\n",
      "training_1___word_min_freq_0__char_rnn_50\n",
      "training_2___word_min_freq_5__char_rnn_25\n",
      "training_3___word_min_freq_5__char_rnn_50\n",
      "List length: 4\n",
      "List command 1 (2/4):\n",
      "python train.py --train_path train.bilou_CRF --val_path validation.bilou_CRF --test_path test.bilou_CRF --data_path data/path --emb_path data/pretrained_embedding.txt --max_epochs 100 --char_emb_dim 25 --word_emb_dim 100 --word_min_freq 0 --checkpoint /disks/md0-4T/users/b.mgm/checkpoints/training_1___word_min_freq_0 --char_rnn 50 --checkpoint /disks/md0-4T/users/b.mgm/checkpoints/training_1___word_min_freq_0__char_rnn_50 | tee -a /disks/md0-4T/users/b.mgm/checkpoints/training_1___word_min_freq_0__char_rnn_50/training_1___word_min_freq_0__char_rnn_50.log\n"
     ]
    }
   ],
   "source": [
    "commands_list = []\n",
    "tmp_command = Command_string()\n",
    "#print(tmp_command.string)\n",
    "\n",
    "for comb in parameter_combinations:\n",
    "    tmp_command.change(fixed_command.string)\n",
    "    comb_num = parameter_combinations.index(comb)\n",
    "    name = \"training_\" + str(comb_num) + \"_\"\n",
    "    for it_par_key in iterable_parameters:\n",
    "        key_index = list(iterable_parameters.keys()).index(it_par_key)\n",
    "        tmp_command.add_arg_val(it_par_key, comb[key_index])\n",
    "        #print(key_index, it_par_key, comb[key_index])\n",
    "        name += \"__\" + it_par_key + \"_\" + str(comb[key_index])\n",
    "        checkpoint_dir = json_list[\"checkpoints\"] + \"/\" + name\n",
    "        tmp_command.add_arg_val(\"checkpoint\", checkpoint_dir)\n",
    "    #print(\"--> \\n\", tmp_command.string, \"\\n\")\n",
    "    print(name)\n",
    "    post_command = \" | tee -a \" + checkpoint_dir + \"/\" + name + \".log\"\n",
    "    commands_list.append(tmp_command.string + post_command)\n",
    "print(\"List length:\", len(commands_list))\n",
    "index_to_show = 1\n",
    "print(\"List command %d (%d/%d):\\n%s\" % (index_to_show, index_to_show+1, len(commands_list), commands_list[index_to_show]))"
   ]
  },
  {
   "cell_type": "markdown",
   "metadata": {},
   "source": [
    "# Output File"
   ]
  },
  {
   "cell_type": "markdown",
   "metadata": {},
   "source": [
    "## Opening File"
   ]
  },
  {
   "cell_type": "code",
   "execution_count": 17,
   "metadata": {},
   "outputs": [
    {
     "name": "stdout",
     "output_type": "stream",
     "text": [
      "Opening writing file\n",
      "Name of file: training_commands.lst\n"
     ]
    }
   ],
   "source": [
    "print(\"Opening writing file\")\n",
    "out_file_name = json_list[\"output_name\"]\n",
    "print(\"Name of file:\", out_file_name)\n",
    "out_file = open(out_file_name, 'w') # Passar a 'x' per a que creï un nou fitxer i sinó ERROR"
   ]
  },
  {
   "cell_type": "markdown",
   "metadata": {},
   "source": [
    "## Printing String into File"
   ]
  },
  {
   "cell_type": "code",
   "execution_count": 18,
   "metadata": {},
   "outputs": [],
   "source": [
    "for line in commands_list:\n",
    "    out_file.write(line + \"\\n\")\n",
    "out_file.close()"
   ]
  },
  {
   "cell_type": "code",
   "execution_count": 19,
   "metadata": {},
   "outputs": [
    {
     "name": "stdout",
     "output_type": "stream",
     "text": [
      "python train.py --train_path train.bilou_CRF --val_path validation.bilou_CRF --test_path test.bilou_CRF --data_path data/path --emb_path data/pretrained_embedding.txt --max_epochs 100 --char_emb_dim 25 --word_emb_dim 100 --word_min_freq 0 --checkpoint /disks/md0-4T/users/b.mgm/checkpoints/training_0___word_min_freq_0 --char_rnn 25 --checkpoint /disks/md0-4T/users/b.mgm/checkpoints/training_0___word_min_freq_0__char_rnn_25 | tee -a /disks/md0-4T/users/b.mgm/checkpoints/training_0___word_min_freq_0__char_rnn_25/training_0___word_min_freq_0__char_rnn_25.log\n",
      "python train.py --train_path train.bilou_CRF --val_path validation.bilou_CRF --test_path test.bilou_CRF --data_path data/path --emb_path data/pretrained_embedding.txt --max_epochs 100 --char_emb_dim 25 --word_emb_dim 100 --word_min_freq 0 --checkpoint /disks/md0-4T/users/b.mgm/checkpoints/training_1___word_min_freq_0 --char_rnn 50 --checkpoint /disks/md0-4T/users/b.mgm/checkpoints/training_1___word_min_freq_0__char_rnn_50 | tee -a /disks/md0-4T/users/b.mgm/checkpoints/training_1___word_min_freq_0__char_rnn_50/training_1___word_min_freq_0__char_rnn_50.log\n",
      "python train.py --train_path train.bilou_CRF --val_path validation.bilou_CRF --test_path test.bilou_CRF --data_path data/path --emb_path data/pretrained_embedding.txt --max_epochs 100 --char_emb_dim 25 --word_emb_dim 100 --word_min_freq 5 --checkpoint /disks/md0-4T/users/b.mgm/checkpoints/training_2___word_min_freq_5 --char_rnn 25 --checkpoint /disks/md0-4T/users/b.mgm/checkpoints/training_2___word_min_freq_5__char_rnn_25 | tee -a /disks/md0-4T/users/b.mgm/checkpoints/training_2___word_min_freq_5__char_rnn_25/training_2___word_min_freq_5__char_rnn_25.log\n",
      "python train.py --train_path train.bilou_CRF --val_path validation.bilou_CRF --test_path test.bilou_CRF --data_path data/path --emb_path data/pretrained_embedding.txt --max_epochs 100 --char_emb_dim 25 --word_emb_dim 100 --word_min_freq 5 --checkpoint /disks/md0-4T/users/b.mgm/checkpoints/training_3___word_min_freq_5 --char_rnn 50 --checkpoint /disks/md0-4T/users/b.mgm/checkpoints/training_3___word_min_freq_5__char_rnn_50 | tee -a /disks/md0-4T/users/b.mgm/checkpoints/training_3___word_min_freq_5__char_rnn_50/training_3___word_min_freq_5__char_rnn_50.log\n",
      "\n"
     ]
    }
   ],
   "source": [
    "out_file = open(out_file_name, 'r')\n",
    "print(out_file.read())\n",
    "out_file.close()"
   ]
  },
  {
   "cell_type": "code",
   "execution_count": 123,
   "metadata": {},
   "outputs": [],
   "source": [
    "def add_parameter(string, key, dic):\n",
    "    return command + \" --\" + key + \" \" + str(dic[key])"
   ]
  },
  {
   "cell_type": "code",
   "execution_count": 124,
   "metadata": {},
   "outputs": [
    {
     "name": "stdout",
     "output_type": "stream",
     "text": [
      "python train.py --data_path data/path --train_path train.bilou_CRF --val_path validation.bilou_CRF --test_path test.bilou_CRF --emb_path data/pretrained_embedding.txt --max_epochs 100 --char_emb_dim 25 --word_emb_dim 100\n"
     ]
    }
   ],
   "source": [
    "command_string = \"python train.py\"\n",
    "#for comb in parameter_combinations:\n",
    "for path_key in data:\n",
    "    command_string = add_parameter(string=command_string, key=path_key, dic=path)\n",
    "for fixed_par_key in fixed_parameters:\n",
    "    command_string = add_parameter(string=command_string, key=fixed_par_key, dic=fixed_parameters)\n",
    "for comb in parameter_combinations:\n",
    "    for it_par_key in iterable_parameters:\n",
    "        command_string = add_parameter(string=command_string)\n",
    "print(command_string)"
   ]
  }
 ],
 "metadata": {
  "kernelspec": {
   "display_name": "Python 3",
   "language": "python",
   "name": "python3"
  },
  "language_info": {
   "codemirror_mode": {
    "name": "ipython",
    "version": 3
   },
   "file_extension": ".py",
   "mimetype": "text/x-python",
   "name": "python",
   "nbconvert_exporter": "python",
   "pygments_lexer": "ipython3",
   "version": "3.5.2"
  }
 },
 "nbformat": 4,
 "nbformat_minor": 2
}
